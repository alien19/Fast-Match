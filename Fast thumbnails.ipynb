{
 "metadata": {
  "name": "",
  "signature": "sha256:3def03dfbea27531d0971d306b1cb791760ff1d4aeeff4c8d73ba99d3827276b"
 },
 "nbformat": 3,
 "nbformat_minor": 0,
 "worksheets": [
  {
   "cells": [
    {
     "cell_type": "code",
     "collapsed": false,
     "input": [
      "%load_ext autoreload\n",
      "%autoreload 2"
     ],
     "language": "python",
     "metadata": {},
     "outputs": [],
     "prompt_number": 1
    },
    {
     "cell_type": "code",
     "collapsed": false,
     "input": [
      "import numpy\n",
      "from cache import *\n",
      "from sklearn.neighbors import KDTree\n",
      "from sklearn.neighbors.ball_tree import BallTree\n",
      "import pyflann"
     ],
     "language": "python",
     "metadata": {},
     "outputs": [],
     "prompt_number": 16
    },
    {
     "cell_type": "code",
     "collapsed": false,
     "input": [
      "#object_types = [\"Conch\", \"FlowerLamp\", \"Motorcycle\", \"Rock\", \"Bannanas\", \"Car\", \"Desk\", \"GrandfatherClock\", \"Robot\", \"TeddyBear\", \"Base\", \"Car2\", \"Dog\", \"Horse\", \"Tricycle\"]\n",
      "#path = turntable.get_turntable_path(object_types[0], 0, \"Bottom\")\n",
      "path = \"../../Images/big/108ab.jpg\"\n",
      "%timeit data = scale_cv(path).scale()\n",
      "%timeit data = scale_vips(path).scale()\n",
      "%timeit data = numpy.array(scale_pil(path).scale(), dtype=uint8)\n",
      "%timeit data = numpy.array(scale_pil_antialias(path).scale(), dtype=uint8)\n",
      "\n"
     ],
     "language": "python",
     "metadata": {},
     "outputs": [
      {
       "output_type": "stream",
       "stream": "stdout",
       "text": [
        "1 loops, best of 3: 1.14 s per loop\n",
        "1 loops, best of 3: 825 ms per loop"
       ]
      },
      {
       "output_type": "stream",
       "stream": "stdout",
       "text": [
        "\n",
        "1 loops, best of 3: 280 ms per loop"
       ]
      },
      {
       "output_type": "stream",
       "stream": "stdout",
       "text": [
        "\n",
        "1 loops, best of 3: 291 ms per loop"
       ]
      },
      {
       "output_type": "stream",
       "stream": "stdout",
       "text": [
        "\n"
       ]
      }
     ],
     "prompt_number": 8
    },
    {
     "cell_type": "code",
     "collapsed": false,
     "input": [
      "path = \"../../Images/big/108ab.bmp\"\n",
      "size = (4000, 4000)\n",
      "%timeit data = scale_cv(path).scale(size)\n",
      "%timeit data = scale_vips(path).scale(size)\n",
      "%timeit data = numpy.array(scale_pil(path).scale(size), dtype=uint8)\n",
      "%timeit data = numpy.array(scale_pil_antialias(path).scale(size), dtype=uint8)"
     ],
     "language": "python",
     "metadata": {},
     "outputs": [
      {
       "output_type": "stream",
       "stream": "stdout",
       "text": [
        "1 loops, best of 3: 977 ms per loop\n",
        "1 loops, best of 3: 779 ms per loop"
       ]
      },
      {
       "output_type": "stream",
       "stream": "stdout",
       "text": [
        "\n",
        "1 loops, best of 3: 410 ms per loop"
       ]
      },
      {
       "output_type": "stream",
       "stream": "stdout",
       "text": [
        "\n",
        "1 loops, best of 3: 4.99 s per loop"
       ]
      },
      {
       "output_type": "stream",
       "stream": "stdout",
       "text": [
        "\n"
       ]
      }
     ],
     "prompt_number": 9
    },
    {
     "cell_type": "code",
     "collapsed": false,
     "input": [
      "path = \"../../Images/big/108ab.jpg\"\n",
      "%timeit open_pil(path)\n",
      "%timeit open_vips(path)\n",
      "%timeit open_cv(path)"
     ],
     "language": "python",
     "metadata": {},
     "outputs": [
      {
       "output_type": "stream",
       "stream": "stdout",
       "text": [
        "1 loops, best of 3: 1.19 s per loop\n",
        "1 loops, best of 3: 953 ms per loop"
       ]
      },
      {
       "output_type": "stream",
       "stream": "stdout",
       "text": [
        "\n",
        "1 loops, best of 3: 784 ms per loop"
       ]
      },
      {
       "output_type": "stream",
       "stream": "stdout",
       "text": [
        "\n"
       ]
      }
     ],
     "prompt_number": 10
    },
    {
     "cell_type": "code",
     "collapsed": false,
     "input": [
      "def show(data) :\n",
      "    dpi = 80\n",
      "    margin = 0.05 # (5% of the width/height of the figure...)\n",
      "    xpixels, ypixels, zpixels = data.shape\n",
      "\n",
      "    # Make a figure big enough to accomodate an axis of xpixels by ypixels\n",
      "    # as well as the ticklabels, etc...\n",
      "    figsize = (1 + margin) * ypixels / dpi, (1 + margin) * xpixels / dpi\n",
      "\n",
      "    fig = plt.figure(figsize=figsize, dpi=dpi)\n",
      "    # Make the axis the right size...\n",
      "    ax = fig.add_axes([margin, margin, 1 - 2*margin, 1 - 2*margin])\n",
      "\n",
      "    ax.imshow(data)"
     ],
     "language": "python",
     "metadata": {},
     "outputs": [],
     "prompt_number": 11
    },
    {
     "cell_type": "code",
     "collapsed": false,
     "input": [
      "#object_types = [\"Conch\", \"FlowerLamp\", \"Motorcycle\", \"Rock\", \"Bannanas\", \"Car\", \"Desk\", \"GrandfatherClock\", \"Robot\", \"TeddyBear\", \"Base\", \"Car2\", \"Dog\", \"Horse\", \"Tricycle\"]\n",
      "#path = turntable.get_turntable_path(object_types[0], 0, \"Bottom\")\n",
      "path = \"../../Images/big/108ab.bmp\"\n",
      "print(\"Vips:\\t\\t\"),\n",
      "%timeit data = scale_vips(path).scale()\n",
      "print(\"Pil normal:\\t\"),\n",
      "%timeit data = numpy.array(scale_pil(path).scale(), dtype=uint8)\n",
      "print(\"Pil Antialias:\\t\"),\n",
      "%timeit data = numpy.array(scale_pil_antialias(path).scale(), dtype=uint8)\n",
      "\n"
     ],
     "language": "python",
     "metadata": {},
     "outputs": [
      {
       "output_type": "stream",
       "stream": "stdout",
       "text": [
        "Vips:\t\t1 loops, best of 3: 688 ms per loop"
       ]
      },
      {
       "output_type": "stream",
       "stream": "stdout",
       "text": [
        "\n",
        "Pil normal:\t1 loops, best of 3: 246 ms per loop"
       ]
      },
      {
       "output_type": "stream",
       "stream": "stdout",
       "text": [
        "\n",
        "Pil Antialias:\t1 loops, best of 3: 249 ms per loop"
       ]
      },
      {
       "output_type": "stream",
       "stream": "stdout",
       "text": [
        "\n"
       ]
      }
     ],
     "prompt_number": 94
    },
    {
     "cell_type": "code",
     "collapsed": false,
     "input": [
      "def feature_tree(dt, tree_type = \"ball\", options = {}) :\n",
      "    # Create metric tree\n",
      "    if tree_type == \"ball\" :\n",
      "        tree = BallTree(dt,\n",
      "                        leaf_size = options.get(\"leaf_size\", 40),\n",
      "                        metric = options.get(\"metric\", \"minkowski\"))\n",
      "    elif tree_type == \"kdtree\" :\n",
      "        tree = KDTree(dt,\n",
      "                      leaf_size = options.get(\"leaf_size\", 40),\n",
      "                      metric = options.get(\"metric\", \"minkowski\"))\n",
      "    elif tree_type == \"flann\" :\n",
      "        tree = pyflann.FLANN()\n",
      "        params = tree.build_index(dt, \n",
      "                                  algorithm = options.get(\"algorithm\", 1),\n",
      "                                  tree = options.get(\"trees\", 1))  \n",
      "    # Return data\n",
      "    return tree\n",
      "\n",
      "path = \"../../Images/big/109ai.jpg\"\n",
      "data = get_thumbnail(path)\n",
      "kp, dt = get_features(data)\n",
      "print(\"Testing for tree construction time\\n\")\n",
      "print(\"Init tree with %i features\" % (len(kp)))\n",
      "print(\"Kd Tree:\\t\"),\n",
      "%timeit feature_tree(dt, 'kdtree')\n",
      "print(\"Ball Tree:\\t\"),\n",
      "%timeit feature_tree(dt, 'ball')\n",
      "print(\"PyFlann Tree:\\t\"),\n",
      "%timeit feature_tree(dt, 'flann')"
     ],
     "language": "python",
     "metadata": {},
     "outputs": [
      {
       "output_type": "stream",
       "stream": "stdout",
       "text": [
        "Testing for tree construction time\n",
        "\n",
        "Init tree with 117 features\n",
        "Kd Tree:\t1000 loops, best of 3: 243 \u00b5s per loop"
       ]
      },
      {
       "output_type": "stream",
       "stream": "stdout",
       "text": [
        "\n",
        "Ball Tree:\t1000 loops, best of 3: 254 \u00b5s per loop"
       ]
      },
      {
       "output_type": "stream",
       "stream": "stdout",
       "text": [
        "\n",
        "PyFlann Tree:\t100 loops, best of 3: 14.9 ms per loop"
       ]
      },
      {
       "output_type": "stream",
       "stream": "stdout",
       "text": [
        "\n"
       ]
      }
     ],
     "prompt_number": 86
    },
    {
     "cell_type": "code",
     "collapsed": false,
     "input": [
      "# Find fastest matching method:\n",
      "\n",
      "# ball tree\n",
      "def test_ball_tree(dt, k, options = {}) :\n",
      "    tree = feature_tree(dt, tree_type = 'ball', options)\n",
      "    idx, dist = tree.query(dt, k = k, return_distance = True)\n",
      "    result = [(i, d) for i, d in zip(idx, dist)]\n",
      "    return result\n",
      "\n",
      "# KDtree\n",
      "def test_kd_tree(dt, k, options = {}) :\n",
      "    tree = feature_tree(dt, tree_type = 'kdtree', options)\n",
      "    idx, dist = tree.query(dt, k = k, return_distance = True)\n",
      "    result = [(i, d) for i, d in zip(idx, dist)]\n",
      "    return result\n",
      "\n",
      "# flann tree\n",
      "def test_flann_tree(dt, k, options = {}) :\n",
      "    tree = feature_tree(dt, 'flann', options)\n",
      "    idx, dist = tree.nn_index(dt, k, return_distance = True, checks=options.get(\"checks\", 200))\n",
      "    result = [(i, d) for i, d in zip(idx, dist)]\n",
      "    return result\n",
      "\n",
      "#bfmatch\n",
      "def test_bf_match(dt, k) :\n",
      "    matcher = cv2.BFMatcher(cv2.NORM_L2)\n",
      "    return matcher.knnMatch(dt, dt, k=k)\n",
      "\n",
      "    # \"algorithm\"     : {\n",
      "    #    \"linear\"    : 0, \n",
      "    #    \"kdtree\"    : 1, \n",
      "    #    \"kmeans\"    : 2, \n",
      "    #    \"composite\" : 3, \n",
      "    #    \"kdtree_simple\" : 4, \n",
      "    #    \"saved\": 254, \n",
      "    #    \"autotuned\" : 255, \n",
      "    #    \"default\"   : 1\n",
      "    #},\n",
      "def test_flann_cv(dt, k, options = {}) :\n",
      "    FLANN_INDEX_KDTREE = 0\n",
      "    index_params = dict(algorithm = options.get(\"algorithm\",1), trees = options.get(\"trees\", 5))\n",
      "    search_params = dict(checks = options.get(\"checks\", 200))\n",
      "    flann = cv2.FlannBasedMatcher(index_params, search_params)\n",
      "    return flann.knnMatch(dt,dt,k=k)"
     ],
     "language": "python",
     "metadata": {},
     "outputs": [
      {
       "ename": "SyntaxError",
       "evalue": "non-keyword arg after keyword arg (<ipython-input-95-037ff197721c>, line 5)",
       "output_type": "pyerr",
       "traceback": [
        "\u001b[1;36m  File \u001b[1;32m\"<ipython-input-95-037ff197721c>\"\u001b[1;36m, line \u001b[1;32m5\u001b[0m\n\u001b[1;33m    tree = feature_tree(dt, tree_type = 'ball', options)\u001b[0m\n\u001b[1;31mSyntaxError\u001b[0m\u001b[1;31m:\u001b[0m non-keyword arg after keyword arg\n"
       ]
      }
     ],
     "prompt_number": 95
    },
    {
     "cell_type": "code",
     "collapsed": false,
     "input": [
      "path = \"data/images/avant_air/109ai.jpg\"\n",
      "data = get_thumbnail(path, size=(150, 150))\n",
      "kp, dt = get_features(data)\n",
      "print(\"Testing for query time\\n\")\n",
      "print(\"Getting features in (%i,%i) image with %i keypoints:\" % (data.shape[0], data.shape[1], len(kp)))\n",
      "%timeit get_features(data)\n",
      "print(\"Ball Tree:\\t\"),\n",
      "%timeit test_ball_tree(dt, 2)\n",
      "print(\"KD Tree:\\t\"),\n",
      "%timeit test_kd_tree(dt, 2)\n",
      "print(\"PyFlann Tree:\\t\"),\n",
      "%timeit test_flann_tree(dt, 2)\n",
      "print(\"Brute Force:\\t\"),\n",
      "%timeit test_bf_match(dt, 2)\n",
      "print(\"FlannCV Tree:\\t\"),\n",
      "%timeit test_flann_cv(dt, 2, { \"checks\" : 50, \"trees\" : 1 })"
     ],
     "language": "python",
     "metadata": {},
     "outputs": [
      {
       "output_type": "stream",
       "stream": "stdout",
       "text": [
        "Testing for query time\n",
        "\n",
        "Getting features in (99,150) image with 66 keypoints:\n",
        "100 loops, best of 3: 11.7 ms per loop"
       ]
      },
      {
       "output_type": "stream",
       "stream": "stdout",
       "text": [
        "\n",
        "Ball Tree:\t1000 loops, best of 3: 1.11 ms per loop"
       ]
      },
      {
       "output_type": "stream",
       "stream": "stdout",
       "text": [
        "\n",
        "KD Tree:\t1000 loops, best of 3: 1.25 ms per loop"
       ]
      },
      {
       "output_type": "stream",
       "stream": "stdout",
       "text": [
        "\n",
        "PyFlann Tree:\t100 loops, best of 3: 9.7 ms per loop"
       ]
      },
      {
       "output_type": "stream",
       "stream": "stdout",
       "text": [
        "\n",
        "Brute Force:\t1000 loops, best of 3: 240 \u00b5s per loop"
       ]
      },
      {
       "output_type": "stream",
       "stream": "stdout",
       "text": [
        "\n",
        "FlannCV Tree:\t1000 loops, best of 3: 1.09 ms per loop"
       ]
      },
      {
       "output_type": "stream",
       "stream": "stdout",
       "text": [
        "\n"
       ]
      }
     ],
     "prompt_number": 90
    },
    {
     "cell_type": "code",
     "collapsed": false,
     "input": [
      "path = \"data/images/avant_air/109ai.jpg\"\n",
      "data = open_img(path)\n",
      "kp, dt = get_features(data)\n",
      "print(\"Testing for query time\\n\")\n",
      "print(\"Getting features in (%i,%i) image with %i keypoints:\" % (data.shape[0], data.shape[1], len(kp)))\n",
      "%timeit get_features(data)\n",
      "print(\"Ball Tree:\\t\"),\n",
      "%timeit test_ball_tree(dt, 2)\n",
      "print(\"KD Tree:\\t\"),\n",
      "%timeit test_kd_tree(dt, 2)\n",
      "print(\"PyFlann Tree:\\t\"),\n",
      "%timeit test_flann_tree(dt, 2)\n",
      "print(\"Brute Force:\\t\"),\n",
      "%timeit test_bf_match(dt, 2)\n",
      "print(\"FlannCV Tree:\\t\"),\n",
      "%timeit test_flann_cv(dt, 2, { \"checks\" : 400, \"trees\" : 5 })"
     ],
     "language": "python",
     "metadata": {},
     "outputs": [
      {
       "output_type": "stream",
       "stream": "stdout",
       "text": [
        "Testing for query time\n",
        "\n",
        "Getting features in (3541,5330) image with 4012 keypoints:\n",
        "1 loops, best of 3: 9.14 s per loop"
       ]
      },
      {
       "output_type": "stream",
       "stream": "stdout",
       "text": [
        "\n",
        "Ball Tree:\t1 loops, best of 3: 3.45 s per loop"
       ]
      },
      {
       "output_type": "stream",
       "stream": "stdout",
       "text": [
        "\n",
        "KD Tree:\t1 loops, best of 3: 3.73 s per loop"
       ]
      },
      {
       "output_type": "stream",
       "stream": "stdout",
       "text": [
        "\n",
        "PyFlann Tree:\t1 loops, best of 3: 676 ms per loop"
       ]
      },
      {
       "output_type": "stream",
       "stream": "stdout",
       "text": [
        "\n",
        "Brute Force:\t1 loops, best of 3: 825 ms per loop"
       ]
      },
      {
       "output_type": "stream",
       "stream": "stdout",
       "text": [
        "\n",
        "FlannCV Tree:\t1 loops, best of 3: 887 ms per loop"
       ]
      },
      {
       "output_type": "stream",
       "stream": "stdout",
       "text": [
        "\n"
       ]
      }
     ],
     "prompt_number": 92
    },
    {
     "cell_type": "code",
     "collapsed": false,
     "input": [
      "path = \"../../Images/big/109ai.jpg\"\n",
      "data = open_img(path)#, size=(4000, 4000))\n",
      "data.shape\n",
      "print(\"Test thumbnail difference between creating from file and data\\n\")\n",
      "print(\"From file:\\t\"),\n",
      "%timeit get_thumbnail(path)\n",
      "print(\"From data:\\t\"),\n",
      "%timeit get_thumbnail(data)"
     ],
     "language": "python",
     "metadata": {},
     "outputs": [
      {
       "output_type": "stream",
       "stream": "stdout",
       "text": [
        "Test thumbnail difference between creating from file and data\n",
        "\n",
        "From file:\t1 loops, best of 3: 269 ms per loop"
       ]
      },
      {
       "output_type": "stream",
       "stream": "stdout",
       "text": [
        "\n",
        "From data:\t1 loops, best of 3: 312 ms per loop"
       ]
      },
      {
       "output_type": "stream",
       "stream": "stdout",
       "text": [
        "\n"
       ]
      }
     ],
     "prompt_number": 91
    }
   ],
   "metadata": {}
  }
 ]
}