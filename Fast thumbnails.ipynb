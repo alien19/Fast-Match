{
 "metadata": {
  "name": "",
  "signature": "sha256:62a32c21345dc121a984c8dd7791e51d790a050fa23640953194353eb4691f26"
 },
 "nbformat": 3,
 "nbformat_minor": 0,
 "worksheets": [
  {
   "cells": [
    {
     "cell_type": "code",
     "collapsed": false,
     "input": [
      "%load_ext autoreload\n",
      "%autoreload 2"
     ],
     "language": "python",
     "metadata": {},
     "outputs": [],
     "prompt_number": 2
    },
    {
     "cell_type": "code",
     "collapsed": false,
     "input": [
      "import numpy\n",
      "from PIL import Image\n",
      "from io import BytesIO\n",
      "from vipsCC.VImage import VImage\n",
      "#import features\n",
      "import trees\n",
      "import cv2"
     ],
     "language": "python",
     "metadata": {},
     "outputs": [],
     "prompt_number": 3
    },
    {
     "cell_type": "code",
     "collapsed": false,
     "input": [
      "class scale :\n",
      "    width = None\n",
      "    height = None\n",
      "    img = None\n",
      "    \n",
      "    def __init__(self, path) :\n",
      "        self.img = self.open(path)\n",
      "        self.width, self.height = self.get_size()\n",
      "        \n",
      "    def resize(self, size=(200, 200)) :\n",
      "        if self.width > self.height :\n",
      "            width = size[0]\n",
      "            height = int((width / float(self.width)) * self.height)\n",
      "        else :\n",
      "            height = size[1]\n",
      "            width = int((height / float(self.height)) * self.width)\n",
      "        return (width, height)"
     ],
     "language": "python",
     "metadata": {},
     "outputs": [],
     "prompt_number": 4
    },
    {
     "cell_type": "code",
     "collapsed": false,
     "input": [
      "class scale_pil(scale) :\n",
      "    def open(self, path) : return Image.open(path)\n",
      "    def get_size(self) : return self.img.size\n",
      "    def scale(self, size = (200, 200)) :\n",
      "        new_size = self.resize(size)\n",
      "        self.img.thumbnail(new_size)\n",
      "        return self.img"
     ],
     "language": "python",
     "metadata": {},
     "outputs": [],
     "prompt_number": 5
    },
    {
     "cell_type": "code",
     "collapsed": false,
     "input": [
      "class scale_vips(scale) :\n",
      "    def open(self, path) : return VImage(path)\n",
      "    def get_size(self) : return (self.img.Xsize(), self.img.Ysize())\n",
      "    def scale(self, size = (200, 200)) :\n",
      "        new_size = self.resize(size)\n",
      "        ratio = float(new_size[0]) / self.width\n",
      "        scaled = self.img.affinei_all(\"nearest\", ratio, 0, 0, ratio, 0, 0)\n",
      "        data = scaled.tobuffer()\n",
      "        return numpy.reshape(numpy.array(data, dtype=uint8), (scaled.Xsize(), scaled.Ysize(), 3))"
     ],
     "language": "python",
     "metadata": {},
     "outputs": [],
     "prompt_number": 6
    },
    {
     "cell_type": "code",
     "collapsed": false,
     "input": [
      "class scale_pil_antialias(scale_pil) :\n",
      "    def scale(self, size = (200, 200)) :\n",
      "        new_size = self.resize(size)\n",
      "        self.img.thumbnail(map(lambda i : i*2, new_size))\n",
      "        self.img.thumbnail(new_size, Image.ANTIALIAS)\n",
      "        return self.img"
     ],
     "language": "python",
     "metadata": {},
     "outputs": [],
     "prompt_number": 7
    },
    {
     "cell_type": "code",
     "collapsed": false,
     "input": [
      "class scale_cv(scale) :\n",
      "    def open(self, path) : return cv2.imread(path)\n",
      "    def get_size(self) : return self.img.shape[:2]\n",
      "    def scale(self, size = (200, 200)) :\n",
      "        new_size = self.resize(size)\n",
      "        return cv2.resize(self.img, new_size, interpolation=cv2.INTER_AREA)"
     ],
     "language": "python",
     "metadata": {},
     "outputs": [],
     "prompt_number": 8
    },
    {
     "cell_type": "code",
     "collapsed": false,
     "input": [
      "#object_types = [\"Conch\", \"FlowerLamp\", \"Motorcycle\", \"Rock\", \"Bannanas\", \"Car\", \"Desk\", \"GrandfatherClock\", \"Robot\", \"TeddyBear\", \"Base\", \"Car2\", \"Dog\", \"Horse\", \"Tricycle\"]\n",
      "#path = turntable.get_turntable_path(object_types[0], 0, \"Bottom\")\n",
      "path = \"../../Images/big/108ab.jpg\"\n",
      "%timeit data = scale_cv(path).scale()\n",
      "%timeit data = scale_vips(path).scale()\n",
      "%timeit data = numpy.array(scale_pil(path).scale(), dtype=uint8)\n",
      "%timeit data = numpy.array(scale_pil_antialias(path).scale(), dtype=uint8)\n",
      "\n"
     ],
     "language": "python",
     "metadata": {},
     "outputs": [
      {
       "output_type": "stream",
       "stream": "stdout",
       "text": [
        "1 loops, best of 3: 1.11 s per loop\n",
        "1 loops, best of 3: 1.19 s per loop"
       ]
      },
      {
       "output_type": "stream",
       "stream": "stdout",
       "text": [
        "\n",
        "1 loops, best of 3: 281 ms per loop"
       ]
      },
      {
       "output_type": "stream",
       "stream": "stdout",
       "text": [
        "\n",
        "1 loops, best of 3: 293 ms per loop"
       ]
      },
      {
       "output_type": "stream",
       "stream": "stdout",
       "text": [
        "\n"
       ]
      }
     ],
     "prompt_number": 101
    },
    {
     "cell_type": "code",
     "collapsed": false,
     "input": [
      "# Based on the above experiments I define the following thumbnail function\n",
      "def get_thumbnail(path, size = (200, 200)) : \n",
      "    return numpy.array(scale_pil_antialias(path).scale(size), dtype=uint8)"
     ],
     "language": "python",
     "metadata": {},
     "outputs": [],
     "prompt_number": 9
    },
    {
     "cell_type": "code",
     "collapsed": false,
     "input": [
      "path = \"../../Images/big/108ab.bmp\"\n",
      "size = (4000, 4000)\n",
      "%timeit data = scale_cv(path).scale(size)\n",
      "%timeit data = scale_vips(path).scale(size)\n",
      "%timeit data = numpy.array(scale_pil(path).scale(size), dtype=uint8)\n",
      "%timeit data = numpy.array(scale_pil_antialias(path).scale(size), dtype=uint8)"
     ],
     "language": "python",
     "metadata": {},
     "outputs": [
      {
       "output_type": "stream",
       "stream": "stdout",
       "text": [
        "1 loops, best of 3: 349 ms per loop\n",
        "1 loops, best of 3: 776 ms per loop"
       ]
      },
      {
       "output_type": "stream",
       "stream": "stdout",
       "text": [
        "\n",
        "1 loops, best of 3: 404 ms per loop"
       ]
      },
      {
       "output_type": "stream",
       "stream": "stdout",
       "text": [
        "\n",
        "1 loops, best of 3: 5.07 s per loop"
       ]
      },
      {
       "output_type": "stream",
       "stream": "stdout",
       "text": [
        "\n"
       ]
      }
     ],
     "prompt_number": 11
    },
    {
     "cell_type": "code",
     "collapsed": false,
     "input": [
      "def open_pil(path) :\n",
      "    return numpy.array(Image.open(path), dtype=uint8)\n",
      "\n",
      "def open_vips(path) :\n",
      "    img = VImage(path)\n",
      "    return numpy.reshape(numpy.array(img.tobuffer(), dtype=uint8), (img.Xsize(), img.Ysize(), 3))\n",
      "\n",
      "def open_cv(path) :\n",
      "    return cv2.imread(path)"
     ],
     "language": "python",
     "metadata": {},
     "outputs": [],
     "prompt_number": 10
    },
    {
     "cell_type": "code",
     "collapsed": false,
     "input": [
      "path = \"../../Images/big/108ab.jpg\"\n",
      "%timeit open_pil(path)\n",
      "%timeit open_vips(path)\n",
      "%timeit open_cv(path)"
     ],
     "language": "python",
     "metadata": {},
     "outputs": [
      {
       "output_type": "stream",
       "stream": "stdout",
       "text": [
        "1 loops, best of 3: 1.19 s per loop\n",
        "1 loops, best of 3: 921 ms per loop"
       ]
      },
      {
       "output_type": "stream",
       "stream": "stdout",
       "text": [
        "\n",
        "1 loops, best of 3: 784 ms per loop"
       ]
      },
      {
       "output_type": "stream",
       "stream": "stdout",
       "text": [
        "\n"
       ]
      }
     ],
     "prompt_number": 11
    },
    {
     "cell_type": "code",
     "collapsed": false,
     "input": [
      "# Based on the above experiment we're going with opencv for opening images\n",
      "def open_img(path, size = None) :\n",
      "    print(size)\n",
      "    if size == None :\n",
      "        return open_cv(path)\n",
      "    else :\n",
      "        return scale_cv(path).scale(size)"
     ],
     "language": "python",
     "metadata": {},
     "outputs": [],
     "prompt_number": 12
    },
    {
     "cell_type": "code",
     "collapsed": false,
     "input": [
      "def show(data) :\n",
      "    dpi = 80\n",
      "    margin = 0.05 # (5% of the width/height of the figure...)\n",
      "    xpixels, ypixels, zpixels = data.shape\n",
      "\n",
      "    # Make a figure big enough to accomodate an axis of xpixels by ypixels\n",
      "    # as well as the ticklabels, etc...\n",
      "    figsize = (1 + margin) * ypixels / dpi, (1 + margin) * xpixels / dpi\n",
      "\n",
      "    fig = plt.figure(figsize=figsize, dpi=dpi)\n",
      "    # Make the axis the right size...\n",
      "    ax = fig.add_axes([margin, margin, 1 - 2*margin, 1 - 2*margin])\n",
      "\n",
      "    ax.imshow(data)"
     ],
     "language": "python",
     "metadata": {},
     "outputs": [],
     "prompt_number": 13
    },
    {
     "cell_type": "code",
     "collapsed": false,
     "input": [
      "#object_types = [\"Conch\", \"FlowerLamp\", \"Motorcycle\", \"Rock\", \"Bannanas\", \"Car\", \"Desk\", \"GrandfatherClock\", \"Robot\", \"TeddyBear\", \"Base\", \"Car2\", \"Dog\", \"Horse\", \"Tricycle\"]\n",
      "#path = turntable.get_turntable_path(object_types[0], 0, \"Bottom\")\n",
      "path = \"../../Images/big/108ab.bmp\"\n",
      "%timeit data = scale_vips(path).scale()\n",
      "%timeit data = numpy.array(scale_pil(path).scale(), dtype=uint8)\n",
      "%timeit data = numpy.array(scale_pil_antialias(path).scale(), dtype=uint8)\n",
      "\n"
     ],
     "language": "python",
     "metadata": {},
     "outputs": [
      {
       "output_type": "stream",
       "stream": "stdout",
       "text": [
        "1 loops, best of 3: 712 ms per loop\n",
        "1 loops, best of 3: 353 ms per loop"
       ]
      },
      {
       "output_type": "stream",
       "stream": "stdout",
       "text": [
        "\n",
        "1 loops, best of 3: 366 ms per loop"
       ]
      },
      {
       "output_type": "stream",
       "stream": "stdout",
       "text": [
        "\n"
       ]
      }
     ],
     "prompt_number": 16
    },
    {
     "cell_type": "code",
     "collapsed": false,
     "input": [
      "def get_features(data, feature_type = \"SIFT\") :\n",
      "    # find the keypoints and descriptors with SIFT\n",
      "    if feature_type == \"SIFT\" :\n",
      "        return cv2.SIFT().detectAndCompute(data, None)"
     ],
     "language": "python",
     "metadata": {},
     "outputs": [],
     "prompt_number": 14
    },
    {
     "cell_type": "code",
     "collapsed": false,
     "input": [
      "# Get thumbnail\n",
      "path = \"../../Images/big/109ai.jpg\"\n",
      "data = get_thumbnail(path)\n",
      "print(data.shape)\n",
      "show(data)\n",
      "\n",
      "def feature_tree(data, tree_type = \"ball\", options = {}) :\n",
      "    # Get descriptors in image\n",
      "    kp, dt = get_features(data)\n",
      "    #kp = features.getKeypoints(data, {})\n",
      "    #kp, dt = features.getDescriptors(data, kp, {})\n",
      "\n",
      "    # Get tree\n",
      "    thumbnail_tree = trees.init(dt, tree_type, options)\n",
      "    \n",
      "    return kp, dt, thumbnail_tree\n",
      "\n",
      "kp, dt, tree = feature_tree(data)\n",
      "print(len(kp))\n",
      "%timeit trees.init(dt, 'flann')"
     ],
     "language": "python",
     "metadata": {},
     "outputs": [
      {
       "output_type": "stream",
       "stream": "stdout",
       "text": [
        "(132, 200, 3)\n",
        "117"
       ]
      },
      {
       "output_type": "stream",
       "stream": "stdout",
       "text": [
        "\n",
        "100 loops, best of 3: 15.1 ms per loop"
       ]
      },
      {
       "output_type": "stream",
       "stream": "stdout",
       "text": [
        "\n"
       ]
      },
      {
       "metadata": {},
       "output_type": "display_data",
       "png": "[encoded data removed]",
       "text": [
        "<matplotlib.figure.Figure at 0x7f4d7d73a5d0>"
       ]
      }
     ],
     "prompt_number": 15
    },
    {
     "cell_type": "code",
     "collapsed": false,
     "input": [
      "# Find fastest matching method:\n",
      "\n",
      "# ball tree\n",
      "def test_ball_tree(data) :\n",
      "    kp, dt, tree = feature_tree(data, tree_type = 'ball')\n",
      "    return tree(dt, 2)\n",
      "\n",
      "# flann tree\n",
      "def test_flann_tree(data) :\n",
      "    options = {\n",
      "        \"algorithm\" : 1,\n",
      "        \"checks\" : 50,\n",
      "        \"trees\" : 1\n",
      "    }\n",
      "    kp, dt, tree = feature_tree(data, 'flann', options)\n",
      "    return tree(dt, 2)\n",
      "\n",
      "#bfmatch\n",
      "def test_bf_match(data) :\n",
      "    kp, dt = get_features(data)\n",
      "    matcher = cv2.BFMatcher(cv2.NORM_L2)\n",
      "    return matcher.knnMatch(dt, dt, k=2)\n",
      "\n",
      "    # \"algorithm\"     : {\n",
      "    #    \"linear\"    : 0, \n",
      "    #    \"kdtree\"    : 1, \n",
      "    #    \"kmeans\"    : 2, \n",
      "    #    \"composite\" : 3, \n",
      "    #    \"kdtree_simple\" : 4, \n",
      "    #    \"saved\": 254, \n",
      "    #    \"autotuned\" : 255, \n",
      "    #    \"default\"   : 1\n",
      "    #},\n",
      "def test_flann_cv(data) :\n",
      "    kp, dt = get_features(data)\n",
      "    FLANN_INDEX_KDTREE = 0\n",
      "    index_params = dict(algorithm = 1, trees = 1)\n",
      "    search_params = dict(checks = 50)\n",
      "    flann = cv2.FlannBasedMatcher(index_params, search_params)\n",
      "    return flann.knnMatch(dt,dt,k=2)\n",
      "\n",
      "path = \"../../Images/big/109ai.jpg\"\n",
      "data = get_thumbnail(path, size=(150, 150))\n",
      "print(len(get_features(data)[0]))\n",
      "%timeit test_ball_tree(data)\n",
      "%timeit test_flann_tree(data)\n",
      "%timeit test_bf_match(data)\n",
      "%timeit test_flann_cv(data)"
     ],
     "language": "python",
     "metadata": {},
     "outputs": [
      {
       "output_type": "stream",
       "stream": "stdout",
       "text": [
        "74\n",
        "10 loops, best of 3: 20.9 ms per loop"
       ]
      },
      {
       "output_type": "stream",
       "stream": "stdout",
       "text": [
        "\n",
        "10 loops, best of 3: 24 ms per loop"
       ]
      },
      {
       "output_type": "stream",
       "stream": "stdout",
       "text": [
        "\n",
        "100 loops, best of 3: 12.3 ms per loop"
       ]
      },
      {
       "output_type": "stream",
       "stream": "stdout",
       "text": [
        "\n",
        "100 loops, best of 3: 13.3 ms per loop"
       ]
      },
      {
       "output_type": "stream",
       "stream": "stdout",
       "text": [
        "\n"
       ]
      }
     ],
     "prompt_number": 16
    },
    {
     "cell_type": "code",
     "collapsed": false,
     "input": [
      "def flann_cv2() :\n",
      "    # \"algorithm\"     : {\n",
      "    #    \"linear\"    : 0, \n",
      "    #    \"kdtree\"    : 1, \n",
      "    #    \"kmeans\"    : 2, \n",
      "    #    \"composite\" : 3, \n",
      "    #    \"kdtree_simple\" : 4, \n",
      "    #    \"saved\": 254, \n",
      "    #    \"autotuned\" : 255, \n",
      "    #    \"default\"   : 1\n",
      "    #},\n",
      "    #kp, dt = getFeatures(data)\n",
      "\n",
      "    FLANN_INDEX_KDTREE = 0\n",
      "    index_params = dict(algorithm = 1, trees = 5)\n",
      "    search_params = dict(checks = 400)\n",
      "    flann = cv2.FlannBasedMatcher(index_params, search_params)\n",
      "    \n",
      "    return flann"
     ],
     "language": "python",
     "metadata": {},
     "outputs": [],
     "prompt_number": 17
    },
    {
     "cell_type": "code",
     "collapsed": false,
     "input": [
      "path = \"../../Images/big/109ai.jpg\"\n",
      "data = open_img(path, size=(4000, 4000))\n",
      "data.shape"
     ],
     "language": "python",
     "metadata": {},
     "outputs": [
      {
       "output_type": "stream",
       "stream": "stdout",
       "text": [
        "(4000, 4000)\n"
       ]
      },
      {
       "metadata": {},
       "output_type": "pyout",
       "prompt_number": 18,
       "text": [
        "(4000, 2657, 3)"
       ]
      }
     ],
     "prompt_number": 18
    },
    {
     "cell_type": "code",
     "collapsed": false,
     "input": [
      "kp, dt = get_features(data)"
     ],
     "language": "python",
     "metadata": {},
     "outputs": [],
     "prompt_number": 19
    },
    {
     "cell_type": "code",
     "collapsed": false,
     "input": [
      "matcher = cv2.BFMatcher(cv2.NORM_L2)\n",
      "flann = flann_cv2()"
     ],
     "language": "python",
     "metadata": {},
     "outputs": [],
     "prompt_number": 21
    },
    {
     "cell_type": "code",
     "collapsed": false,
     "input": [
      "from sklearn.neighbors.ball_tree import BallTree\n",
      "from sklearn.neighbors import KDTree\n",
      "ball_tree = BallTree(dt,\n",
      "                leaf_size=40,\n",
      "                metric=\"minkowski\")\n",
      "kd_tree = KDTree(dt, leaf_size = 200)"
     ],
     "language": "python",
     "metadata": {},
     "outputs": [],
     "prompt_number": 65
    },
    {
     "cell_type": "code",
     "collapsed": false,
     "input": [
      "%timeit ball_tree.query(dt, k = 2, return_distance=True, dualtree=True, sort_results=True)\n",
      "%timeit kd_tree.query(dt, k = 2, return_distance=True, dualtree=False, sort_results=True)"
     ],
     "language": "python",
     "metadata": {},
     "outputs": [
      {
       "output_type": "stream",
       "stream": "stdout",
       "text": [
        "1 loops, best of 3: 2.31 s per loop\n",
        "1 loops, best of 3: 2.53 s per loop"
       ]
      },
      {
       "output_type": "stream",
       "stream": "stdout",
       "text": [
        "\n"
       ]
      }
     ],
     "prompt_number": 66
    },
    {
     "cell_type": "code",
     "collapsed": false,
     "input": [],
     "language": "python",
     "metadata": {},
     "outputs": [
      {
       "output_type": "stream",
       "stream": "stdout",
       "text": [
        "1 loops, best of 3: 2.25 s per loop\n"
       ]
      }
     ],
     "prompt_number": 61
    },
    {
     "cell_type": "code",
     "collapsed": false,
     "input": [
      "print(\"cv2 flann\")\n",
      "%timeit result_flann = flann.knnMatch(dt, dt, k=2)\n",
      "print(\"brute force:\")\n",
      "%timeit result_brute = matcher.knnMatch(dt, dt, k=2)\n",
      "print(\"Ball tree\")\n",
      "%timeit trees.init(dt, \"ball\", )"
     ],
     "language": "python",
     "metadata": {},
     "outputs": [
      {
       "output_type": "stream",
       "stream": "stdout",
       "text": [
        "cv2 flann\n",
        "1 loops, best of 3: 797 ms per loop"
       ]
      },
      {
       "output_type": "stream",
       "stream": "stdout",
       "text": [
        "\n",
        "brute force:\n",
        "1 loops, best of 3: 690 ms per loop"
       ]
      },
      {
       "output_type": "stream",
       "stream": "stdout",
       "text": [
        "\n"
       ]
      }
     ],
     "prompt_number": 22
    },
    {
     "cell_type": "code",
     "collapsed": false,
     "input": [
      "def compare_matches(ms1, ms2) :\n",
      "    is1 = [m[1].trainIdx for m in ms1]\n",
      "    is2 = [m[1].trainIdx for m in ms2]\n",
      "    mismatch = sum([m1 != m2 for m1,m2 in zip(is1, is2)])\n",
      "    print(\"%.2f percent deviation\" % (float(mismatch)/len(ms1)*100))"
     ],
     "language": "python",
     "metadata": {},
     "outputs": [],
     "prompt_number": 23
    },
    {
     "cell_type": "code",
     "collapsed": false,
     "input": [
      "result_flann = flann.knnMatch(dt, dt, k=2)\n",
      "result_brute = matcher.knnMatch(dt, dt, k=2)\n",
      "compare_matches(result_flann, result_brute)"
     ],
     "language": "python",
     "metadata": {},
     "outputs": [
      {
       "output_type": "stream",
       "stream": "stdout",
       "text": [
        "1.34 percent deviation\n"
       ]
      }
     ],
     "prompt_number": 24
    },
    {
     "cell_type": "code",
     "collapsed": false,
     "input": [
      "index = result_flann[0][1].queryIdx \n",
      "print(index)\n",
      "k = kp[index]\n",
      "k.pt"
     ],
     "language": "python",
     "metadata": {},
     "outputs": [
      {
       "output_type": "stream",
       "stream": "stdout",
       "text": [
        "0\n"
       ]
      },
      {
       "metadata": {},
       "output_type": "pyout",
       "prompt_number": 25,
       "text": [
        "(199.09776306152344, 24.478130340576172)"
       ]
      }
     ],
     "prompt_number": 25
    },
    {
     "cell_type": "code",
     "collapsed": false,
     "input": [
      "def match(dt1, dt2, k = 1, options = {}) :\n",
      "    \n",
      "    algorithm = options.get(\"algorithm\", 1)\n",
      "    trees = options.get(\"trees\", 5)\n",
      "    checks = options.get(\"checks\", 100)\n",
      "    \n",
      "    # Construct approximate nearest neighbor tree\n",
      "    # \"algorithm\"     : {\n",
      "    #    \"linear\"    : 0, \n",
      "    #    \"kdtree\"    : 1, \n",
      "    #    \"kmeans\"    : 2, \n",
      "    #    \"composite\" : 3, \n",
      "    #    \"kdtree_simple\" : 4, \n",
      "    #    \"saved\": 254, \n",
      "    #    \"autotuned\" : 255, \n",
      "    #    \"default\"   : 1\n",
      "    #},\n",
      "    index_params = dict(algorithm = algorithm, trees = trees)\n",
      "    search_params = dict(checks = checks)\n",
      "    flann = cv2.FlannBasedMatcher(index_params, search_params)\n",
      "    \n",
      "    # Match features\n",
      "    return flann.knnMatch(dt1, dt2, k = k)"
     ],
     "language": "python",
     "metadata": {},
     "outputs": [],
     "prompt_number": 26
    },
    {
     "cell_type": "code",
     "collapsed": false,
     "input": [
      "def self_match(path, max_size = (4000, 4000)) :\n",
      "    # Open image\n",
      "    img_data = open_img(path, max_size)\n",
      "    # Get descriptors\n",
      "    keypoints, descriptors = get_features(img_data)\n",
      "    # Match\n",
      "    matches = match(descriptors, descriptors, k=2)\n",
      "    # Distances and positions\n",
      "    distances = [r[1].distance for r in matches]\n",
      "    positions = [k.pt for k in keypoints]\n",
      "    return descriptors, positions, distances"
     ],
     "language": "python",
     "metadata": {},
     "outputs": [],
     "prompt_number": 27
    },
    {
     "cell_type": "code",
     "collapsed": false,
     "input": [
      "# Make function for loading an image, matching all feature points \n",
      "# within it and save a thumbnail and a metric tree with the feature \n",
      "# points from the thumbnail\n",
      "def cache(image_path, options = {}) :\n",
      "    # Get relevant options\n",
      "    max_size = options.get(\"max_size\", (4000, 4000))\n",
      "    radius   = options.get(\"radius\", 100)\n",
      "    # Create thumbnail\n",
      "    thumbnail = get_thumbnail(image_path)\n",
      "    \n",
      "    # Get thumbnail features\n",
      "    thumbnail_keypoints, thumbnail_descriptors = get_features(thumbnail)\n",
      "    thumbnail_positions = [k.pt for k in thumbnail_keypoints]\n",
      "    \n",
      "    # Get nearest neighbor within image (vector with touples of feature points and distances)\n",
      "    descriptors, positions, distances = self_match(image_path, max_size)\n",
      "    \n",
      "    # Arrange positions in metric tree\n",
      "    # Return a functoin which, given a point in the image, returns the descriptors and their distances\n",
      "    # in a radius of x around that point. Or maybe just the closest?\n",
      "    \n",
      "    # build position_tree\n",
      "    position_tree = BallTree(positions, metric = \"minkowski\")\n",
      "    \n",
      "    return {\n",
      "        'thumbnail_positions' : thumbnail_positions,\n",
      "        'thumbnail_descriptors' : thumbnail_descriptors,\n",
      "        'descriptors' : descriptors,\n",
      "        'position_tree' : position_tree,\n",
      "        'distances' : distances\n",
      "    }"
     ],
     "language": "python",
     "metadata": {},
     "outputs": [],
     "prompt_number": 88
    },
    {
     "cell_type": "code",
     "collapsed": false,
     "input": [
      "img_109ai = cache(\"../../Images/big/109ai.jpg\")"
     ],
     "language": "python",
     "metadata": {},
     "outputs": [
      {
       "output_type": "stream",
       "stream": "stdout",
       "text": [
        "(4000, 4000)\n"
       ]
      }
     ],
     "prompt_number": 89
    },
    {
     "cell_type": "code",
     "collapsed": false,
     "input": [
      "pos_tree = img_109ai['position_tree']\n",
      "pos_tree.query_radius((1500, 500), r = 1000, return_distance=True, sort_results=True)"
     ],
     "language": "python",
     "metadata": {},
     "outputs": [
      {
       "metadata": {},
       "output_type": "pyout",
       "prompt_number": 94,
       "text": [
        "(array([ array([   4,    5,  298,  299,  300,  302,   86,  688,  297,  303,  304,\n",
        "         305, 3475,  301,  306,  307,  308,  310,  309,  311,  689,  312,\n",
        "         314,   87,  313,  690,   89,    8,  691,  692,   90,   88,  693,\n",
        "        2361,    2,    3,  694,  695, 1191, 1192,  315, 1864, 1865, 2362,\n",
        "         696, 1866, 3391,  697,  698,  699, 2363,  701, 1867,  319, 1868,\n",
        "         700,  318,  316,  317,  320,  702,  703,  704,  705,  711,   96,\n",
        "           6,    7])], dtype=object),\n",
        " array([ array([ 232.27433305,  232.27433305,  300.21866615,  301.6615121 ,\n",
        "         302.32299362,  302.94651992,  304.03665081,  308.82581939,\n",
        "         310.64672058,  313.03675229,  314.95784308,  319.43633181,\n",
        "         326.21104878,  341.11892282,  345.20068516,  348.17970487,\n",
        "         376.33944448,  388.15203299,  392.0226787 ,  443.26132851,\n",
        "         475.56661699,  498.54350239,  502.36865773,  503.41766291,\n",
        "         508.0084387 ,  514.51688367,  525.63164064,  527.95076091,\n",
        "         528.13091076,  534.874384  ,  539.43637845,  592.81788953,\n",
        "         595.57816886,  605.98934984,  610.2992918 ,  610.2992918 ,\n",
        "         613.81847897,  613.81847897,  614.60013389,  614.60013389,\n",
        "         619.07460356,  630.48587279,  656.18603712,  665.26569898,\n",
        "         671.3347037 ,  675.5242598 ,  683.71500303,  707.48116599,\n",
        "         730.49873382,  737.30762027,  773.85011462,  778.3007396 ,\n",
        "         785.58811012,  787.86890934,  796.76028522,  797.78572249,\n",
        "         807.27966085,  807.8020548 ,  807.8020548 ,  812.94188164,\n",
        "         817.676145  ,  871.13690497,  883.70991164,  890.91955426,\n",
        "         935.18916446,  986.1578194 ,  990.33850471,  990.33850471])], dtype=object))"
       ]
      }
     ],
     "prompt_number": 94
    },
    {
     "cell_type": "code",
     "collapsed": false,
     "input": [
      "import os\n",
      "os.path.isfile"
     ],
     "language": "python",
     "metadata": {},
     "outputs": [
      {
       "ename": "AttributeError",
       "evalue": "'module' object has no attribute 'isfile'",
       "output_type": "pyerr",
       "traceback": [
        "\u001b[1;31m---------------------------------------------------------------------------\u001b[0m\n\u001b[1;31mAttributeError\u001b[0m                            Traceback (most recent call last)",
        "\u001b[1;32m<ipython-input-98-6eb58b0f2039>\u001b[0m in \u001b[0;36m<module>\u001b[1;34m()\u001b[0m\n\u001b[0;32m      1\u001b[0m \u001b[1;32mimport\u001b[0m \u001b[0mos\u001b[0m\u001b[1;33m\u001b[0m\u001b[0m\n\u001b[1;32m----> 2\u001b[1;33m \u001b[0mos\u001b[0m\u001b[1;33m.\u001b[0m\u001b[0misfile\u001b[0m\u001b[1;33m(\u001b[0m\u001b[1;34m\"test\"\u001b[0m\u001b[1;33m)\u001b[0m\u001b[1;33m\u001b[0m\u001b[0m\n\u001b[0m",
        "\u001b[1;31mAttributeError\u001b[0m: 'module' object has no attribute 'isfile'"
       ]
      }
     ],
     "prompt_number": 98
    }
   ],
   "metadata": {}
  }
 ]
}