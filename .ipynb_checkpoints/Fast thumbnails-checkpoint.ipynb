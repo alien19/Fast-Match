{
 "cells": [
  {
   "cell_type": "code",
   "execution_count": 1,
   "id": "5eda1e67",
   "metadata": {},
   "outputs": [],
   "source": [
    "%load_ext autoreload\n",
    "%autoreload 2"
   ]
  },
  {
   "cell_type": "code",
   "execution_count": 13,
   "id": "1d1ef84a",
   "metadata": {},
   "outputs": [],
   "source": [
    "import numpy\n",
    "from bak.cache import *\n",
    "from imaging import scale_cv\n",
    "from matchutil\n",
    "from sklearn.neighbors import KDTree\n",
    "from sklearn.neighbors.ball_tree import BallTree\n",
    "import pyflann"
   ]
  },
  {
   "cell_type": "code",
   "execution_count": 15,
   "id": "fbe59866",
   "metadata": {},
   "outputs": [
    {
     "name": "stdout",
     "output_type": "stream",
     "text": [
      "137 ms ± 163 µs per loop (mean ± std. dev. of 7 runs, 10 loops each)\n",
      "47 ms ± 89.6 µs per loop (mean ± std. dev. of 7 runs, 10 loops each)\n",
      "62.1 ms ± 370 µs per loop (mean ± std. dev. of 7 runs, 10 loops each)\n"
     ]
    }
   ],
   "source": [
    "#object_types = [\"Conch\", \"FlowerLamp\", \"Motorcycle\", \"Rock\", \"Bannanas\", \"Car\", \"Desk\", \"GrandfatherClock\", \"Robot\", \"TeddyBear\", \"Base\", \"Car2\", \"Dog\", \"Horse\", \"Tricycle\"]\n",
    "#path = turntable.get_turntable_path(object_types[0], 0, \"Bottom\")\n",
    "# path = \"../../Images/big/108ab.jpg\"\n",
    "path = \"C:/Data/Datasets/test/images/000224_224_left.jpg\"\n",
    "%timeit data = scale_cv(path).scale()\n",
    "# %timeit data = scale_vips(path).scale()\n",
    "%timeit data = numpy.array(scale_pil(path).scale(), dtype=numpy.uint8)\n",
    "%timeit data = numpy.array(scale_pil_antialias(path).scale(), dtype=numpy.uint8)\n",
    "\n"
   ]
  },
  {
   "cell_type": "code",
   "execution_count": 22,
   "id": "9abe2df5",
   "metadata": {},
   "outputs": [
    {
     "name": "stdout",
     "output_type": "stream",
     "text": [
      "127 ms ± 1.34 ms per loop (mean ± std. dev. of 7 runs, 10 loops each)\n"
     ]
    },
    {
     "ename": "NameError",
     "evalue": "name 'scale_vips' is not defined",
     "output_type": "error",
     "traceback": [
      "\u001b[1;31m---------------------------------------------------------------------------\u001b[0m",
      "\u001b[1;31mNameError\u001b[0m                                 Traceback (most recent call last)",
      "\u001b[1;32mC:\\Users\\M6EDE~1.ABD\\AppData\\Local\\Temp/ipykernel_11000/3820818335.py\u001b[0m in \u001b[0;36m<module>\u001b[1;34m\u001b[0m\n\u001b[0;32m      3\u001b[0m \u001b[0msize\u001b[0m \u001b[1;33m=\u001b[0m \u001b[1;33m(\u001b[0m\u001b[1;36m4000\u001b[0m\u001b[1;33m,\u001b[0m \u001b[1;36m4000\u001b[0m\u001b[1;33m)\u001b[0m\u001b[1;33m\u001b[0m\u001b[1;33m\u001b[0m\u001b[0m\n\u001b[0;32m      4\u001b[0m \u001b[0mget_ipython\u001b[0m\u001b[1;33m(\u001b[0m\u001b[1;33m)\u001b[0m\u001b[1;33m.\u001b[0m\u001b[0mrun_line_magic\u001b[0m\u001b[1;33m(\u001b[0m\u001b[1;34m'timeit'\u001b[0m\u001b[1;33m,\u001b[0m \u001b[1;34m'data = scale_cv(path).scale(size)'\u001b[0m\u001b[1;33m)\u001b[0m\u001b[1;33m\u001b[0m\u001b[1;33m\u001b[0m\u001b[0m\n\u001b[1;32m----> 5\u001b[1;33m \u001b[0mget_ipython\u001b[0m\u001b[1;33m(\u001b[0m\u001b[1;33m)\u001b[0m\u001b[1;33m.\u001b[0m\u001b[0mrun_line_magic\u001b[0m\u001b[1;33m(\u001b[0m\u001b[1;34m'timeit'\u001b[0m\u001b[1;33m,\u001b[0m \u001b[1;34m'data = scale_vips(path).scale(size)'\u001b[0m\u001b[1;33m)\u001b[0m\u001b[1;33m\u001b[0m\u001b[1;33m\u001b[0m\u001b[0m\n\u001b[0m\u001b[0;32m      6\u001b[0m \u001b[0mget_ipython\u001b[0m\u001b[1;33m(\u001b[0m\u001b[1;33m)\u001b[0m\u001b[1;33m.\u001b[0m\u001b[0mrun_line_magic\u001b[0m\u001b[1;33m(\u001b[0m\u001b[1;34m'timeit'\u001b[0m\u001b[1;33m,\u001b[0m \u001b[1;34m'data = numpy.array(scale_pil(path).scale(size), dtype=uint8)'\u001b[0m\u001b[1;33m)\u001b[0m\u001b[1;33m\u001b[0m\u001b[1;33m\u001b[0m\u001b[0m\n\u001b[0;32m      7\u001b[0m \u001b[0mget_ipython\u001b[0m\u001b[1;33m(\u001b[0m\u001b[1;33m)\u001b[0m\u001b[1;33m.\u001b[0m\u001b[0mrun_line_magic\u001b[0m\u001b[1;33m(\u001b[0m\u001b[1;34m'timeit'\u001b[0m\u001b[1;33m,\u001b[0m \u001b[1;34m'data = numpy.array(scale_pil_antialias(path).scale(size), dtype=uint8)'\u001b[0m\u001b[1;33m)\u001b[0m\u001b[1;33m\u001b[0m\u001b[1;33m\u001b[0m\u001b[0m\n",
      "\u001b[1;32mc:\\users\\m.abdelrahman\\appdata\\local\\programs\\python\\python37\\lib\\site-packages\\IPython\\core\\interactiveshell.py\u001b[0m in \u001b[0;36mrun_line_magic\u001b[1;34m(self, magic_name, line, _stack_depth)\u001b[0m\n\u001b[0;32m   2349\u001b[0m                 \u001b[0mkwargs\u001b[0m\u001b[1;33m[\u001b[0m\u001b[1;34m'local_ns'\u001b[0m\u001b[1;33m]\u001b[0m \u001b[1;33m=\u001b[0m \u001b[0mself\u001b[0m\u001b[1;33m.\u001b[0m\u001b[0mget_local_scope\u001b[0m\u001b[1;33m(\u001b[0m\u001b[0mstack_depth\u001b[0m\u001b[1;33m)\u001b[0m\u001b[1;33m\u001b[0m\u001b[1;33m\u001b[0m\u001b[0m\n\u001b[0;32m   2350\u001b[0m             \u001b[1;32mwith\u001b[0m \u001b[0mself\u001b[0m\u001b[1;33m.\u001b[0m\u001b[0mbuiltin_trap\u001b[0m\u001b[1;33m:\u001b[0m\u001b[1;33m\u001b[0m\u001b[1;33m\u001b[0m\u001b[0m\n\u001b[1;32m-> 2351\u001b[1;33m                 \u001b[0mresult\u001b[0m \u001b[1;33m=\u001b[0m \u001b[0mfn\u001b[0m\u001b[1;33m(\u001b[0m\u001b[1;33m*\u001b[0m\u001b[0margs\u001b[0m\u001b[1;33m,\u001b[0m \u001b[1;33m**\u001b[0m\u001b[0mkwargs\u001b[0m\u001b[1;33m)\u001b[0m\u001b[1;33m\u001b[0m\u001b[1;33m\u001b[0m\u001b[0m\n\u001b[0m\u001b[0;32m   2352\u001b[0m             \u001b[1;32mreturn\u001b[0m \u001b[0mresult\u001b[0m\u001b[1;33m\u001b[0m\u001b[1;33m\u001b[0m\u001b[0m\n\u001b[0;32m   2353\u001b[0m \u001b[1;33m\u001b[0m\u001b[0m\n",
      "\u001b[1;32mc:\\users\\m.abdelrahman\\appdata\\local\\programs\\python\\python37\\lib\\site-packages\\decorator.py\u001b[0m in \u001b[0;36mfun\u001b[1;34m(*args, **kw)\u001b[0m\n\u001b[0;32m    230\u001b[0m             \u001b[1;32mif\u001b[0m \u001b[1;32mnot\u001b[0m \u001b[0mkwsyntax\u001b[0m\u001b[1;33m:\u001b[0m\u001b[1;33m\u001b[0m\u001b[1;33m\u001b[0m\u001b[0m\n\u001b[0;32m    231\u001b[0m                 \u001b[0margs\u001b[0m\u001b[1;33m,\u001b[0m \u001b[0mkw\u001b[0m \u001b[1;33m=\u001b[0m \u001b[0mfix\u001b[0m\u001b[1;33m(\u001b[0m\u001b[0margs\u001b[0m\u001b[1;33m,\u001b[0m \u001b[0mkw\u001b[0m\u001b[1;33m,\u001b[0m \u001b[0msig\u001b[0m\u001b[1;33m)\u001b[0m\u001b[1;33m\u001b[0m\u001b[1;33m\u001b[0m\u001b[0m\n\u001b[1;32m--> 232\u001b[1;33m             \u001b[1;32mreturn\u001b[0m \u001b[0mcaller\u001b[0m\u001b[1;33m(\u001b[0m\u001b[0mfunc\u001b[0m\u001b[1;33m,\u001b[0m \u001b[1;33m*\u001b[0m\u001b[1;33m(\u001b[0m\u001b[0mextras\u001b[0m \u001b[1;33m+\u001b[0m \u001b[0margs\u001b[0m\u001b[1;33m)\u001b[0m\u001b[1;33m,\u001b[0m \u001b[1;33m**\u001b[0m\u001b[0mkw\u001b[0m\u001b[1;33m)\u001b[0m\u001b[1;33m\u001b[0m\u001b[1;33m\u001b[0m\u001b[0m\n\u001b[0m\u001b[0;32m    233\u001b[0m     \u001b[0mfun\u001b[0m\u001b[1;33m.\u001b[0m\u001b[0m__name__\u001b[0m \u001b[1;33m=\u001b[0m \u001b[0mfunc\u001b[0m\u001b[1;33m.\u001b[0m\u001b[0m__name__\u001b[0m\u001b[1;33m\u001b[0m\u001b[1;33m\u001b[0m\u001b[0m\n\u001b[0;32m    234\u001b[0m     \u001b[0mfun\u001b[0m\u001b[1;33m.\u001b[0m\u001b[0m__doc__\u001b[0m \u001b[1;33m=\u001b[0m \u001b[0mfunc\u001b[0m\u001b[1;33m.\u001b[0m\u001b[0m__doc__\u001b[0m\u001b[1;33m\u001b[0m\u001b[1;33m\u001b[0m\u001b[0m\n",
      "\u001b[1;32mc:\\users\\m.abdelrahman\\appdata\\local\\programs\\python\\python37\\lib\\site-packages\\IPython\\core\\magic.py\u001b[0m in \u001b[0;36m<lambda>\u001b[1;34m(f, *a, **k)\u001b[0m\n\u001b[0;32m    185\u001b[0m     \u001b[1;31m# but it's overkill for just that one bit of state.\u001b[0m\u001b[1;33m\u001b[0m\u001b[1;33m\u001b[0m\u001b[1;33m\u001b[0m\u001b[0m\n\u001b[0;32m    186\u001b[0m     \u001b[1;32mdef\u001b[0m \u001b[0mmagic_deco\u001b[0m\u001b[1;33m(\u001b[0m\u001b[0marg\u001b[0m\u001b[1;33m)\u001b[0m\u001b[1;33m:\u001b[0m\u001b[1;33m\u001b[0m\u001b[1;33m\u001b[0m\u001b[0m\n\u001b[1;32m--> 187\u001b[1;33m         \u001b[0mcall\u001b[0m \u001b[1;33m=\u001b[0m \u001b[1;32mlambda\u001b[0m \u001b[0mf\u001b[0m\u001b[1;33m,\u001b[0m \u001b[1;33m*\u001b[0m\u001b[0ma\u001b[0m\u001b[1;33m,\u001b[0m \u001b[1;33m**\u001b[0m\u001b[0mk\u001b[0m\u001b[1;33m:\u001b[0m \u001b[0mf\u001b[0m\u001b[1;33m(\u001b[0m\u001b[1;33m*\u001b[0m\u001b[0ma\u001b[0m\u001b[1;33m,\u001b[0m \u001b[1;33m**\u001b[0m\u001b[0mk\u001b[0m\u001b[1;33m)\u001b[0m\u001b[1;33m\u001b[0m\u001b[1;33m\u001b[0m\u001b[0m\n\u001b[0m\u001b[0;32m    188\u001b[0m \u001b[1;33m\u001b[0m\u001b[0m\n\u001b[0;32m    189\u001b[0m         \u001b[1;32mif\u001b[0m \u001b[0mcallable\u001b[0m\u001b[1;33m(\u001b[0m\u001b[0marg\u001b[0m\u001b[1;33m)\u001b[0m\u001b[1;33m:\u001b[0m\u001b[1;33m\u001b[0m\u001b[1;33m\u001b[0m\u001b[0m\n",
      "\u001b[1;32mc:\\users\\m.abdelrahman\\appdata\\local\\programs\\python\\python37\\lib\\site-packages\\IPython\\core\\magics\\execution.py\u001b[0m in \u001b[0;36mtimeit\u001b[1;34m(self, line, cell, local_ns)\u001b[0m\n\u001b[0;32m   1167\u001b[0m             \u001b[1;32mfor\u001b[0m \u001b[0mindex\u001b[0m \u001b[1;32min\u001b[0m \u001b[0mrange\u001b[0m\u001b[1;33m(\u001b[0m\u001b[1;36m0\u001b[0m\u001b[1;33m,\u001b[0m \u001b[1;36m10\u001b[0m\u001b[1;33m)\u001b[0m\u001b[1;33m:\u001b[0m\u001b[1;33m\u001b[0m\u001b[1;33m\u001b[0m\u001b[0m\n\u001b[0;32m   1168\u001b[0m                 \u001b[0mnumber\u001b[0m \u001b[1;33m=\u001b[0m \u001b[1;36m10\u001b[0m \u001b[1;33m**\u001b[0m \u001b[0mindex\u001b[0m\u001b[1;33m\u001b[0m\u001b[1;33m\u001b[0m\u001b[0m\n\u001b[1;32m-> 1169\u001b[1;33m                 \u001b[0mtime_number\u001b[0m \u001b[1;33m=\u001b[0m \u001b[0mtimer\u001b[0m\u001b[1;33m.\u001b[0m\u001b[0mtimeit\u001b[0m\u001b[1;33m(\u001b[0m\u001b[0mnumber\u001b[0m\u001b[1;33m)\u001b[0m\u001b[1;33m\u001b[0m\u001b[1;33m\u001b[0m\u001b[0m\n\u001b[0m\u001b[0;32m   1170\u001b[0m                 \u001b[1;32mif\u001b[0m \u001b[0mtime_number\u001b[0m \u001b[1;33m>=\u001b[0m \u001b[1;36m0.2\u001b[0m\u001b[1;33m:\u001b[0m\u001b[1;33m\u001b[0m\u001b[1;33m\u001b[0m\u001b[0m\n\u001b[0;32m   1171\u001b[0m                     \u001b[1;32mbreak\u001b[0m\u001b[1;33m\u001b[0m\u001b[1;33m\u001b[0m\u001b[0m\n",
      "\u001b[1;32mc:\\users\\m.abdelrahman\\appdata\\local\\programs\\python\\python37\\lib\\site-packages\\IPython\\core\\magics\\execution.py\u001b[0m in \u001b[0;36mtimeit\u001b[1;34m(self, number)\u001b[0m\n\u001b[0;32m    167\u001b[0m         \u001b[0mgc\u001b[0m\u001b[1;33m.\u001b[0m\u001b[0mdisable\u001b[0m\u001b[1;33m(\u001b[0m\u001b[1;33m)\u001b[0m\u001b[1;33m\u001b[0m\u001b[1;33m\u001b[0m\u001b[0m\n\u001b[0;32m    168\u001b[0m         \u001b[1;32mtry\u001b[0m\u001b[1;33m:\u001b[0m\u001b[1;33m\u001b[0m\u001b[1;33m\u001b[0m\u001b[0m\n\u001b[1;32m--> 169\u001b[1;33m             \u001b[0mtiming\u001b[0m \u001b[1;33m=\u001b[0m \u001b[0mself\u001b[0m\u001b[1;33m.\u001b[0m\u001b[0minner\u001b[0m\u001b[1;33m(\u001b[0m\u001b[0mit\u001b[0m\u001b[1;33m,\u001b[0m \u001b[0mself\u001b[0m\u001b[1;33m.\u001b[0m\u001b[0mtimer\u001b[0m\u001b[1;33m)\u001b[0m\u001b[1;33m\u001b[0m\u001b[1;33m\u001b[0m\u001b[0m\n\u001b[0m\u001b[0;32m    170\u001b[0m         \u001b[1;32mfinally\u001b[0m\u001b[1;33m:\u001b[0m\u001b[1;33m\u001b[0m\u001b[1;33m\u001b[0m\u001b[0m\n\u001b[0;32m    171\u001b[0m             \u001b[1;32mif\u001b[0m \u001b[0mgcold\u001b[0m\u001b[1;33m:\u001b[0m\u001b[1;33m\u001b[0m\u001b[1;33m\u001b[0m\u001b[0m\n",
      "\u001b[1;32m<magic-timeit>\u001b[0m in \u001b[0;36minner\u001b[1;34m(_it, _timer)\u001b[0m\n",
      "\u001b[1;31mNameError\u001b[0m: name 'scale_vips' is not defined"
     ]
    }
   ],
   "source": [
    "# path = \"../../Images/big/108ab.bmp\"\n",
    "path = \"C:/Data/Datasets/test/images/000224_224_left.jpg\"\n",
    "size = (4000, 4000)\n",
    "%timeit data = scale_cv(path).scale(size)\n",
    "%timeit data = scale_vips(path).scale(size)\n",
    "%timeit data = numpy.array(scale_pil(path).scale(size), dtype=uint8)\n",
    "%timeit data = numpy.array(scale_pil_antialias(path).scale(size), dtype=uint8)"
   ]
  },
  {
   "cell_type": "code",
   "execution_count": null,
   "id": "9c117079",
   "metadata": {},
   "outputs": [],
   "source": [
    "# path = \"../../Images/big/108ab.jpg\"\n",
    "%timeit open_pil(path)\n",
    "# %timeit open_vips\n",
    "(path)\n",
    "%timeit open_cv(path)"
   ]
  },
  {
   "cell_type": "code",
   "execution_count": null,
   "id": "36d9ea6f",
   "metadata": {},
   "outputs": [],
   "source": [
    "def show(data) :\n",
    "    dpi = 80\n",
    "    margin = 0.05 # (5% of the width/height of the figure...)\n",
    "    xpixels, ypixels, zpixels = data.shape\n",
    "\n",
    "    # Make a figure big enough to accomodate an axis of xpixels by ypixels\n",
    "    # as well as the ticklabels, etc...\n",
    "    figsize = (1 + margin) * ypixels / dpi, (1 + margin) * xpixels / dpi\n",
    "\n",
    "    fig = plt.figure(figsize=figsize, dpi=dpi)\n",
    "    # Make the axis the right size...\n",
    "    ax = fig.add_axes([margin, margin, 1 - 2*margin, 1 - 2*margin])\n",
    "\n",
    "    ax.imshow(data)"
   ]
  },
  {
   "cell_type": "code",
   "execution_count": null,
   "id": "e9c97ad4",
   "metadata": {},
   "outputs": [],
   "source": [
    "#object_types = [\"Conch\", \"FlowerLamp\", \"Motorcycle\", \"Rock\", \"Bannanas\", \"Car\", \"Desk\", \"GrandfatherClock\", \"Robot\", \"TeddyBear\", \"Base\", \"Car2\", \"Dog\", \"Horse\", \"Tricycle\"]\n",
    "#path = turntable.get_turntable_path(object_types[0], 0, \"Bottom\")\n",
    "# path = \"../../Images/big/108ab.bmp\"\n",
    "# print(\"Vips:\\t\\t\"),\n",
    "# %timeit data = scale_vips(path).scale()\n",
    "print(\"Pil normal:\\t\"),\n",
    "%timeit data = numpy.array(scale_pil(path).scale(), dtype=numpy.uint8)\n",
    "print(\"Pil Antialias:\\t\"),\n",
    "%timeit data = numpy.array(scale_pil_antialias(path).scale(), dtype=numpy.uint8)\n",
    "\n"
   ]
  },
  {
   "cell_type": "code",
   "execution_count": null,
   "id": "dda294b7",
   "metadata": {},
   "outputs": [],
   "source": [
    "def feature_tree(dt, tree_type = \"ball\", options = {}) :\n",
    "    # Create metric tree\n",
    "    if tree_type == \"ball\" :\n",
    "        tree = BallTree(dt,\n",
    "                        leaf_size = options.get(\"leaf_size\", 40),\n",
    "                        metric = options.get(\"metric\", \"minkowski\"))\n",
    "    elif tree_type == \"kdtree\" :\n",
    "        tree = KDTree(dt,\n",
    "                      leaf_size = options.get(\"leaf_size\", 40),\n",
    "                      metric = options.get(\"metric\", \"minkowski\"))\n",
    "    elif tree_type == \"flann\" :\n",
    "        tree = pyflann.FLANN()\n",
    "        params = tree.build_index(dt, \n",
    "                                  algorithm = options.get(\"algorithm\", 1),\n",
    "                                  tree = options.get(\"trees\", 1))  \n",
    "    # Return data\n",
    "    return tree\n",
    "\n",
    "# path = \"../../Images/big/109ai.jpg\"\n",
    "data = get_thumbnail(path)\n",
    "kp, dt = get_features(data)\n",
    "print(\"Testing for tree construction time\\n\")\n",
    "print(\"Init tree with %i features\" % (len(kp)))\n",
    "print(\"Kd Tree:\\t\"),\n",
    "%timeit feature_tree(dt, 'kdtree')\n",
    "print(\"Ball Tree:\\t\"),\n",
    "%timeit feature_tree(dt, 'ball')\n",
    "print(\"PyFlann Tree:\\t\"),\n",
    "%timeit feature_tree(dt, 'flann')"
   ]
  },
  {
   "cell_type": "code",
   "execution_count": 23,
   "id": "ee0a4811",
   "metadata": {},
   "outputs": [],
   "source": [
    "# Find fastest matching method:\n",
    "\n",
    "# ball tree\n",
    "def test_ball_tree(dt, k, options = {}) :\n",
    "    tree = feature_tree(dt, options, tree_type = 'ball')\n",
    "    idx, dist = tree.query(dt, k = k, return_distance = True)\n",
    "    result = [(i, d) for i, d in zip(idx, dist)]\n",
    "    return result\n",
    "\n",
    "# KDtree\n",
    "def test_kd_tree(dt, k, options = {}) :\n",
    "    tree = feature_tree(dt, options, tree_type = 'kdtree')\n",
    "    idx, dist = tree.query(dt, k = k, return_distance = True)\n",
    "    result = [(i, d) for i, d in zip(idx, dist)]\n",
    "    return result\n",
    "\n",
    "# flann tree\n",
    "def test_flann_tree(dt, k, options = {}) :\n",
    "    tree = feature_tree(dt, options, tree_type = 'flann')\n",
    "    idx, dist = tree.nn_index(dt, k, return_distance = True, checks=options.get(\"checks\", 200))\n",
    "    result = [(i, d) for i, d in zip(idx, dist)]\n",
    "    return result\n",
    "\n",
    "#bfmatch\n",
    "def test_bf_match(dt, k) :\n",
    "    matcher = cv2.BFMatcher(cv2.NORM_L2)\n",
    "    return matcher.knnMatch(dt, dt, k=k)\n",
    "\n",
    "    # \"algorithm\"     : {\n",
    "    #    \"linear\"    : 0, \n",
    "    #    \"kdtree\"    : 1, \n",
    "    #    \"kmeans\"    : 2, \n",
    "    #    \"composite\" : 3, \n",
    "    #    \"kdtree_simple\" : 4, \n",
    "    #    \"saved\": 254, \n",
    "    #    \"autotuned\" : 255, \n",
    "    #    \"default\"   : 1\n",
    "    #},\n",
    "def test_flann_cv(dt, k, options = {}) :\n",
    "    FLANN_INDEX_KDTREE = 0\n",
    "    index_params = dict(algorithm = options.get(\"algorithm\",1), trees = options.get(\"trees\", 5))\n",
    "    search_params = dict(checks = options.get(\"checks\", 200))\n",
    "    flann = cv2.FlannBasedMatcher(index_params, search_params)\n",
    "    return flann.knnMatch(dt,dt,k=k)"
   ]
  },
  {
   "cell_type": "code",
   "execution_count": 24,
   "id": "2acabafd",
   "metadata": {},
   "outputs": [
    {
     "ename": "NameError",
     "evalue": "name 'get_features' is not defined",
     "output_type": "error",
     "traceback": [
      "\u001b[1;31m---------------------------------------------------------------------------\u001b[0m",
      "\u001b[1;31mNameError\u001b[0m                                 Traceback (most recent call last)",
      "\u001b[1;32mC:\\Users\\M6EDE~1.ABD\\AppData\\Local\\Temp/ipykernel_11000/3764495472.py\u001b[0m in \u001b[0;36m<module>\u001b[1;34m\u001b[0m\n\u001b[0;32m      1\u001b[0m \u001b[1;31m# path = \"data/images/avant_air/109ai.jpg\"\u001b[0m\u001b[1;33m\u001b[0m\u001b[1;33m\u001b[0m\u001b[1;33m\u001b[0m\u001b[0m\n\u001b[0;32m      2\u001b[0m \u001b[0mdata\u001b[0m \u001b[1;33m=\u001b[0m \u001b[0mget_thumbnail\u001b[0m\u001b[1;33m(\u001b[0m\u001b[0mpath\u001b[0m\u001b[1;33m,\u001b[0m \u001b[0msize\u001b[0m\u001b[1;33m=\u001b[0m\u001b[1;33m(\u001b[0m\u001b[1;36m150\u001b[0m\u001b[1;33m,\u001b[0m \u001b[1;36m150\u001b[0m\u001b[1;33m)\u001b[0m\u001b[1;33m)\u001b[0m\u001b[1;33m\u001b[0m\u001b[1;33m\u001b[0m\u001b[0m\n\u001b[1;32m----> 3\u001b[1;33m \u001b[0mkp\u001b[0m\u001b[1;33m,\u001b[0m \u001b[0mdt\u001b[0m \u001b[1;33m=\u001b[0m \u001b[0mget_features\u001b[0m\u001b[1;33m(\u001b[0m\u001b[0mdata\u001b[0m\u001b[1;33m)\u001b[0m\u001b[1;33m\u001b[0m\u001b[1;33m\u001b[0m\u001b[0m\n\u001b[0m\u001b[0;32m      4\u001b[0m \u001b[0mprint\u001b[0m\u001b[1;33m(\u001b[0m\u001b[1;34m\"Testing for query time\\n\"\u001b[0m\u001b[1;33m)\u001b[0m\u001b[1;33m\u001b[0m\u001b[1;33m\u001b[0m\u001b[0m\n\u001b[0;32m      5\u001b[0m \u001b[0mprint\u001b[0m\u001b[1;33m(\u001b[0m\u001b[1;34m\"Getting features in (%i,%i) image with %i keypoints:\"\u001b[0m \u001b[1;33m%\u001b[0m \u001b[1;33m(\u001b[0m\u001b[0mdata\u001b[0m\u001b[1;33m.\u001b[0m\u001b[0mshape\u001b[0m\u001b[1;33m[\u001b[0m\u001b[1;36m0\u001b[0m\u001b[1;33m]\u001b[0m\u001b[1;33m,\u001b[0m \u001b[0mdata\u001b[0m\u001b[1;33m.\u001b[0m\u001b[0mshape\u001b[0m\u001b[1;33m[\u001b[0m\u001b[1;36m1\u001b[0m\u001b[1;33m]\u001b[0m\u001b[1;33m,\u001b[0m \u001b[0mlen\u001b[0m\u001b[1;33m(\u001b[0m\u001b[0mkp\u001b[0m\u001b[1;33m)\u001b[0m\u001b[1;33m)\u001b[0m\u001b[1;33m)\u001b[0m\u001b[1;33m\u001b[0m\u001b[1;33m\u001b[0m\u001b[0m\n",
      "\u001b[1;31mNameError\u001b[0m: name 'get_features' is not defined"
     ]
    }
   ],
   "source": [
    "# path = \"data/images/avant_air/109ai.jpg\"\n",
    "data = get_thumbnail(path, size=(150, 150))\n",
    "kp, dt = get_features(data)\n",
    "print(\"Testing for query time\\n\")\n",
    "print(\"Getting features in (%i,%i) image with %i keypoints:\" % (data.shape[0], data.shape[1], len(kp)))\n",
    "%timeit get_features(data)\n",
    "print(\"Ball Tree:\\t\"),\n",
    "%timeit test_ball_tree(dt, 2)\n",
    "print(\"KD Tree:\\t\"),\n",
    "%timeit test_kd_tree(dt, 2)\n",
    "print(\"PyFlann Tree:\\t\"),\n",
    "%timeit test_flann_tree(dt, 2)\n",
    "print(\"Brute Force:\\t\"),\n",
    "%timeit test_bf_match(dt, 2)\n",
    "print(\"FlannCV Tree:\\t\"),\n",
    "%timeit test_flann_cv(dt, 2, { \"checks\" : 50, \"trees\" : 1 })"
   ]
  },
  {
   "cell_type": "code",
   "execution_count": 92,
   "id": "f6bed0b0",
   "metadata": {},
   "outputs": [
    {
     "name": "stdout",
     "output_type": "stream",
     "text": [
      "Testing for query time\n",
      "\n",
      "Getting features in (3541,5330) image with 4012 keypoints:\n",
      "1 loops, best of 3: 9.14 s per loop\n",
      "Ball Tree:\t1 loops, best of 3: 3.45 s per loop\n",
      "KD Tree:\t1 loops, best of 3: 3.73 s per loop\n",
      "PyFlann Tree:\t1 loops, best of 3: 676 ms per loop\n",
      "Brute Force:\t1 loops, best of 3: 825 ms per loop\n",
      "FlannCV Tree:\t1 loops, best of 3: 887 ms per loop\n"
     ]
    }
   ],
   "source": [
    "path = \"data/images/avant_air/109ai.jpg\"\n",
    "data = open_img(path)\n",
    "kp, dt = get_features(data)\n",
    "print(\"Testing for query time\\n\")\n",
    "print(\"Getting features in (%i,%i) image with %i keypoints:\" % (data.shape[0], data.shape[1], len(kp)))\n",
    "%timeit get_features(data)\n",
    "print(\"Ball Tree:\\t\"),\n",
    "%timeit test_ball_tree(dt, 2)\n",
    "print(\"KD Tree:\\t\"),\n",
    "%timeit test_kd_tree(dt, 2)\n",
    "print(\"PyFlann Tree:\\t\"),\n",
    "%timeit test_flann_tree(dt, 2)\n",
    "print(\"Brute Force:\\t\"),\n",
    "%timeit test_bf_match(dt, 2)\n",
    "print(\"FlannCV Tree:\\t\"),\n",
    "%timeit test_flann_cv(dt, 2, { \"checks\" : 400, \"trees\" : 5 })"
   ]
  },
  {
   "cell_type": "code",
   "execution_count": 91,
   "id": "1ce9ae62",
   "metadata": {},
   "outputs": [
    {
     "name": "stdout",
     "output_type": "stream",
     "text": [
      "Test thumbnail difference between creating from file and data\n",
      "\n",
      "From file:\t1 loops, best of 3: 269 ms per loop\n",
      "From data:\t1 loops, best of 3: 312 ms per loop\n"
     ]
    }
   ],
   "source": [
    "path = \"../../Images/big/109ai.jpg\"\n",
    "data = open_img(path)#, size=(4000, 4000))\n",
    "data.shape\n",
    "print(\"Test thumbnail difference between creating from file and data\\n\")\n",
    "print(\"From file:\\t\"),\n",
    "%timeit get_thumbnail(path)\n",
    "print(\"From data:\\t\"),\n",
    "%timeit get_thumbnail(data)"
   ]
  }
 ],
 "metadata": {
  "kernelspec": {
   "display_name": "Python 3 (ipykernel)",
   "language": "python",
   "name": "python3"
  },
  "language_info": {
   "codemirror_mode": {
    "name": "ipython",
    "version": 3
   },
   "file_extension": ".py",
   "mimetype": "text/x-python",
   "name": "python",
   "nbconvert_exporter": "python",
   "pygments_lexer": "ipython3",
   "version": "3.7.9"
  }
 },
 "nbformat": 4,
 "nbformat_minor": 1
}
