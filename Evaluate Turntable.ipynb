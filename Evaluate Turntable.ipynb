{
 "metadata": {
  "name": "",
  "signature": "sha256:fae4e9641f68f0bceb71d78c9e9949762ef91496e316a1e00444b8e3455413d5"
 },
 "nbformat": 3,
 "nbformat_minor": 0,
 "worksheets": [
  {
   "cells": [
    {
     "cell_type": "code",
     "collapsed": false,
     "input": [
      "%load_ext autoreload\n",
      "%autoreload 2\n",
      "\n",
      "import turntable\n",
      "import turntable_ground_truth\n",
      "from cache import Metric_Cache, Grid_Cache\n",
      "import fastmatch\n",
      "import imaging\n",
      "import cv2\n",
      "import figures\n",
      "import profile\n",
      "import cProfile\n",
      "import pandas"
     ],
     "language": "python",
     "metadata": {},
     "outputs": [],
     "prompt_number": 1
    },
    {
     "cell_type": "code",
     "collapsed": false,
     "input": [
      "options = {\"distance_threshold\" : 5 }\n",
      "flowerlamp_gt = turntable_ground_truth.ground_truth((0, 25), \"FlowerLamp\", options = options)\n",
      "flowerlamp_gt[\"nb_correspondences\"]"
     ],
     "language": "python",
     "metadata": {},
     "outputs": [
      {
       "metadata": {},
       "output_type": "pyout",
       "prompt_number": 2,
       "text": [
        "9863"
       ]
      }
     ],
     "prompt_number": 2
    },
    {
     "cell_type": "code",
     "collapsed": false,
     "input": [
      "options = {\"evaluate_verbose\" : True,\n",
      "           \"thumb_strategy\" : lambda n : min(n*1.2, 1.0),\n",
      "           \"neighbor_strategy\" : lambda n : min(n + 0.1, 1.0),\n",
      "           \"grid_size\" : (90, 90),\n",
      "            \"grid_margin\" : 25,\n",
      "            \"radius\" : 50,\n",
      "            \"thumb_size\" : (250, 250)}\n",
      "results = turntable.evaluate(fastmatch.match, \n",
      "                             (0, 25), \n",
      "                             \"FlowerLamp\", \n",
      "                             numpy.linspace(0.5, 1.2, 15), \n",
      "                             ground_truth = flowerlamp_gt,\n",
      "                             options = options)\n",
      "print(\"Tau:\\t   %s\" % map(lambda n : \"%.2f\" % n, numpy.linspace(0.5, 1.2, 15)))\n",
      "print(\"Correct:   %s\" % map(lambda n : \"%4i\" % n, results[\"correct\"]))\n",
      "print(\"Total:\\t   %s\" % map(lambda n : \"%4i\" % n, results[\"total\"]))\n",
      "print(\"Precision: %s\" % map(lambda n : \"%.2f\" % n, results[\"precision\"]))"
     ],
     "language": "python",
     "metadata": {},
     "outputs": [
      {
       "output_type": "stream",
       "stream": "stdout",
       "text": [
        "matching\n",
        "../../Images/turntable//imageset_1/FlowerLamp/Bottom/img_1-000_08-35-08_0.JPG\n",
        "../../Images/turntable//imageset_1/FlowerLamp/Bottom/img_1-025_08-36-34_0.JPG\n",
        "Tau:\t   ['0.50', '0.55', '0.60', '0.65', '0.70', '0.75', '0.80', '0.85', '0.90', '0.95', '1.00', '1.05', '1.10', '1.15', '1.20']"
       ]
      },
      {
       "output_type": "stream",
       "stream": "stdout",
       "text": [
        "\n",
        "Correct:   ['   3', '   3', '   5', '   5', '   7', '   9', '   9', '  15', '  24', '  35', '  43', '  47', '  56', '  68', '  76']\n",
        "Total:\t   ['   5', '   5', '   7', '   9', '  13', '  24', '  35', '  71', ' 133', ' 201', ' 275', ' 368', ' 495', ' 632', ' 788']\n",
        "Precision: ['0.60', '0.60', '0.71', '0.56', '0.54', '0.38', '0.26', '0.21', '0.18', '0.17', '0.16', '0.13', '0.11', '0.11', '0.10']\n"
       ]
      }
     ],
     "prompt_number": 11
    },
    {
     "cell_type": "code",
     "collapsed": false,
     "input": [
      "options = {\"evaluate_verbose\" : True,\n",
      "           \"thumb_strategy\" : lambda n : min(n*1.2, 1.0),\n",
      "           \"neighbor_strategy\" : lambda n : min(n*1.2, 1.0),\n",
      "           \"grid_size\" : (90, 90),\n",
      "            \"grid_margin\" : 25,\n",
      "            \"radius\" : 50,\n",
      "            \"thumb_size\" : (250, 250)}\n",
      "results = turntable.evaluate(fastmatch.match, \n",
      "                             (0, 25), \n",
      "                             \"FlowerLamp\", \n",
      "                             numpy.linspace(0.5, 1.2, 15), \n",
      "                             ground_truth = flowerlamp_gt, \n",
      "                             options = options)\n",
      "print(\"Tau:\\t   %s\" % map(lambda n : \"%.2f\" % n, numpy.linspace(0.5, 1.2, 15)))\n",
      "print(\"Correct:   %s\" % map(lambda n : \"%4i\" % n, results[\"correct\"]))\n",
      "print(\"Total:\\t   %s\" % map(lambda n : \"%4i\" % n, results[\"total\"]))\n",
      "print(\"Precision: %s\" % map(lambda n : \"%.2f\" % n, results[\"precision\"]))"
     ],
     "language": "python",
     "metadata": {},
     "outputs": [
      {
       "output_type": "stream",
       "stream": "stdout",
       "text": [
        "matching\n",
        "../../Images/turntable//imageset_1/FlowerLamp/Bottom/img_1-000_08-35-08_0.JPG\n",
        "../../Images/turntable//imageset_1/FlowerLamp/Bottom/img_1-025_08-36-34_0.JPG\n",
        "Tau:\t   ['0.50', '0.55', '0.60', '0.65', '0.70', '0.75', '0.80', '0.85', '0.90', '0.95', '1.00', '1.05', '1.10', '1.15', '1.20']"
       ]
      },
      {
       "output_type": "stream",
       "stream": "stdout",
       "text": [
        "\n",
        "Correct:   ['   3', '   3', '   5', '   5', '   7', '   9', '  12', '  18', '  24', '  35', '  43', '  47', '  56', '  68', '  76']\n",
        "Total:\t   ['   5', '   5', '   7', '   9', '  13', '  25', '  53', '  98', ' 133', ' 201', ' 275', ' 368', ' 495', ' 632', ' 788']\n",
        "Precision: ['0.60', '0.60', '0.71', '0.56', '0.54', '0.36', '0.23', '0.18', '0.18', '0.17', '0.16', '0.13', '0.11', '0.11', '0.10']\n"
       ]
      }
     ],
     "prompt_number": 4
    },
    {
     "cell_type": "code",
     "collapsed": false,
     "input": [
      "options = {\"evaluate_verbose\" : True, \n",
      "           \"distance_threshold\" : 5, \n",
      "           \"thumb_strategy\" : lambda n : 1.0,\n",
      "           \"grid_size\" : (90, 90),\n",
      "            \"grid_margin\" : 20,\n",
      "            \"radius\" : 50,\n",
      "            \"thumb_size\" : (250, 250)}\n",
      "results = turntable.evaluate(fastmatch.match, \n",
      "                             (0, 25), \n",
      "                             \"FlowerLamp\", \n",
      "                             numpy.linspace(0.5, 1.2, 15), ground_truth = flowerlamp_gt, options = options)\n",
      "print(\"Tau:\\t  %s\" % map(lambda n : \"%.2f\" % n, numpy.linspace(0.5, 1.2, 15)))\n",
      "print(\"Correct:  %s\" % map(lambda n : \"%4i\" % n, results[\"correct\"]))\n",
      "print(\"Total:\\t  %s\" % map(lambda n : \"%4i\" % n, results[\"total\"]))\n",
      "print(\"Precision:%s\" % map(lambda n : \"%.2f\" % n, results[\"precision\"]))"
     ],
     "language": "python",
     "metadata": {},
     "outputs": [
      {
       "output_type": "stream",
       "stream": "stdout",
       "text": [
        "matching\n",
        "../../Images/turntable//imageset_1/FlowerLamp/Bottom/img_1-000_08-35-08_0.JPG\n",
        "../../Images/turntable//imageset_1/FlowerLamp/Bottom/img_1-025_08-36-34_0.JPG\n",
        "Tau:\t  ['0.50', '0.55', '0.60', '0.65', '0.70', '0.75', '0.80', '0.85', '0.90', '0.95', '1.00', '1.05', '1.10', '1.15', '1.20']"
       ]
      },
      {
       "output_type": "stream",
       "stream": "stdout",
       "text": [
        "\n",
        "Correct:  ['   3', '   3', '   4', '   4', '   6', '  11', '  12', '  13', '  18', '  24', '  26', '  29', '  34', '  37', '  43']\n",
        "Total:\t  ['   4', '   4', '   5', '   6', '  15', '  25', '  40', '  58', '  77', ' 121', ' 169', ' 225', ' 289', ' 357', ' 440']\n",
        "Precision:['0.75', '0.75', '0.80', '0.67', '0.40', '0.44', '0.30', '0.22', '0.23', '0.20', '0.15', '0.13', '0.12', '0.10', '0.10']\n"
       ]
      }
     ],
     "prompt_number": 12
    },
    {
     "cell_type": "code",
     "collapsed": false,
     "input": [
      "options = {\"evaluate_verbose\" : True, \n",
      "           \"distance_threshold\" : 5, \n",
      "           \"thumb_strategy\" : lambda n : min(n*1.2, 0.9),\n",
      "           \"grid_size\" : (75, 75),\n",
      "           \"grid_margin\" : 40,\n",
      "            \"radius\" : 67,\n",
      "            \"thumb_size\" : (200, 200)}\n",
      "results = turntable.evaluate(fastmatch.match, (0, 25), \"FlowerLamp\", numpy.linspace(0.5, 1.2, 15), options = options)\n",
      "accu = numpy.array(results[\"accuracy\"], dtype=numpy.float)\n",
      "print(\"Tau:\\t  %s\" % map(lambda n : \"%.2f\" % n, numpy.linspace(0.5, 1.2, 15)))\n",
      "print(\"Correct:  %s\" % map(lambda n : \"%4i\" % n, results[\"correct\"]))\n",
      "print(\"Total:\\t  %s\" % map(lambda n : \"%4i\" % n, results[\"total\"]))\n",
      "print(\"Accuracy: %s\" % map(lambda n : \"%.2f\" % n, results[\"accuracy\"]))"
     ],
     "language": "python",
     "metadata": {},
     "outputs": [
      {
       "output_type": "stream",
       "stream": "stdout",
       "text": [
        "matching\n",
        "../../Images/turntable//imageset_1/FlowerLamp/Bottom/img_1-000_08-35-08_0.JPG\n",
        "../../Images/turntable//imageset_1/FlowerLamp/Bottom/img_1-025_08-36-34_0.JPG\n"
       ]
      },
      {
       "ename": "ValueError",
       "evalue": "too many values to unpack",
       "output_type": "pyerr",
       "traceback": [
        "\u001b[1;31m---------------------------------------------------------------------------\u001b[0m\n\u001b[1;31mValueError\u001b[0m                                Traceback (most recent call last)",
        "\u001b[1;32m<ipython-input-17-71b368abd2cd>\u001b[0m in \u001b[0;36m<module>\u001b[1;34m()\u001b[0m\n\u001b[0;32m      6\u001b[0m             \u001b[1;34m\"radius\"\u001b[0m \u001b[1;33m:\u001b[0m \u001b[1;36m67\u001b[0m\u001b[1;33m,\u001b[0m\u001b[1;33m\u001b[0m\u001b[0m\n\u001b[0;32m      7\u001b[0m             \"thumb_size\" : (200, 200)}\n\u001b[1;32m----> 8\u001b[1;33m \u001b[0mresults\u001b[0m \u001b[1;33m=\u001b[0m \u001b[0mturntable\u001b[0m\u001b[1;33m.\u001b[0m\u001b[0mevaluate\u001b[0m\u001b[1;33m(\u001b[0m\u001b[0mfastmatch\u001b[0m\u001b[1;33m.\u001b[0m\u001b[0mmatch\u001b[0m\u001b[1;33m,\u001b[0m \u001b[1;33m(\u001b[0m\u001b[1;36m0\u001b[0m\u001b[1;33m,\u001b[0m \u001b[1;36m25\u001b[0m\u001b[1;33m)\u001b[0m\u001b[1;33m,\u001b[0m \u001b[1;34m\"FlowerLamp\"\u001b[0m\u001b[1;33m,\u001b[0m \u001b[0mnumpy\u001b[0m\u001b[1;33m.\u001b[0m\u001b[0mlinspace\u001b[0m\u001b[1;33m(\u001b[0m\u001b[1;36m0.5\u001b[0m\u001b[1;33m,\u001b[0m \u001b[1;36m1.2\u001b[0m\u001b[1;33m,\u001b[0m \u001b[1;36m15\u001b[0m\u001b[1;33m)\u001b[0m\u001b[1;33m,\u001b[0m \u001b[0moptions\u001b[0m \u001b[1;33m=\u001b[0m \u001b[0moptions\u001b[0m\u001b[1;33m)\u001b[0m\u001b[1;33m\u001b[0m\u001b[0m\n\u001b[0m\u001b[0;32m      9\u001b[0m \u001b[0maccu\u001b[0m \u001b[1;33m=\u001b[0m \u001b[0mnumpy\u001b[0m\u001b[1;33m.\u001b[0m\u001b[0marray\u001b[0m\u001b[1;33m(\u001b[0m\u001b[0mresults\u001b[0m\u001b[1;33m[\u001b[0m\u001b[1;34m\"accuracy\"\u001b[0m\u001b[1;33m]\u001b[0m\u001b[1;33m,\u001b[0m \u001b[0mdtype\u001b[0m\u001b[1;33m=\u001b[0m\u001b[0mnumpy\u001b[0m\u001b[1;33m.\u001b[0m\u001b[0mfloat\u001b[0m\u001b[1;33m)\u001b[0m\u001b[1;33m\u001b[0m\u001b[0m\n\u001b[0;32m     10\u001b[0m \u001b[1;32mprint\u001b[0m\u001b[1;33m(\u001b[0m\u001b[1;34m\"Tau:\\t  %s\"\u001b[0m \u001b[1;33m%\u001b[0m \u001b[0mmap\u001b[0m\u001b[1;33m(\u001b[0m\u001b[1;32mlambda\u001b[0m \u001b[0mn\u001b[0m \u001b[1;33m:\u001b[0m \u001b[1;34m\"%.2f\"\u001b[0m \u001b[1;33m%\u001b[0m \u001b[0mn\u001b[0m\u001b[1;33m,\u001b[0m \u001b[0mnumpy\u001b[0m\u001b[1;33m.\u001b[0m\u001b[0mlinspace\u001b[0m\u001b[1;33m(\u001b[0m\u001b[1;36m0.5\u001b[0m\u001b[1;33m,\u001b[0m \u001b[1;36m1.2\u001b[0m\u001b[1;33m,\u001b[0m \u001b[1;36m15\u001b[0m\u001b[1;33m)\u001b[0m\u001b[1;33m)\u001b[0m\u001b[1;33m)\u001b[0m\u001b[1;33m\u001b[0m\u001b[0m\n",
        "\u001b[1;32m/home/arnfred/Experiments/fastmatch/turntable.py\u001b[0m in \u001b[0;36mevaluate\u001b[1;34m(match_fun, angles, object_type, thresholds, ground_truth, options)\u001b[0m\n\u001b[0;32m     66\u001b[0m \u001b[1;33m\u001b[0m\u001b[0m\n\u001b[0;32m     67\u001b[0m     \u001b[1;31m# For each set of matches count correct matches\u001b[0m\u001b[1;33m\u001b[0m\u001b[1;33m\u001b[0m\u001b[0m\n\u001b[1;32m---> 68\u001b[1;33m     \u001b[0mcorrect\u001b[0m \u001b[1;33m=\u001b[0m \u001b[0mnumpy\u001b[0m\u001b[1;33m.\u001b[0m\u001b[0marray\u001b[0m\u001b[1;33m(\u001b[0m\u001b[1;33m[\u001b[0m\u001b[0mget_correct\u001b[0m\u001b[1;33m(\u001b[0m\u001b[0mms\u001b[0m\u001b[1;33m,\u001b[0m \u001b[0mimg\u001b[0m\u001b[1;33m)\u001b[0m \u001b[1;32mfor\u001b[0m \u001b[0mimg\u001b[0m\u001b[1;33m,\u001b[0m \u001b[0mms\u001b[0m \u001b[1;32min\u001b[0m \u001b[0mmatches\u001b[0m\u001b[1;33m]\u001b[0m\u001b[1;33m)\u001b[0m\u001b[1;33m\u001b[0m\u001b[0m\n\u001b[0m\u001b[0;32m     69\u001b[0m     \u001b[0mtotal\u001b[0m \u001b[1;33m=\u001b[0m \u001b[0mnumpy\u001b[0m\u001b[1;33m.\u001b[0m\u001b[0marray\u001b[0m\u001b[1;33m(\u001b[0m\u001b[1;33m[\u001b[0m\u001b[0mget_total\u001b[0m\u001b[1;33m(\u001b[0m\u001b[0mms\u001b[0m\u001b[1;33m,\u001b[0m \u001b[0mimg\u001b[0m\u001b[1;33m)\u001b[0m \u001b[1;32mfor\u001b[0m \u001b[0mimg\u001b[0m\u001b[1;33m,\u001b[0m \u001b[0mms\u001b[0m \u001b[1;32min\u001b[0m \u001b[0mmatches\u001b[0m\u001b[1;33m]\u001b[0m\u001b[1;33m)\u001b[0m\u001b[1;33m\u001b[0m\u001b[0m\n\u001b[0;32m     70\u001b[0m     \u001b[0maccuracy\u001b[0m \u001b[1;33m=\u001b[0m \u001b[0mcorrect\u001b[0m \u001b[1;33m/\u001b[0m \u001b[0mnumpy\u001b[0m\u001b[1;33m.\u001b[0m\u001b[0marray\u001b[0m\u001b[1;33m(\u001b[0m\u001b[0mtotal\u001b[0m\u001b[1;33m,\u001b[0m \u001b[0mdtype\u001b[0m\u001b[1;33m=\u001b[0m\u001b[0mnumpy\u001b[0m\u001b[1;33m.\u001b[0m\u001b[0mfloat\u001b[0m\u001b[1;33m)\u001b[0m\u001b[1;33m\u001b[0m\u001b[0m\n",
        "\u001b[1;31mValueError\u001b[0m: too many values to unpack"
       ]
      }
     ],
     "prompt_number": 17
    },
    {
     "cell_type": "code",
     "collapsed": false,
     "input": [
      "options = {\"evaluate_verbose\" : True, \n",
      "           \"distance_threshold\" : 5, \n",
      "           \"thumb_strategy\" : lambda n : min(n*1.2, 0.9),\n",
      "           \"grid_size\" : (75, 75),\n",
      "           \"grid_margin\" : 40,\n",
      "            \"radius\" : 60}\n",
      "results = turntable.evaluate(fastmatch.match, (0, 25), \"FlowerLamp\", numpy.linspace(0.5, 1.2, 15), options = options)\n",
      "accu = numpy.array(results[\"accuracy\"], dtype=numpy.float)\n",
      "print(\"Tau:\\t  %s\" % map(lambda n : \"%.2f\" % n, numpy.linspace(0.5, 1.2, 15)))\n",
      "print(\"Correct:  %s\" % map(lambda n : \"%4i\" % n, results[\"correct\"]))\n",
      "print(\"Total:\\t  %s\" % map(lambda n : \"%4i\" % n, results[\"total\"]))\n",
      "print(\"Accuracy: %s\" % map(lambda n : \"%.2f\" % n, results[\"accuracy\"]))"
     ],
     "language": "python",
     "metadata": {},
     "outputs": [
      {
       "output_type": "stream",
       "stream": "stdout",
       "text": [
        "matching\n",
        "../../Images/turntable//imageset_1/FlowerLamp/Bottom/img_1-000_08-35-08_0.JPG\n",
        "../../Images/turntable//imageset_1/FlowerLamp/Bottom/img_1-025_08-36-34_0.JPG\n",
        "Tau:\t  ['0.50', '0.55', '0.60', '0.65', '0.70', '0.75', '0.80', '0.85', '0.90', '0.95', '1.00', '1.05', '1.10', '1.15', '1.20']"
       ]
      },
      {
       "output_type": "stream",
       "stream": "stdout",
       "text": [
        "\n",
        "Correct:  ['   1', '   3', '   3', '   3', '   5', '   7', '  12', '  16', '  20', '  43', '  57', '  66', '  88', ' 110', ' 125']\n",
        "Total:\t  ['   8', '  14', '  18', '  27', '  39', '  60', '  78', ' 106', ' 140', ' 313', ' 508', ' 815', '1322', '1756', '2305']\n",
        "Accuracy: ['0.12', '0.21', '0.17', '0.11', '0.13', '0.12', '0.15', '0.15', '0.14', '0.14', '0.11', '0.08', '0.07', '0.06', '0.05']\n"
       ]
      }
     ],
     "prompt_number": 18
    },
    {
     "cell_type": "code",
     "collapsed": false,
     "input": [
      "options = {\"evaluate_verbose\" : True, \n",
      "           \"distance_threshold\" : 5, \n",
      "           \"thumb_strategy\" : lambda n : min(n*1.2, 0.9),\n",
      "           \"grid_size\" : (75, 75),\n",
      "           \"grid_margin\" : 40,\n",
      "            \"radius\" : 60}\n",
      "results = turntable.evaluate(fastmatch.match, (0, 25), \"FlowerLamp\", numpy.linspace(0.5, 1.2, 15), options = options)\n",
      "accu = numpy.array(results[\"accuracy\"], dtype=numpy.float)\n",
      "print(\"Tau:\\t  %s\" % map(lambda n : \"%.2f\" % n, numpy.linspace(0.5, 1.2, 15)))\n",
      "print(\"Correct:  %s\" % map(lambda n : \"%4i\" % n, results[\"correct\"]))\n",
      "print(\"Total:\\t  %s\" % map(lambda n : \"%4i\" % n, results[\"total\"]))\n",
      "print(\"Accuracy: %s\" % map(lambda n : \"%.2f\" % n, results[\"accuracy\"]))"
     ],
     "language": "python",
     "metadata": {},
     "outputs": [
      {
       "output_type": "stream",
       "stream": "stdout",
       "text": [
        "matching\n",
        "../../Images/turntable//imageset_1/FlowerLamp/Bottom/img_1-000_08-35-08_0.JPG\n",
        "../../Images/turntable//imageset_1/FlowerLamp/Bottom/img_1-025_08-36-34_0.JPG\n",
        "Tau:\t  ['0.50', '0.55', '0.60', '0.65', '0.70', '0.75', '0.80', '0.85', '0.90', '0.95', '1.00', '1.05', '1.10', '1.15', '1.20']"
       ]
      },
      {
       "output_type": "stream",
       "stream": "stdout",
       "text": [
        "\n",
        "Correct:  ['   1', '   3', '   3', '   3', '   5', '   7', '  12', '  16', '  20', '  43', '  57', '  66', '  88', ' 110', ' 125']\n",
        "Total:\t  ['   8', '  14', '  18', '  27', '  39', '  60', '  78', ' 106', ' 140', ' 313', ' 508', ' 815', '1322', '1756', '2305']\n",
        "Accuracy: ['0.12', '0.21', '0.17', '0.11', '0.13', '0.12', '0.15', '0.15', '0.14', '0.14', '0.11', '0.08', '0.07', '0.06', '0.05']\n"
       ]
      }
     ],
     "prompt_number": 30
    },
    {
     "cell_type": "code",
     "collapsed": false,
     "input": [
      "options = {\"evaluate_verbose\" : True, \n",
      "           \"distance_threshold\" : 5, \n",
      "           \"thumb_strategy\" : lambda n : min(n*1.2, 0.9),\n",
      "           \"grid_size\" : (75, 75),\n",
      "           \"grid_margin\" : 40,\n",
      "            \"radius\" : 45}\n",
      "results = turntable.evaluate(fastmatch.match, (0, 25), \"FlowerLamp\", numpy.linspace(0.5, 1.2, 15), options = options)\n",
      "accu = numpy.array(results[\"accuracy\"], dtype=numpy.float)\n",
      "print(\"Tau:\\t  %s\" % map(lambda n : \"%.2f\" % n, numpy.linspace(0.5, 1.2, 15)))\n",
      "print(\"Correct:  %s\" % map(lambda n : \"%4i\" % n, results[\"correct\"]))\n",
      "print(\"Total:\\t  %s\" % map(lambda n : \"%4i\" % n, results[\"total\"]))\n",
      "print(\"Accuracy: %s\" % map(lambda n : \"%.2f\" % n, results[\"accuracy\"]))"
     ],
     "language": "python",
     "metadata": {},
     "outputs": [
      {
       "output_type": "stream",
       "stream": "stdout",
       "text": [
        "matching\n",
        "../../Images/turntable//imageset_1/FlowerLamp/Bottom/img_1-000_08-35-08_0.JPG\n",
        "../../Images/turntable//imageset_1/FlowerLamp/Bottom/img_1-025_08-36-34_0.JPG\n",
        "Tau:\t  ['0.50', '0.55', '0.60', '0.65', '0.70', '0.75', '0.80', '0.85', '0.90', '0.95', '1.00', '1.05', '1.10', '1.15', '1.20']"
       ]
      },
      {
       "output_type": "stream",
       "stream": "stdout",
       "text": [
        "\n",
        "Correct:  ['   1', '   3', '   3', '   3', '   5', '   6', '   9', '  13', '  14', '  22', '  30', '  35', '  46', '  57', ' 111']\n",
        "Total:\t  ['   8', '  13', '  15', '  23', '  32', '  41', '  49', '  69', '  91', ' 175', ' 282', ' 395', ' 655', ' 917', '1698']\n",
        "Accuracy: ['0.12', '0.23', '0.20', '0.13', '0.16', '0.15', '0.18', '0.19', '0.15', '0.13', '0.11', '0.09', '0.07', '0.06', '0.07']\n"
       ]
      }
     ],
     "prompt_number": 20
    },
    {
     "cell_type": "code",
     "collapsed": false,
     "input": [
      "options = {\"evaluate_verbose\" : True, \n",
      "           \"distance_threshold\" : 5, \n",
      "           \"thumb_strategy\" : lambda n : min(n*1.2, 0.9),\n",
      "           \"grid_size\" : (75, 75),\n",
      "           \"grid_margin\" : 40,\n",
      "            \"radius\" : 40}\n",
      "results = turntable.evaluate(fastmatch.match, (0, 25), \"FlowerLamp\", numpy.linspace(0.5, 1.2, 15), options = options)\n",
      "accu = numpy.array(results[\"accuracy\"], dtype=numpy.float)\n",
      "print(\"Tau:\\t  %s\" % map(lambda n : \"%.2f\" % n, numpy.linspace(0.5, 1.2, 15)))\n",
      "print(\"Correct:  %s\" % map(lambda n : \"%4i\" % n, results[\"correct\"]))\n",
      "print(\"Total:\\t  %s\" % map(lambda n : \"%4i\" % n, results[\"total\"]))\n",
      "print(\"Accuracy: %s\" % map(lambda n : \"%.2f\" % n, results[\"accuracy\"]))"
     ],
     "language": "python",
     "metadata": {},
     "outputs": [
      {
       "output_type": "stream",
       "stream": "stdout",
       "text": [
        "matching\n",
        "../../Images/turntable//imageset_1/FlowerLamp/Bottom/img_1-000_08-35-08_0.JPG\n",
        "../../Images/turntable//imageset_1/FlowerLamp/Bottom/img_1-025_08-36-34_0.JPG\n",
        "Tau:\t  ['0.50', '0.55', '0.60', '0.65', '0.70', '0.75', '0.80', '0.85', '0.90', '0.95', '1.00', '1.05', '1.10', '1.15', '1.20']"
       ]
      },
      {
       "output_type": "stream",
       "stream": "stdout",
       "text": [
        "\n",
        "Correct:  ['   1', '   3', '   3', '   3', '   5', '   6', '   8', '  12', '  13', '  22', '  28', '  31', '  41', '  52', '  59']\n",
        "Total:\t  ['   8', '  11', '  12', '  17', '  22', '  32', '  41', '  54', '  72', ' 142', ' 220', ' 327', ' 493', ' 756', '1087']\n",
        "Accuracy: ['0.12', '0.27', '0.25', '0.18', '0.23', '0.19', '0.20', '0.22', '0.18', '0.15', '0.13', '0.09', '0.08', '0.07', '0.05']\n"
       ]
      }
     ],
     "prompt_number": 21
    },
    {
     "cell_type": "code",
     "collapsed": false,
     "input": [
      "options = {\"evaluate_verbose\" : True, \n",
      "           \"distance_threshold\" : 5, \n",
      "           \"thumb_strategy\" : lambda n : min(n*1.2, 0.9),\n",
      "           \"grid_size\" : (75, 75),\n",
      "           \"grid_margin\" : 40,\n",
      "            \"radius\" : 35}\n",
      "results = turntable.evaluate(fastmatch.match, (0, 25), \"FlowerLamp\", numpy.linspace(0.5, 1.2, 15), options = options)\n",
      "accu = numpy.array(results[\"accuracy\"], dtype=numpy.float)\n",
      "print(\"Tau:\\t  %s\" % map(lambda n : \"%.2f\" % n, numpy.linspace(0.5, 1.2, 15)))\n",
      "print(\"Correct:  %s\" % map(lambda n : \"%4i\" % n, results[\"correct\"]))\n",
      "print(\"Total:\\t  %s\" % map(lambda n : \"%4i\" % n, results[\"total\"]))\n",
      "print(\"Accuracy: %s\" % map(lambda n : \"%.2f\" % n, results[\"accuracy\"]))"
     ],
     "language": "python",
     "metadata": {},
     "outputs": [
      {
       "output_type": "stream",
       "stream": "stdout",
       "text": [
        "matching\n",
        "../../Images/turntable//imageset_1/FlowerLamp/Bottom/img_1-000_08-35-08_0.JPG\n",
        "../../Images/turntable//imageset_1/FlowerLamp/Bottom/img_1-025_08-36-34_0.JPG\n",
        "Tau:\t  ['0.50', '0.55', '0.60', '0.65', '0.70', '0.75', '0.80', '0.85', '0.90', '0.95', '1.00', '1.05', '1.10', '1.15', '1.20']"
       ]
      },
      {
       "output_type": "stream",
       "stream": "stdout",
       "text": [
        "\n",
        "Correct:  ['   1', '   3', '   3', '   3', '   4', '   5', '   7', '  10', '   9', '  15', '  20', '  25', '  31', '  38', '  50']\n",
        "Total:\t  ['   7', '  10', '  10', '  14', '  17', '  25', '  32', '  40', '  56', ' 105', ' 165', ' 240', ' 300', ' 484', ' 705']\n",
        "Accuracy: ['0.14', '0.30', '0.30', '0.21', '0.24', '0.20', '0.22', '0.25', '0.16', '0.14', '0.12', '0.10', '0.10', '0.08', '0.07']\n"
       ]
      }
     ],
     "prompt_number": 23
    },
    {
     "cell_type": "code",
     "collapsed": false,
     "input": [
      "options = {\"evaluate_verbose\" : True, \n",
      "           \"distance_threshold\" : 5, \n",
      "           \"thumb_strategy\" : lambda n : min(n*1.2, 0.9),\n",
      "           \"grid_size\" : (75, 75),\n",
      "           \"grid_margin\" : 40,\n",
      "            \"radius\" : 30}\n",
      "turntable.evaluate(fastmatch.match, (0, 25), \"FlowerLamp\", numpy.linspace(0.5, 1.2, 20), options)\n",
      "#profile.run('turntable.evaluate(fastmatch.match, (0, 25), \"FlowerLamp\", numpy.linspace(0.5, 1.2, 20), options)')"
     ],
     "language": "python",
     "metadata": {},
     "outputs": [
      {
       "metadata": {},
       "output_type": "pyout",
       "prompt_number": 24,
       "text": [
        "{'accuracy': array([ 0.        ,  0.16666667,  0.15      ,  0.13043478,  0.09677419,\n",
        "         0.07692308,  0.06382979,  0.05769231,  0.07936508,  0.12195122,\n",
        "         0.11764706,  0.15263158,  0.14956012,  0.12698413,  0.11229135,\n",
        "         0.09453303,  0.07594937,  0.06696147,  0.05642317,  0.05196982]),\n",
        " 'correct': array([  0,   3,   3,   3,   3,   3,   3,   3,   5,  10,  12,  29,  51,\n",
        "         64,  74,  83,  90, 106, 112, 124]),\n",
        " 'total': array([  11,   18,   20,   23,   31,   39,   47,   52,   63,   82,  102,\n",
        "         190,  341,  504,  659,  878, 1185, 1583, 1985, 2386])}"
       ]
      }
     ],
     "prompt_number": 24
    },
    {
     "cell_type": "code",
     "collapsed": false,
     "input": [
      "{ \"a\" : 1, \"b\" : 2}.values()"
     ],
     "language": "python",
     "metadata": {},
     "outputs": [
      {
       "metadata": {},
       "output_type": "pyout",
       "prompt_number": 325,
       "text": [
        "[1, 2]"
       ]
      }
     ],
     "prompt_number": 325
    }
   ],
   "metadata": {}
  }
 ]
}