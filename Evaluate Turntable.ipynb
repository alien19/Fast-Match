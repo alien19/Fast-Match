{
 "metadata": {
  "name": "",
  "signature": "sha256:3f2578a3a907795e36bbfa4cabd7d56a08bee21019f46961f045ef1f123262ef"
 },
 "nbformat": 3,
 "nbformat_minor": 0,
 "worksheets": [
  {
   "cells": [
    {
     "cell_type": "code",
     "collapsed": false,
     "input": [
      "%load_ext autoreload\n",
      "%autoreload 2"
     ],
     "language": "python",
     "metadata": {},
     "outputs": [],
     "prompt_number": 1
    },
    {
     "cell_type": "code",
     "collapsed": false,
     "input": [
      "import turntable\n",
      "from turntable_ground_truth import ground_truth as get_gt\n",
      "from cache import Metric_Cache, Grid_Cache\n",
      "import match_methods\n",
      "import fastmatch\n",
      "import imaging\n",
      "import cv2\n",
      "import figures\n",
      "import profile\n",
      "import cProfile\n",
      "import pandas\n",
      "from ggplot import *"
     ],
     "language": "python",
     "metadata": {},
     "outputs": [],
     "prompt_number": 2
    },
    {
     "cell_type": "code",
     "collapsed": false,
     "input": [
      "options = {\"distance_threshold\" : 5,\n",
      "           \"evaluate_verbose\" : True}\n",
      "\n",
      "# Objects in imageset1\n",
      "object_types = [\"Conch\", \"FlowerLamp\", \"Motorcycle\", \"Rock\", \"Bannanas\", \n",
      "                \"Car\", \"Desk\", \"GrandfatherClock\", \"Robot\", \"TeddyBear\", \n",
      "                \"Base\", \"Car2\", \"Dog\", \"Horse\", \"Tricycle\"]\n",
      "\n",
      "# Thresholds\n",
      "thresholds = numpy.linspace(0,1.5,100)\n",
      "\n",
      "# The matching algorithms\n",
      "matching_methods = [(\"grid\", match_methods.grid_v1),\n",
      "                    (\"ratio\", match_methods.flann),\n",
      "                    (\"mirror\", match_methods.mirror)]\n",
      "\n",
      "# Not 0 because of problem with checkerboard\n",
      "base_angle = 10\n",
      "angle_diffs = [5, 10, 15, 20]#, 25, 30, 35, 40, 45, 50, 55, 60]\n",
      "\n",
      "results = {}\n",
      "ground_truth = {}"
     ],
     "language": "python",
     "metadata": {},
     "outputs": [],
     "prompt_number": 3
    },
    {
     "cell_type": "code",
     "collapsed": false,
     "input": [
      "# Function for computing the results\n",
      "def get_results(name, match_fun, angle_diff, ground_truth, base_angle = 10) :\n",
      "    print(\"\\nNow evaluating %s:\" % name)\n",
      "    return turntable.evaluate_objects(match_fun, \n",
      "                                      (base_angle, base_angle+angle_diff),\n",
      "                                      object_types, \n",
      "                                      thresholds, \n",
      "                                      ground_truth, options)"
     ],
     "language": "python",
     "metadata": {},
     "outputs": [],
     "prompt_number": 4
    },
    {
     "cell_type": "code",
     "collapsed": false,
     "input": [
      "for angle_diff in angle_diffs :\n",
      "    print(\"\")\n",
      "    gt = { obj : get_gt((base_angle, base_angle + angle_diff), obj, options) for obj in object_types }\n",
      "    results[angle_diff] = { name : get_results(name, match_fun, angle_diff, gt) for name, match_fun in matching_methods }\n",
      "    ground_truth[angle_diff] = gt"
     ],
     "language": "python",
     "metadata": {},
     "outputs": [
      {
       "output_type": "stream",
       "stream": "stdout",
       "text": [
        "\n",
        "           Conch (10, 15):    693 theoretically possible correspondences"
       ]
      },
      {
       "output_type": "stream",
       "stream": "stdout",
       "text": [
        "\n",
        "      FlowerLamp (10, 15):   1393 theoretically possible correspondences"
       ]
      },
      {
       "output_type": "stream",
       "stream": "stdout",
       "text": [
        "\n",
        "      Motorcycle (10, 15):   4501 theoretically possible correspondences"
       ]
      },
      {
       "output_type": "stream",
       "stream": "stdout",
       "text": [
        "\n",
        "            Rock (10, 15):   2017 theoretically possible correspondences"
       ]
      },
      {
       "output_type": "stream",
       "stream": "stdout",
       "text": [
        "\n",
        "        Bannanas (10, 15):    929 theoretically possible correspondences"
       ]
      },
      {
       "output_type": "stream",
       "stream": "stdout",
       "text": [
        "\n",
        "             Car (10, 15):    241 theoretically possible correspondences"
       ]
      },
      {
       "output_type": "stream",
       "stream": "stdout",
       "text": [
        "\n",
        "            Desk (10, 15):   1874 theoretically possible correspondences"
       ]
      },
      {
       "output_type": "stream",
       "stream": "stdout",
       "text": [
        "\n",
        "GrandfatherClock (10, 15):   1554 theoretically possible correspondences"
       ]
      },
      {
       "output_type": "stream",
       "stream": "stdout",
       "text": [
        "\n",
        "           Robot (10, 15):   1420 theoretically possible correspondences"
       ]
      },
      {
       "output_type": "stream",
       "stream": "stdout",
       "text": [
        "\n",
        "       TeddyBear (10, 15):   1587 theoretically possible correspondences"
       ]
      },
      {
       "output_type": "stream",
       "stream": "stdout",
       "text": [
        "\n",
        "            Base (10, 15):   2710 theoretically possible correspondences"
       ]
      },
      {
       "output_type": "stream",
       "stream": "stdout",
       "text": [
        "\n",
        "            Car2 (10, 15):   3967 theoretically possible correspondences"
       ]
      },
      {
       "output_type": "stream",
       "stream": "stdout",
       "text": [
        "\n",
        "             Dog (10, 15):   2168 theoretically possible correspondences"
       ]
      },
      {
       "output_type": "stream",
       "stream": "stdout",
       "text": [
        "\n",
        "           Horse (10, 15):   3098 theoretically possible correspondences"
       ]
      },
      {
       "output_type": "stream",
       "stream": "stdout",
       "text": [
        "\n",
        "        Tricycle (10, 15):   3754 theoretically possible correspondences"
       ]
      },
      {
       "output_type": "stream",
       "stream": "stdout",
       "text": [
        "\n",
        "\n",
        "Now evaluating grid:\n",
        "           Conch (10, 15):  25573 correct of  61456 total (64196 Matches).\t Precision: 0.826 - Recall: 0.371 (median)"
       ]
      },
      {
       "output_type": "stream",
       "stream": "stdout",
       "text": [
        "\n",
        "      FlowerLamp (10, 15):  12431 correct of  42633 total (46842 Matches).\t Precision: 0.613 - Recall: 0.070 (median)"
       ]
      },
      {
       "output_type": "stream",
       "stream": "stdout",
       "text": [
        "\n",
        "      Motorcycle (10, 15): 159077 correct of 378096 total (383504 Matches).\t Precision: 0.836 - Recall: 0.311 (median)"
       ]
      },
      {
       "output_type": "stream",
       "stream": "stdout",
       "text": [
        "\n",
        "            Rock (10, 15):  15375 correct of  32906 total (37048 Matches).\t Precision: 0.574 - Recall: 0.067 (median)"
       ]
      },
      {
       "output_type": "stream",
       "stream": "stdout",
       "text": [
        "\n",
        "        Bannanas (10, 15):   9984 correct of  23462 total (32704 Matches).\t Precision: 0.512 - Recall: 0.083 (median)"
       ]
      },
      {
       "output_type": "stream",
       "stream": "stdout",
       "text": [
        "\n",
        "             Car (10, 15):   4053 correct of   5578 total (6927 Matches).\t Precision: 0.842 - Recall: 0.135 (median)"
       ]
      },
      {
       "output_type": "stream",
       "stream": "stdout",
       "text": [
        "\n",
        "            Desk (10, 15):  34048 correct of  68051 total (76673 Matches).\t Precision: 0.650 - Recall: 0.170 (median)"
       ]
      },
      {
       "output_type": "stream",
       "stream": "stdout",
       "text": [
        "\n",
        "GrandfatherClock (10, 15):  46286 correct of  80945 total (85577 Matches).\t Precision: 0.822 - Recall: 0.335 (median)"
       ]
      },
      {
       "output_type": "stream",
       "stream": "stdout",
       "text": [
        "\n",
        "           Robot (10, 15):  37626 correct of  76576 total (81878 Matches).\t Precision: 0.794 - Recall: 0.278 (median)"
       ]
      },
      {
       "output_type": "stream",
       "stream": "stdout",
       "text": [
        "\n",
        "       TeddyBear (10, 15):  65968 correct of 122676 total (128055 Matches).\t Precision: 0.863 - Recall: 0.472 (median)"
       ]
      },
      {
       "output_type": "stream",
       "stream": "stdout",
       "text": [
        "\n",
        "            Base (10, 15):  78287 correct of 216136 total (219668 Matches).\t Precision: 0.796 - Recall: 0.296 (median)"
       ]
      },
      {
       "output_type": "stream",
       "stream": "stdout",
       "text": [
        "\n",
        "            Car2 (10, 15):  43826 correct of 120056 total (127550 Matches).\t Precision: 0.628 - Recall: 0.086 (median)"
       ]
      },
      {
       "output_type": "stream",
       "stream": "stdout",
       "text": [
        "\n",
        "             Dog (10, 15):  31124 correct of  88099 total (93058 Matches).\t Precision: 0.659 - Recall: 0.133 (median)"
       ]
      },
      {
       "output_type": "stream",
       "stream": "stdout",
       "text": [
        "\n",
        "           Horse (10, 15):  72662 correct of 147842 total (160510 Matches).\t Precision: 0.730 - Recall: 0.219 (median)"
       ]
      },
      {
       "output_type": "stream",
       "stream": "stdout",
       "text": [
        "\n",
        "        Tricycle (10, 15):  39064 correct of  74089 total (76913 Matches).\t Precision: 0.784 - Recall: 0.098 (median)"
       ]
      },
      {
       "output_type": "stream",
       "stream": "stdout",
       "text": [
        "\n",
        "\n",
        "Now evaluating ratio:\n",
        "           Conch (10, 15):  17611 correct of  36749 total (44787 Matches).\t Precision: 0.909 - Recall: 0.295 (median)"
       ]
      },
      {
       "output_type": "stream",
       "stream": "stdout",
       "text": [
        "\n",
        "      FlowerLamp (10, 15):  11195 correct of  61546 total (79929 Matches).\t Precision: 0.504 - Recall: 0.070 (median)"
       ]
      },
      {
       "output_type": "stream",
       "stream": "stdout",
       "text": [
        "\n",
        "      Motorcycle (10, 15):  88552 correct of 234541 total (248348 Matches).\t Precision: 0.746 - Recall: 0.215 (median)"
       ]
      },
      {
       "output_type": "stream",
       "stream": "stdout",
       "text": [
        "\n",
        "            Rock (10, 15):  25930 correct of  99420 total (123001 Matches).\t Precision: 0.538 - Recall: 0.137 (median)"
       ]
      },
      {
       "output_type": "stream",
       "stream": "stdout",
       "text": [
        "\n",
        "        Bannanas (10, 15):   9560 correct of  41201 total (63715 Matches).\t Precision: 0.625 - Recall: 0.100 (median)"
       ]
      },
      {
       "output_type": "stream",
       "stream": "stdout",
       "text": [
        "\n",
        "             Car (10, 15):   4904 correct of  12707 total (29705 Matches).\t Precision: 0.660 - Recall: 0.205 (median)"
       ]
      },
      {
       "output_type": "stream",
       "stream": "stdout",
       "text": [
        "\n",
        "            Desk (10, 15):  25666 correct of  89448 total (113753 Matches).\t Precision: 0.591 - Recall: 0.137 (median)"
       ]
      },
      {
       "output_type": "stream",
       "stream": "stdout",
       "text": [
        "\n",
        "GrandfatherClock (10, 15):  34478 correct of  85462 total (103893 Matches).\t Precision: 0.778 - Recall: 0.260 (median)"
       ]
      },
      {
       "output_type": "stream",
       "stream": "stdout",
       "text": [
        "\n",
        "           Robot (10, 15):  29331 correct of  72976 total (91832 Matches).\t Precision: 0.525 - Recall: 0.225 (median)"
       ]
      },
      {
       "output_type": "stream",
       "stream": "stdout",
       "text": [
        "\n",
        "       TeddyBear (10, 15):  42257 correct of  86137 total (102945 Matches).\t Precision: 0.874 - Recall: 0.316 (median)"
       ]
      },
      {
       "output_type": "stream",
       "stream": "stdout",
       "text": [
        "\n",
        "            Base (10, 15):  43954 correct of 136911 total (153386 Matches).\t Precision: 0.733 - Recall: 0.180 (median)"
       ]
      },
      {
       "output_type": "stream",
       "stream": "stdout",
       "text": [
        "\n",
        "            Car2 (10, 15):  36002 correct of 186696 total (211408 Matches).\t Precision: 0.507 - Recall: 0.089 (median)"
       ]
      },
      {
       "output_type": "stream",
       "stream": "stdout",
       "text": [
        "\n",
        "             Dog (10, 15):  24233 correct of 101072 total (124134 Matches).\t Precision: 0.617 - Recall: 0.117 (median)"
       ]
      },
      {
       "output_type": "stream",
       "stream": "stdout",
       "text": [
        "\n",
        "           Horse (10, 15):  47950 correct of 150225 total (173032 Matches).\t Precision: 0.708 - Recall: 0.170 (median)"
       ]
      },
      {
       "output_type": "stream",
       "stream": "stdout",
       "text": [
        "\n",
        "        Tricycle (10, 15):  31791 correct of 164195 total (188006 Matches).\t Precision: 0.588 - Recall: 0.082 (median)"
       ]
      },
      {
       "output_type": "stream",
       "stream": "stdout",
       "text": [
        "\n",
        "\n",
        "Now evaluating mirror:\n",
        "           Conch (10, 15):  17061 correct of  33663 total (40923 Matches).\t Precision: 0.933 - Recall: 0.280 (median)"
       ]
      },
      {
       "output_type": "stream",
       "stream": "stdout",
       "text": [
        "\n",
        "      FlowerLamp (10, 15):  10259 correct of  46945 total (62039 Matches).\t Precision: 0.637 - Recall: 0.054 (median)"
       ]
      },
      {
       "output_type": "stream",
       "stream": "stdout",
       "text": [
        "\n",
        "      Motorcycle (10, 15):  85208 correct of 209088 total (221791 Matches).\t Precision: 0.790 - Recall: 0.191 (median)"
       ]
      },
      {
       "output_type": "stream",
       "stream": "stdout",
       "text": [
        "\n",
        "            Rock (10, 15):  24957 correct of  85690 total (105281 Matches).\t Precision: 0.666 - Recall: 0.117 (median)"
       ]
      },
      {
       "output_type": "stream",
       "stream": "stdout",
       "text": [
        "\n",
        "        Bannanas (10, 15):   9303 correct of  35789 total (54660 Matches).\t Precision: 0.667 - Recall: 0.090 (median)"
       ]
      },
      {
       "output_type": "stream",
       "stream": "stdout",
       "text": [
        "\n",
        "             Car (10, 15):   3962 correct of   7134 total (12049 Matches).\t Precision: 0.812 - Recall: 0.168 (median)"
       ]
      },
      {
       "output_type": "stream",
       "stream": "stdout",
       "text": [
        "\n",
        "            Desk (10, 15):  23609 correct of  73545 total (92875 Matches).\t Precision: 0.680 - Recall: 0.109 (median)"
       ]
      },
      {
       "output_type": "stream",
       "stream": "stdout",
       "text": [
        "\n",
        "GrandfatherClock (10, 15):  32841 correct of  72101 total (88216 Matches).\t Precision: 0.861 - Recall: 0.236 (median)"
       ]
      },
      {
       "output_type": "stream",
       "stream": "stdout",
       "text": [
        "\n",
        "           Robot (10, 15):  27710 correct of  64279 total (79834 Matches).\t Precision: 0.555 - Recall: 0.208 (median)"
       ]
      },
      {
       "output_type": "stream",
       "stream": "stdout",
       "text": [
        "\n",
        "       TeddyBear (10, 15):  40877 correct of  79779 total (94778 Matches).\t Precision: 0.898 - Recall: 0.294 (median)"
       ]
      },
      {
       "output_type": "stream",
       "stream": "stdout",
       "text": [
        "\n",
        "            Base (10, 15):  42199 correct of 121207 total (137016 Matches).\t Precision: 0.800 - Recall: 0.168 (median)"
       ]
      },
      {
       "output_type": "stream",
       "stream": "stdout",
       "text": [
        "\n",
        "            Car2 (10, 15):  34333 correct of 156324 total (175428 Matches).\t Precision: 0.553 - Recall: 0.076 (median)"
       ]
      },
      {
       "output_type": "stream",
       "stream": "stdout",
       "text": [
        "\n",
        "             Dog (10, 15):  23645 correct of  93080 total (113147 Matches).\t Precision: 0.674 - Recall: 0.105 (median)"
       ]
      },
      {
       "output_type": "stream",
       "stream": "stdout",
       "text": [
        "\n",
        "           Horse (10, 15):  46652 correct of 133590 total (153333 Matches).\t Precision: 0.711 - Recall: 0.157 (median)"
       ]
      },
      {
       "output_type": "stream",
       "stream": "stdout",
       "text": [
        "\n",
        "        Tricycle (10, 15):  30661 correct of 139810 total (160213 Matches).\t Precision: 0.680 - Recall: 0.070 (median)"
       ]
      },
      {
       "output_type": "stream",
       "stream": "stdout",
       "text": [
        "\n"
       ]
      }
     ],
     "prompt_number": 5
    },
    {
     "cell_type": "code",
     "collapsed": false,
     "input": [
      "# Save data\n",
      "numpy.savez(\"objects_imageset1_angle_5_to_20\", \n",
      "            results = results,\n",
      "            ground_truth = ground_truth)"
     ],
     "language": "python",
     "metadata": {},
     "outputs": [],
     "prompt_number": 6
    },
    {
     "cell_type": "code",
     "collapsed": false,
     "input": [
      "# Load data\n",
      "data = numpy.load(\"objects_imageset1_angle_5_to_20.npz\")\n",
      "results = data['results'][()]\n",
      "ground_truth = data['ground_truth'][()]"
     ],
     "language": "python",
     "metadata": {},
     "outputs": [],
     "prompt_number": 5
    },
    {
     "cell_type": "code",
     "collapsed": true,
     "input": [
      "weights = turntable.get_weights(ground_truth)\n",
      "correct, total, nb_corr = turntable.accumulate(results, ground_truth, weights)"
     ],
     "language": "python",
     "metadata": {},
     "outputs": [],
     "prompt_number": 6
    },
    {
     "cell_type": "code",
     "collapsed": false,
     "input": [
      "nb_corr"
     ],
     "language": "python",
     "metadata": {},
     "outputs": [
      {
       "metadata": {},
       "output_type": "pyout",
       "prompt_number": 7,
       "text": [
        "{5: 1220}"
       ]
      }
     ],
     "prompt_number": 7
    },
    {
     "cell_type": "code",
     "collapsed": false,
     "input": [
      "correct_df = pandas.concat(map(pandas.DataFrame, correct.values()), keys=correct.keys())\n",
      "total_df = pandas.concat(map(pandas.DataFrame, total.values()), keys=total.keys())\n",
      "precision_df = correct_df / total_df\n",
      "recall_df = correct_df.apply(lambda row : row / nb_corr[row.name[0]], axis=1)\n",
      "data_df = (pandas.concat((recall_df, precision_df), keys = [\"recall\", \"precision\"], axis=1).stack()\n",
      "            .reset_index().rename(columns={'level_0': 'angle', 'level_2': 'algorithm'}))\n",
      "del data_df[\"level_1\"]\n",
      "data_df[data_df[\"angle\"] == 5]"
     ],
     "language": "python",
     "metadata": {},
     "outputs": [
      {
       "html": [
        "<div style=\"max-height:1000px;max-width:1500px;overflow:auto;\">\n",
        "<table border=\"1\" class=\"dataframe\">\n",
        "  <thead>\n",
        "    <tr style=\"text-align: right;\">\n",
        "      <th></th>\n",
        "      <th>angle</th>\n",
        "      <th>algorithm</th>\n",
        "      <th>recall</th>\n",
        "      <th>precision</th>\n",
        "    </tr>\n",
        "  </thead>\n",
        "  <tbody>\n",
        "    <tr>\n",
        "      <th>0 </th>\n",
        "      <td> 5</td>\n",
        "      <td>   grid</td>\n",
        "      <td> 0.000000</td>\n",
        "      <td>      NaN</td>\n",
        "    </tr>\n",
        "    <tr>\n",
        "      <th>1 </th>\n",
        "      <td> 5</td>\n",
        "      <td> mirror</td>\n",
        "      <td> 0.000000</td>\n",
        "      <td>      NaN</td>\n",
        "    </tr>\n",
        "    <tr>\n",
        "      <th>2 </th>\n",
        "      <td> 5</td>\n",
        "      <td>  ratio</td>\n",
        "      <td> 0.000000</td>\n",
        "      <td>      NaN</td>\n",
        "    </tr>\n",
        "    <tr>\n",
        "      <th>3 </th>\n",
        "      <td> 5</td>\n",
        "      <td>   grid</td>\n",
        "      <td> 0.000000</td>\n",
        "      <td>      NaN</td>\n",
        "    </tr>\n",
        "    <tr>\n",
        "      <th>4 </th>\n",
        "      <td> 5</td>\n",
        "      <td> mirror</td>\n",
        "      <td> 0.000047</td>\n",
        "      <td> 0.500000</td>\n",
        "    </tr>\n",
        "    <tr>\n",
        "      <th>5 </th>\n",
        "      <td> 5</td>\n",
        "      <td>  ratio</td>\n",
        "      <td> 0.000047</td>\n",
        "      <td> 0.500000</td>\n",
        "    </tr>\n",
        "    <tr>\n",
        "      <th>6 </th>\n",
        "      <td> 5</td>\n",
        "      <td>   grid</td>\n",
        "      <td> 0.000000</td>\n",
        "      <td>      NaN</td>\n",
        "    </tr>\n",
        "    <tr>\n",
        "      <th>7 </th>\n",
        "      <td> 5</td>\n",
        "      <td> mirror</td>\n",
        "      <td> 0.000295</td>\n",
        "      <td> 0.699176</td>\n",
        "    </tr>\n",
        "    <tr>\n",
        "      <th>8 </th>\n",
        "      <td> 5</td>\n",
        "      <td>  ratio</td>\n",
        "      <td> 0.000295</td>\n",
        "      <td> 0.699176</td>\n",
        "    </tr>\n",
        "    <tr>\n",
        "      <th>9 </th>\n",
        "      <td> 5</td>\n",
        "      <td>   grid</td>\n",
        "      <td> 0.000000</td>\n",
        "      <td>      NaN</td>\n",
        "    </tr>\n",
        "    <tr>\n",
        "      <th>10</th>\n",
        "      <td> 5</td>\n",
        "      <td> mirror</td>\n",
        "      <td> 0.000532</td>\n",
        "      <td> 0.706600</td>\n",
        "    </tr>\n",
        "    <tr>\n",
        "      <th>11</th>\n",
        "      <td> 5</td>\n",
        "      <td>  ratio</td>\n",
        "      <td> 0.000581</td>\n",
        "      <td> 0.724601</td>\n",
        "    </tr>\n",
        "    <tr>\n",
        "      <th>12</th>\n",
        "      <td> 5</td>\n",
        "      <td>   grid</td>\n",
        "      <td> 0.000000</td>\n",
        "      <td>      NaN</td>\n",
        "    </tr>\n",
        "    <tr>\n",
        "      <th>13</th>\n",
        "      <td> 5</td>\n",
        "      <td> mirror</td>\n",
        "      <td> 0.000900</td>\n",
        "      <td> 0.802900</td>\n",
        "    </tr>\n",
        "    <tr>\n",
        "      <th>14</th>\n",
        "      <td> 5</td>\n",
        "      <td>  ratio</td>\n",
        "      <td> 0.000900</td>\n",
        "      <td> 0.802900</td>\n",
        "    </tr>\n",
        "    <tr>\n",
        "      <th>15</th>\n",
        "      <td> 5</td>\n",
        "      <td>   grid</td>\n",
        "      <td> 0.000000</td>\n",
        "      <td>      NaN</td>\n",
        "    </tr>\n",
        "    <tr>\n",
        "      <th>16</th>\n",
        "      <td> 5</td>\n",
        "      <td> mirror</td>\n",
        "      <td> 0.001124</td>\n",
        "      <td> 0.810422</td>\n",
        "    </tr>\n",
        "    <tr>\n",
        "      <th>17</th>\n",
        "      <td> 5</td>\n",
        "      <td>  ratio</td>\n",
        "      <td> 0.001171</td>\n",
        "      <td> 0.790733</td>\n",
        "    </tr>\n",
        "    <tr>\n",
        "      <th>18</th>\n",
        "      <td> 5</td>\n",
        "      <td>   grid</td>\n",
        "      <td> 0.000042</td>\n",
        "      <td> 1.000000</td>\n",
        "    </tr>\n",
        "    <tr>\n",
        "      <th>19</th>\n",
        "      <td> 5</td>\n",
        "      <td> mirror</td>\n",
        "      <td> 0.001384</td>\n",
        "      <td> 0.759595</td>\n",
        "    </tr>\n",
        "    <tr>\n",
        "      <th>20</th>\n",
        "      <td> 5</td>\n",
        "      <td>  ratio</td>\n",
        "      <td> 0.001419</td>\n",
        "      <td> 0.764203</td>\n",
        "    </tr>\n",
        "    <tr>\n",
        "      <th>21</th>\n",
        "      <td> 5</td>\n",
        "      <td>   grid</td>\n",
        "      <td> 0.000168</td>\n",
        "      <td> 1.000000</td>\n",
        "    </tr>\n",
        "    <tr>\n",
        "      <th>22</th>\n",
        "      <td> 5</td>\n",
        "      <td> mirror</td>\n",
        "      <td> 0.001611</td>\n",
        "      <td> 0.760774</td>\n",
        "    </tr>\n",
        "    <tr>\n",
        "      <th>23</th>\n",
        "      <td> 5</td>\n",
        "      <td>  ratio</td>\n",
        "      <td> 0.001659</td>\n",
        "      <td> 0.760857</td>\n",
        "    </tr>\n",
        "    <tr>\n",
        "      <th>24</th>\n",
        "      <td> 5</td>\n",
        "      <td>   grid</td>\n",
        "      <td> 0.000517</td>\n",
        "      <td> 1.000000</td>\n",
        "    </tr>\n",
        "    <tr>\n",
        "      <th>25</th>\n",
        "      <td> 5</td>\n",
        "      <td> mirror</td>\n",
        "      <td> 0.002166</td>\n",
        "      <td> 0.783353</td>\n",
        "    </tr>\n",
        "    <tr>\n",
        "      <th>26</th>\n",
        "      <td> 5</td>\n",
        "      <td>  ratio</td>\n",
        "      <td> 0.002311</td>\n",
        "      <td> 0.781508</td>\n",
        "    </tr>\n",
        "    <tr>\n",
        "      <th>27</th>\n",
        "      <td> 5</td>\n",
        "      <td>   grid</td>\n",
        "      <td> 0.001092</td>\n",
        "      <td> 0.866601</td>\n",
        "    </tr>\n",
        "    <tr>\n",
        "      <th>28</th>\n",
        "      <td> 5</td>\n",
        "      <td> mirror</td>\n",
        "      <td> 0.003056</td>\n",
        "      <td> 0.808172</td>\n",
        "    </tr>\n",
        "    <tr>\n",
        "      <th>29</th>\n",
        "      <td> 5</td>\n",
        "      <td>  ratio</td>\n",
        "      <td> 0.003566</td>\n",
        "      <td> 0.805437</td>\n",
        "    </tr>\n",
        "    <tr>\n",
        "      <th>30</th>\n",
        "      <td> 5</td>\n",
        "      <td>   grid</td>\n",
        "      <td> 0.001356</td>\n",
        "      <td> 0.865279</td>\n",
        "    </tr>\n",
        "    <tr>\n",
        "      <th>31</th>\n",
        "      <td> 5</td>\n",
        "      <td> mirror</td>\n",
        "      <td> 0.004244</td>\n",
        "      <td> 0.836789</td>\n",
        "    </tr>\n",
        "    <tr>\n",
        "      <th>32</th>\n",
        "      <td> 5</td>\n",
        "      <td>  ratio</td>\n",
        "      <td> 0.004774</td>\n",
        "      <td> 0.827590</td>\n",
        "    </tr>\n",
        "    <tr>\n",
        "      <th>33</th>\n",
        "      <td> 5</td>\n",
        "      <td>   grid</td>\n",
        "      <td> 0.001945</td>\n",
        "      <td> 0.873046</td>\n",
        "    </tr>\n",
        "    <tr>\n",
        "      <th>34</th>\n",
        "      <td> 5</td>\n",
        "      <td> mirror</td>\n",
        "      <td> 0.005637</td>\n",
        "      <td> 0.834986</td>\n",
        "    </tr>\n",
        "    <tr>\n",
        "      <th>35</th>\n",
        "      <td> 5</td>\n",
        "      <td>  ratio</td>\n",
        "      <td> 0.006454</td>\n",
        "      <td> 0.835106</td>\n",
        "    </tr>\n",
        "    <tr>\n",
        "      <th>36</th>\n",
        "      <td> 5</td>\n",
        "      <td>   grid</td>\n",
        "      <td> 0.002888</td>\n",
        "      <td> 0.860473</td>\n",
        "    </tr>\n",
        "    <tr>\n",
        "      <th>37</th>\n",
        "      <td> 5</td>\n",
        "      <td> mirror</td>\n",
        "      <td> 0.007103</td>\n",
        "      <td> 0.845535</td>\n",
        "    </tr>\n",
        "    <tr>\n",
        "      <th>38</th>\n",
        "      <td> 5</td>\n",
        "      <td>  ratio</td>\n",
        "      <td> 0.008594</td>\n",
        "      <td> 0.859945</td>\n",
        "    </tr>\n",
        "    <tr>\n",
        "      <th>39</th>\n",
        "      <td> 5</td>\n",
        "      <td>   grid</td>\n",
        "      <td> 0.003847</td>\n",
        "      <td> 0.783231</td>\n",
        "    </tr>\n",
        "    <tr>\n",
        "      <th>40</th>\n",
        "      <td> 5</td>\n",
        "      <td> mirror</td>\n",
        "      <td> 0.009095</td>\n",
        "      <td> 0.854313</td>\n",
        "    </tr>\n",
        "    <tr>\n",
        "      <th>41</th>\n",
        "      <td> 5</td>\n",
        "      <td>  ratio</td>\n",
        "      <td> 0.010437</td>\n",
        "      <td> 0.864536</td>\n",
        "    </tr>\n",
        "    <tr>\n",
        "      <th>42</th>\n",
        "      <td> 5</td>\n",
        "      <td>   grid</td>\n",
        "      <td> 0.005080</td>\n",
        "      <td> 0.784234</td>\n",
        "    </tr>\n",
        "    <tr>\n",
        "      <th>43</th>\n",
        "      <td> 5</td>\n",
        "      <td> mirror</td>\n",
        "      <td> 0.010792</td>\n",
        "      <td> 0.867304</td>\n",
        "    </tr>\n",
        "    <tr>\n",
        "      <th>44</th>\n",
        "      <td> 5</td>\n",
        "      <td>  ratio</td>\n",
        "      <td> 0.012425</td>\n",
        "      <td> 0.873293</td>\n",
        "    </tr>\n",
        "    <tr>\n",
        "      <th>45</th>\n",
        "      <td> 5</td>\n",
        "      <td>   grid</td>\n",
        "      <td> 0.006591</td>\n",
        "      <td> 0.790619</td>\n",
        "    </tr>\n",
        "    <tr>\n",
        "      <th>46</th>\n",
        "      <td> 5</td>\n",
        "      <td> mirror</td>\n",
        "      <td> 0.012637</td>\n",
        "      <td> 0.874932</td>\n",
        "    </tr>\n",
        "    <tr>\n",
        "      <th>47</th>\n",
        "      <td> 5</td>\n",
        "      <td>  ratio</td>\n",
        "      <td> 0.015041</td>\n",
        "      <td> 0.879825</td>\n",
        "    </tr>\n",
        "    <tr>\n",
        "      <th>48</th>\n",
        "      <td> 5</td>\n",
        "      <td>   grid</td>\n",
        "      <td> 0.009096</td>\n",
        "      <td> 0.811497</td>\n",
        "    </tr>\n",
        "    <tr>\n",
        "      <th>49</th>\n",
        "      <td> 5</td>\n",
        "      <td> mirror</td>\n",
        "      <td> 0.014782</td>\n",
        "      <td> 0.874150</td>\n",
        "    </tr>\n",
        "    <tr>\n",
        "      <th>50</th>\n",
        "      <td> 5</td>\n",
        "      <td>  ratio</td>\n",
        "      <td> 0.017543</td>\n",
        "      <td> 0.866455</td>\n",
        "    </tr>\n",
        "    <tr>\n",
        "      <th>51</th>\n",
        "      <td> 5</td>\n",
        "      <td>   grid</td>\n",
        "      <td> 0.010758</td>\n",
        "      <td> 0.809007</td>\n",
        "    </tr>\n",
        "    <tr>\n",
        "      <th>52</th>\n",
        "      <td> 5</td>\n",
        "      <td> mirror</td>\n",
        "      <td> 0.017082</td>\n",
        "      <td> 0.865411</td>\n",
        "    </tr>\n",
        "    <tr>\n",
        "      <th>53</th>\n",
        "      <td> 5</td>\n",
        "      <td>  ratio</td>\n",
        "      <td> 0.020404</td>\n",
        "      <td> 0.866102</td>\n",
        "    </tr>\n",
        "    <tr>\n",
        "      <th>54</th>\n",
        "      <td> 5</td>\n",
        "      <td>   grid</td>\n",
        "      <td> 0.013756</td>\n",
        "      <td> 0.820167</td>\n",
        "    </tr>\n",
        "    <tr>\n",
        "      <th>55</th>\n",
        "      <td> 5</td>\n",
        "      <td> mirror</td>\n",
        "      <td> 0.019406</td>\n",
        "      <td> 0.869085</td>\n",
        "    </tr>\n",
        "    <tr>\n",
        "      <th>56</th>\n",
        "      <td> 5</td>\n",
        "      <td>  ratio</td>\n",
        "      <td> 0.022731</td>\n",
        "      <td> 0.863524</td>\n",
        "    </tr>\n",
        "    <tr>\n",
        "      <th>57</th>\n",
        "      <td> 5</td>\n",
        "      <td>   grid</td>\n",
        "      <td> 0.016544</td>\n",
        "      <td> 0.825153</td>\n",
        "    </tr>\n",
        "    <tr>\n",
        "      <th>58</th>\n",
        "      <td> 5</td>\n",
        "      <td> mirror</td>\n",
        "      <td> 0.022103</td>\n",
        "      <td> 0.874144</td>\n",
        "    </tr>\n",
        "    <tr>\n",
        "      <th>59</th>\n",
        "      <td> 5</td>\n",
        "      <td>  ratio</td>\n",
        "      <td> 0.027042</td>\n",
        "      <td> 0.864212</td>\n",
        "    </tr>\n",
        "    <tr>\n",
        "      <th></th>\n",
        "      <td>...</td>\n",
        "      <td>...</td>\n",
        "      <td>...</td>\n",
        "      <td>...</td>\n",
        "    </tr>\n",
        "  </tbody>\n",
        "</table>\n",
        "<p>300 rows \u00d7 4 columns</p>\n",
        "</div>"
       ],
       "metadata": {},
       "output_type": "pyout",
       "prompt_number": 8,
       "text": [
        "    angle algorithm    recall  precision\n",
        "0       5      grid  0.000000        NaN\n",
        "1       5    mirror  0.000000        NaN\n",
        "2       5     ratio  0.000000        NaN\n",
        "3       5      grid  0.000000        NaN\n",
        "4       5    mirror  0.000047   0.500000\n",
        "5       5     ratio  0.000047   0.500000\n",
        "6       5      grid  0.000000        NaN\n",
        "7       5    mirror  0.000295   0.699176\n",
        "8       5     ratio  0.000295   0.699176\n",
        "9       5      grid  0.000000        NaN\n",
        "10      5    mirror  0.000532   0.706600\n",
        "11      5     ratio  0.000581   0.724601\n",
        "12      5      grid  0.000000        NaN\n",
        "13      5    mirror  0.000900   0.802900\n",
        "14      5     ratio  0.000900   0.802900\n",
        "15      5      grid  0.000000        NaN\n",
        "16      5    mirror  0.001124   0.810422\n",
        "17      5     ratio  0.001171   0.790733\n",
        "18      5      grid  0.000042   1.000000\n",
        "19      5    mirror  0.001384   0.759595\n",
        "20      5     ratio  0.001419   0.764203\n",
        "21      5      grid  0.000168   1.000000\n",
        "22      5    mirror  0.001611   0.760774\n",
        "23      5     ratio  0.001659   0.760857\n",
        "24      5      grid  0.000517   1.000000\n",
        "25      5    mirror  0.002166   0.783353\n",
        "26      5     ratio  0.002311   0.781508\n",
        "27      5      grid  0.001092   0.866601\n",
        "28      5    mirror  0.003056   0.808172\n",
        "29      5     ratio  0.003566   0.805437\n",
        "30      5      grid  0.001356   0.865279\n",
        "31      5    mirror  0.004244   0.836789\n",
        "32      5     ratio  0.004774   0.827590\n",
        "33      5      grid  0.001945   0.873046\n",
        "34      5    mirror  0.005637   0.834986\n",
        "35      5     ratio  0.006454   0.835106\n",
        "36      5      grid  0.002888   0.860473\n",
        "37      5    mirror  0.007103   0.845535\n",
        "38      5     ratio  0.008594   0.859945\n",
        "39      5      grid  0.003847   0.783231\n",
        "40      5    mirror  0.009095   0.854313\n",
        "41      5     ratio  0.010437   0.864536\n",
        "42      5      grid  0.005080   0.784234\n",
        "43      5    mirror  0.010792   0.867304\n",
        "44      5     ratio  0.012425   0.873293\n",
        "45      5      grid  0.006591   0.790619\n",
        "46      5    mirror  0.012637   0.874932\n",
        "47      5     ratio  0.015041   0.879825\n",
        "48      5      grid  0.009096   0.811497\n",
        "49      5    mirror  0.014782   0.874150\n",
        "50      5     ratio  0.017543   0.866455\n",
        "51      5      grid  0.010758   0.809007\n",
        "52      5    mirror  0.017082   0.865411\n",
        "53      5     ratio  0.020404   0.866102\n",
        "54      5      grid  0.013756   0.820167\n",
        "55      5    mirror  0.019406   0.869085\n",
        "56      5     ratio  0.022731   0.863524\n",
        "57      5      grid  0.016544   0.825153\n",
        "58      5    mirror  0.022103   0.874144\n",
        "59      5     ratio  0.027042   0.864212\n",
        "      ...       ...       ...        ...\n",
        "\n",
        "[300 rows x 4 columns]"
       ]
      }
     ],
     "prompt_number": 8
    },
    {
     "cell_type": "code",
     "collapsed": false,
     "input": [
      "g = ggplot(data_df, aes(\"recall\",\"precision\", color=\"algorithm\", shape=\"algorithm\"))\n",
      "g + geom_line() + facet_wrap(\"angle\") + scale_color_brewer(type='qual', palette=2) + ylim(0,0.999) + xlim(0)"
     ],
     "language": "python",
     "metadata": {},
     "outputs": [
      {
       "metadata": {},
       "output_type": "display_data",
       "png": "[encoded data removed]",
       "text": [
        "<matplotlib.figure.Figure at 0x7fae227a96d0>"
       ]
      },
      {
       "metadata": {},
       "output_type": "pyout",
       "prompt_number": 10,
       "text": [
        "<ggplot: (8774117468597)>"
       ]
      }
     ],
     "prompt_number": 10
    },
    {
     "cell_type": "code",
     "collapsed": false,
     "input": [
      "ggsave(\"grid_match.png\", g)"
     ],
     "language": "python",
     "metadata": {},
     "outputs": [
      {
       "output_type": "stream",
       "stream": "stderr",
       "text": [
        "Saving 11.0 x 8.0 in image.\n"
       ]
      }
     ],
     "prompt_number": 9
    },
    {
     "cell_type": "code",
     "collapsed": false,
     "input": [],
     "language": "python",
     "metadata": {},
     "outputs": []
    }
   ],
   "metadata": {}
  }
 ]
}