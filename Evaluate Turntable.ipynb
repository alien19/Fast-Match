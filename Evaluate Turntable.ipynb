{
 "metadata": {
  "name": "",
  "signature": "sha256:672314d571b6415fb53da45b519a214e5e7c956fd98955682af7fae9d830640d"
 },
 "nbformat": 3,
 "nbformat_minor": 0,
 "worksheets": [
  {
   "cells": [
    {
     "cell_type": "code",
     "collapsed": false,
     "input": [
      "%load_ext autoreload\n",
      "%autoreload 2"
     ],
     "language": "python",
     "metadata": {},
     "outputs": [],
     "prompt_number": 1
    },
    {
     "cell_type": "code",
     "collapsed": false,
     "input": [
      "import turntable\n",
      "from cache import Metric_Cache, Grid_Cache\n",
      "import fastmatch\n",
      "import imaging\n",
      "import cv2\n",
      "import figures\n",
      "import profile"
     ],
     "language": "python",
     "metadata": {},
     "outputs": [],
     "prompt_number": 2
    },
    {
     "cell_type": "code",
     "collapsed": false,
     "input": [
      "options = {\"evaluate_verbose\" : True, \"distance_threshold\" : 5, \"thumb_strategy\" : lambda n : n}\n",
      "results = turntable.evaluate(fastmatch.match, (0, 25), \"FlowerLamp\", numpy.linspace(0.5, 1, 20), options = options)\n",
      "accu = numpy.array(results[\"accuracy\"], dtype=numpy.float)\n",
      "print(\"Mean: %.4f\" % numpy.mean(accu))\n",
      "print(\"Median: %.4f\" % numpy.median(accu))\n",
      "print(\"Max: %.4f\" % numpy.max(accu))\n",
      "print(\"Min: %.4f\" % numpy.min(accu))\n",
      "\n",
      "#profile.run('turntable.evaluate(fastmatch.match, (0, 25), \"FlowerLamp\", numpy.linspace(0.5, 1, 20), options= options)')\n"
     ],
     "language": "python",
     "metadata": {},
     "outputs": [
      {
       "output_type": "stream",
       "stream": "stdout",
       "text": [
        "matching\n",
        "../../Images/turntable//imageset_1/FlowerLamp/Bottom/img_1-000_08-35-08_0.JPG\n",
        "../../Images/turntable//imageset_1/FlowerLamp/Bottom/img_1-025_08-36-34_0.JPG\n",
        "Mean: 0.1067"
       ]
      },
      {
       "output_type": "stream",
       "stream": "stdout",
       "text": [
        "\n",
        "Median: 0.1202\n",
        "Max: 0.1500\n",
        "Min: 0.0000\n"
       ]
      }
     ],
     "prompt_number": 25
    },
    {
     "cell_type": "code",
     "collapsed": false,
     "input": [
      "options = {\"evaluate_verbose\" : True, \n",
      "           \"distance_threshold\" : 5, \n",
      "           \"thumb_strategy\" : lambda n : min(n*1.2, 0.9),\n",
      "           \"grid_size\" : (75, 75),\n",
      "            \"grid_margin\" : 40,\n",
      "            \"radius\" : 75,\n",
      "            \"thumb_size\" : (200, 200)}\n",
      "results = turntable.evaluate(fastmatch.match, (0, 25), \"FlowerLamp\", numpy.linspace(0.5, 1.2, 15), options = options)\n",
      "accu = numpy.array(results[\"accuracy\"], dtype=numpy.float)\n",
      "print(\"Tau:\\t  %s\" % map(lambda n : \"%.2f\" % n, numpy.linspace(0.5, 1.2, 15)))\n",
      "print(\"Correct:  %s\" % map(lambda n : \"%4i\" % n, results[\"correct\"]))\n",
      "print(\"Total:\\t  %s\" % map(lambda n : \"%4i\" % n, results[\"total\"]))\n",
      "print(\"Accuracy: %s\" % map(lambda n : \"%.2f\" % n, results[\"accuracy\"]))"
     ],
     "language": "python",
     "metadata": {},
     "outputs": [
      {
       "output_type": "stream",
       "stream": "stdout",
       "text": [
        "matching\n",
        "../../Images/turntable//imageset_1/FlowerLamp/Bottom/img_1-000_08-35-08_0.JPG\n",
        "../../Images/turntable//imageset_1/FlowerLamp/Bottom/img_1-025_08-36-34_0.JPG\n",
        "Tau:\t  ['0.50', '0.55', '0.60', '0.65', '0.70', '0.75', '0.80', '0.85', '0.90', '0.95', '1.00', '1.05', '1.10', '1.15', '1.20']"
       ]
      },
      {
       "output_type": "stream",
       "stream": "stdout",
       "text": [
        "\n",
        "Correct:  ['   1', '   3', '   3', '   3', '   4', '   7', '  15', '  19', '  25', '  45', '  62', '  71', '  87', ' 107', ' 118']\n",
        "Total:\t  ['   4', '  10', '  13', '  19', '  36', '  61', '  82', ' 110', ' 166', ' 357', ' 597', ' 912', '1248', '1646', '2472']\n",
        "Accuracy: ['0.25', '0.30', '0.23', '0.16', '0.11', '0.11', '0.18', '0.17', '0.15', '0.13', '0.10', '0.08', '0.07', '0.07', '0.05']\n"
       ]
      }
     ],
     "prompt_number": 33
    },
    {
     "cell_type": "code",
     "collapsed": false,
     "input": [
      "options = {\"evaluate_verbose\" : True, \n",
      "           \"distance_threshold\" : 5, \n",
      "           \"thumb_strategy\" : lambda n : min(n*1.2, 0.9),\n",
      "           \"grid_size\" : (75, 75),\n",
      "           \"grid_margin\" : 40,\n",
      "            \"radius\" : 50,\n",
      "            \"thumb_size\" : (200, 200)}\n",
      "results = turntable.evaluate(fastmatch.match, (0, 25), \"FlowerLamp\", numpy.linspace(0.5, 1.2, 15), options = options)\n",
      "accu = numpy.array(results[\"accuracy\"], dtype=numpy.float)\n",
      "print(\"Tau:\\t  %s\" % map(lambda n : \"%.2f\" % n, numpy.linspace(0.5, 1.2, 15)))\n",
      "print(\"Correct:  %s\" % map(lambda n : \"%4i\" % n, results[\"correct\"]))\n",
      "print(\"Total:\\t  %s\" % map(lambda n : \"%4i\" % n, results[\"total\"]))\n",
      "print(\"Accuracy: %s\" % map(lambda n : \"%.2f\" % n, results[\"accuracy\"]))"
     ],
     "language": "python",
     "metadata": {},
     "outputs": [
      {
       "output_type": "stream",
       "stream": "stdout",
       "text": [
        "matching\n",
        "../../Images/turntable//imageset_1/FlowerLamp/Bottom/img_1-000_08-35-08_0.JPG\n",
        "../../Images/turntable//imageset_1/FlowerLamp/Bottom/img_1-025_08-36-34_0.JPG\n",
        "Tau:\t  ['0.50', '0.55', '0.60', '0.65', '0.70', '0.75', '0.80', '0.85', '0.90', '0.95', '1.00', '1.05', '1.10', '1.15', '1.20']"
       ]
      },
      {
       "output_type": "stream",
       "stream": "stdout",
       "text": [
        "\n",
        "Correct:  ['   1', '   2', '   2', '   2', '   3', '   6', '   9', '  12', '  12', '  22', '  31', '  36', '  43', ' 100', ' 117']\n",
        "Total:\t  ['   3', '   7', '   8', '  10', '  23', '  36', '  46', '  64', '  79', ' 151', ' 236', ' 413', ' 631', '1348', '1778']\n",
        "Accuracy: ['0.33', '0.29', '0.25', '0.20', '0.13', '0.17', '0.20', '0.19', '0.15', '0.15', '0.13', '0.09', '0.07', '0.07', '0.07']\n"
       ]
      }
     ],
     "prompt_number": 32
    },
    {
     "cell_type": "code",
     "collapsed": false,
     "input": [
      "options = {\"evaluate_verbose\" : True, \n",
      "           \"distance_threshold\" : 5, \n",
      "           \"thumb_strategy\" : lambda n : min(n*1.2, 0.9),\n",
      "           \"grid_size\" : (75, 75),\n",
      "           \"grid_margin\" : 40,\n",
      "            \"radius\" : 60}\n",
      "results = turntable.evaluate(fastmatch.match, (0, 25), \"FlowerLamp\", numpy.linspace(0.5, 1.2, 15), options = options)\n",
      "accu = numpy.array(results[\"accuracy\"], dtype=numpy.float)\n",
      "print(\"Tau:\\t  %s\" % map(lambda n : \"%.2f\" % n, numpy.linspace(0.5, 1.2, 15)))\n",
      "print(\"Correct:  %s\" % map(lambda n : \"%4i\" % n, results[\"correct\"]))\n",
      "print(\"Total:\\t  %s\" % map(lambda n : \"%4i\" % n, results[\"total\"]))\n",
      "print(\"Accuracy: %s\" % map(lambda n : \"%.2f\" % n, results[\"accuracy\"]))"
     ],
     "language": "python",
     "metadata": {},
     "outputs": [
      {
       "output_type": "stream",
       "stream": "stdout",
       "text": [
        "matching\n",
        "../../Images/turntable//imageset_1/FlowerLamp/Bottom/img_1-000_08-35-08_0.JPG\n",
        "../../Images/turntable//imageset_1/FlowerLamp/Bottom/img_1-025_08-36-34_0.JPG\n",
        "Tau:\t  ['0.50', '0.55', '0.60', '0.65', '0.70', '0.75', '0.80', '0.85', '0.90', '0.95', '1.00', '1.05', '1.10', '1.15', '1.20']"
       ]
      },
      {
       "output_type": "stream",
       "stream": "stdout",
       "text": [
        "\n",
        "Correct:  ['   1', '   3', '   3', '   3', '   5', '   7', '  12', '  16', '  20', '  43', '  57', '  66', '  88', ' 110', ' 125']\n",
        "Total:\t  ['   8', '  14', '  18', '  27', '  39', '  60', '  78', ' 106', ' 140', ' 313', ' 508', ' 815', '1322', '1756', '2305']\n",
        "Accuracy: ['0.12', '0.21', '0.17', '0.11', '0.13', '0.12', '0.15', '0.15', '0.14', '0.14', '0.11', '0.08', '0.07', '0.06', '0.05']\n"
       ]
      }
     ],
     "prompt_number": 18
    },
    {
     "cell_type": "code",
     "collapsed": false,
     "input": [
      "options = {\"evaluate_verbose\" : True, \n",
      "           \"distance_threshold\" : 5, \n",
      "           \"thumb_strategy\" : lambda n : min(n*1.2, 0.9),\n",
      "           \"grid_size\" : (75, 75),\n",
      "           \"grid_margin\" : 40,\n",
      "            \"radius\" : 60}\n",
      "results = turntable.evaluate(fastmatch.match, (0, 25), \"FlowerLamp\", numpy.linspace(0.5, 1.2, 15), options = options)\n",
      "accu = numpy.array(results[\"accuracy\"], dtype=numpy.float)\n",
      "print(\"Tau:\\t  %s\" % map(lambda n : \"%.2f\" % n, numpy.linspace(0.5, 1.2, 15)))\n",
      "print(\"Correct:  %s\" % map(lambda n : \"%4i\" % n, results[\"correct\"]))\n",
      "print(\"Total:\\t  %s\" % map(lambda n : \"%4i\" % n, results[\"total\"]))\n",
      "print(\"Accuracy: %s\" % map(lambda n : \"%.2f\" % n, results[\"accuracy\"]))"
     ],
     "language": "python",
     "metadata": {},
     "outputs": [
      {
       "output_type": "stream",
       "stream": "stdout",
       "text": [
        "matching\n",
        "../../Images/turntable//imageset_1/FlowerLamp/Bottom/img_1-000_08-35-08_0.JPG\n",
        "../../Images/turntable//imageset_1/FlowerLamp/Bottom/img_1-025_08-36-34_0.JPG\n",
        "Tau:\t  ['0.50', '0.55', '0.60', '0.65', '0.70', '0.75', '0.80', '0.85', '0.90', '0.95', '1.00', '1.05', '1.10', '1.15', '1.20']"
       ]
      },
      {
       "output_type": "stream",
       "stream": "stdout",
       "text": [
        "\n",
        "Correct:  ['   1', '   3', '   3', '   3', '   5', '   7', '  12', '  16', '  20', '  43', '  57', '  66', '  88', ' 110', ' 125']\n",
        "Total:\t  ['   8', '  14', '  18', '  27', '  39', '  60', '  78', ' 106', ' 140', ' 313', ' 508', ' 815', '1322', '1756', '2305']\n",
        "Accuracy: ['0.12', '0.21', '0.17', '0.11', '0.13', '0.12', '0.15', '0.15', '0.14', '0.14', '0.11', '0.08', '0.07', '0.06', '0.05']\n"
       ]
      }
     ],
     "prompt_number": 30
    },
    {
     "cell_type": "code",
     "collapsed": false,
     "input": [
      "options = {\"evaluate_verbose\" : True, \n",
      "           \"distance_threshold\" : 5, \n",
      "           \"thumb_strategy\" : lambda n : min(n*1.2, 0.9),\n",
      "           \"grid_size\" : (75, 75),\n",
      "           \"grid_margin\" : 40,\n",
      "            \"radius\" : 45}\n",
      "results = turntable.evaluate(fastmatch.match, (0, 25), \"FlowerLamp\", numpy.linspace(0.5, 1.2, 15), options = options)\n",
      "accu = numpy.array(results[\"accuracy\"], dtype=numpy.float)\n",
      "print(\"Tau:\\t  %s\" % map(lambda n : \"%.2f\" % n, numpy.linspace(0.5, 1.2, 15)))\n",
      "print(\"Correct:  %s\" % map(lambda n : \"%4i\" % n, results[\"correct\"]))\n",
      "print(\"Total:\\t  %s\" % map(lambda n : \"%4i\" % n, results[\"total\"]))\n",
      "print(\"Accuracy: %s\" % map(lambda n : \"%.2f\" % n, results[\"accuracy\"]))"
     ],
     "language": "python",
     "metadata": {},
     "outputs": [
      {
       "output_type": "stream",
       "stream": "stdout",
       "text": [
        "matching\n",
        "../../Images/turntable//imageset_1/FlowerLamp/Bottom/img_1-000_08-35-08_0.JPG\n",
        "../../Images/turntable//imageset_1/FlowerLamp/Bottom/img_1-025_08-36-34_0.JPG\n",
        "Tau:\t  ['0.50', '0.55', '0.60', '0.65', '0.70', '0.75', '0.80', '0.85', '0.90', '0.95', '1.00', '1.05', '1.10', '1.15', '1.20']"
       ]
      },
      {
       "output_type": "stream",
       "stream": "stdout",
       "text": [
        "\n",
        "Correct:  ['   1', '   3', '   3', '   3', '   5', '   6', '   9', '  13', '  14', '  22', '  30', '  35', '  46', '  57', ' 111']\n",
        "Total:\t  ['   8', '  13', '  15', '  23', '  32', '  41', '  49', '  69', '  91', ' 175', ' 282', ' 395', ' 655', ' 917', '1698']\n",
        "Accuracy: ['0.12', '0.23', '0.20', '0.13', '0.16', '0.15', '0.18', '0.19', '0.15', '0.13', '0.11', '0.09', '0.07', '0.06', '0.07']\n"
       ]
      }
     ],
     "prompt_number": 20
    },
    {
     "cell_type": "code",
     "collapsed": false,
     "input": [
      "options = {\"evaluate_verbose\" : True, \n",
      "           \"distance_threshold\" : 5, \n",
      "           \"thumb_strategy\" : lambda n : min(n*1.2, 0.9),\n",
      "           \"grid_size\" : (75, 75),\n",
      "           \"grid_margin\" : 40,\n",
      "            \"radius\" : 40}\n",
      "results = turntable.evaluate(fastmatch.match, (0, 25), \"FlowerLamp\", numpy.linspace(0.5, 1.2, 15), options = options)\n",
      "accu = numpy.array(results[\"accuracy\"], dtype=numpy.float)\n",
      "print(\"Tau:\\t  %s\" % map(lambda n : \"%.2f\" % n, numpy.linspace(0.5, 1.2, 15)))\n",
      "print(\"Correct:  %s\" % map(lambda n : \"%4i\" % n, results[\"correct\"]))\n",
      "print(\"Total:\\t  %s\" % map(lambda n : \"%4i\" % n, results[\"total\"]))\n",
      "print(\"Accuracy: %s\" % map(lambda n : \"%.2f\" % n, results[\"accuracy\"]))"
     ],
     "language": "python",
     "metadata": {},
     "outputs": [
      {
       "output_type": "stream",
       "stream": "stdout",
       "text": [
        "matching\n",
        "../../Images/turntable//imageset_1/FlowerLamp/Bottom/img_1-000_08-35-08_0.JPG\n",
        "../../Images/turntable//imageset_1/FlowerLamp/Bottom/img_1-025_08-36-34_0.JPG\n",
        "Tau:\t  ['0.50', '0.55', '0.60', '0.65', '0.70', '0.75', '0.80', '0.85', '0.90', '0.95', '1.00', '1.05', '1.10', '1.15', '1.20']"
       ]
      },
      {
       "output_type": "stream",
       "stream": "stdout",
       "text": [
        "\n",
        "Correct:  ['   1', '   3', '   3', '   3', '   5', '   6', '   8', '  12', '  13', '  22', '  28', '  31', '  41', '  52', '  59']\n",
        "Total:\t  ['   8', '  11', '  12', '  17', '  22', '  32', '  41', '  54', '  72', ' 142', ' 220', ' 327', ' 493', ' 756', '1087']\n",
        "Accuracy: ['0.12', '0.27', '0.25', '0.18', '0.23', '0.19', '0.20', '0.22', '0.18', '0.15', '0.13', '0.09', '0.08', '0.07', '0.05']\n"
       ]
      }
     ],
     "prompt_number": 21
    },
    {
     "cell_type": "code",
     "collapsed": false,
     "input": [
      "options = {\"evaluate_verbose\" : True, \n",
      "           \"distance_threshold\" : 5, \n",
      "           \"thumb_strategy\" : lambda n : min(n*1.2, 0.9),\n",
      "           \"grid_size\" : (75, 75),\n",
      "           \"grid_margin\" : 40,\n",
      "            \"radius\" : 35}\n",
      "results = turntable.evaluate(fastmatch.match, (0, 25), \"FlowerLamp\", numpy.linspace(0.5, 1.2, 15), options = options)\n",
      "accu = numpy.array(results[\"accuracy\"], dtype=numpy.float)\n",
      "print(\"Tau:\\t  %s\" % map(lambda n : \"%.2f\" % n, numpy.linspace(0.5, 1.2, 15)))\n",
      "print(\"Correct:  %s\" % map(lambda n : \"%4i\" % n, results[\"correct\"]))\n",
      "print(\"Total:\\t  %s\" % map(lambda n : \"%4i\" % n, results[\"total\"]))\n",
      "print(\"Accuracy: %s\" % map(lambda n : \"%.2f\" % n, results[\"accuracy\"]))"
     ],
     "language": "python",
     "metadata": {},
     "outputs": [
      {
       "output_type": "stream",
       "stream": "stdout",
       "text": [
        "matching\n",
        "../../Images/turntable//imageset_1/FlowerLamp/Bottom/img_1-000_08-35-08_0.JPG\n",
        "../../Images/turntable//imageset_1/FlowerLamp/Bottom/img_1-025_08-36-34_0.JPG\n",
        "Tau:\t  ['0.50', '0.55', '0.60', '0.65', '0.70', '0.75', '0.80', '0.85', '0.90', '0.95', '1.00', '1.05', '1.10', '1.15', '1.20']"
       ]
      },
      {
       "output_type": "stream",
       "stream": "stdout",
       "text": [
        "\n",
        "Correct:  ['   1', '   3', '   3', '   3', '   4', '   5', '   7', '  10', '   9', '  15', '  20', '  25', '  31', '  38', '  50']\n",
        "Total:\t  ['   7', '  10', '  10', '  14', '  17', '  25', '  32', '  40', '  56', ' 105', ' 165', ' 240', ' 300', ' 484', ' 705']\n",
        "Accuracy: ['0.14', '0.30', '0.30', '0.21', '0.24', '0.20', '0.22', '0.25', '0.16', '0.14', '0.12', '0.10', '0.10', '0.08', '0.07']\n"
       ]
      }
     ],
     "prompt_number": 23
    },
    {
     "cell_type": "code",
     "collapsed": false,
     "input": [
      "options = {\"evaluate_verbose\" : True, \n",
      "           \"distance_threshold\" : 5, \n",
      "           \"thumb_strategy\" : lambda n : min(n*1.2, 0.9),\n",
      "           \"grid_size\" : (75, 75),\n",
      "           \"grid_margin\" : 40,\n",
      "            \"radius\" : 30}\n",
      "turntable.evaluate(fastmatch.match, (0, 25), \"FlowerLamp\", numpy.linspace(0.5, 1.2, 20), options)\n",
      "#profile.run('turntable.evaluate(fastmatch.match, (0, 25), \"FlowerLamp\", numpy.linspace(0.5, 1.2, 20), options)')"
     ],
     "language": "python",
     "metadata": {},
     "outputs": [
      {
       "metadata": {},
       "output_type": "pyout",
       "prompt_number": 24,
       "text": [
        "{'accuracy': array([ 0.        ,  0.16666667,  0.15      ,  0.13043478,  0.09677419,\n",
        "         0.07692308,  0.06382979,  0.05769231,  0.07936508,  0.12195122,\n",
        "         0.11764706,  0.15263158,  0.14956012,  0.12698413,  0.11229135,\n",
        "         0.09453303,  0.07594937,  0.06696147,  0.05642317,  0.05196982]),\n",
        " 'correct': array([  0,   3,   3,   3,   3,   3,   3,   3,   5,  10,  12,  29,  51,\n",
        "         64,  74,  83,  90, 106, 112, 124]),\n",
        " 'total': array([  11,   18,   20,   23,   31,   39,   47,   52,   63,   82,  102,\n",
        "         190,  341,  504,  659,  878, 1185, 1583, 1985, 2386])}"
       ]
      }
     ],
     "prompt_number": 24
    },
    {
     "cell_type": "code",
     "collapsed": false,
     "input": [
      "{ \"a\" : 1, \"b\" : 2}.values()"
     ],
     "language": "python",
     "metadata": {},
     "outputs": [
      {
       "metadata": {},
       "output_type": "pyout",
       "prompt_number": 325,
       "text": [
        "[1, 2]"
       ]
      }
     ],
     "prompt_number": 325
    }
   ],
   "metadata": {}
  }
 ]
}