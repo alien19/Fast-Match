{
 "metadata": {
  "name": "",
  "signature": "sha256:5fd018544121d7271ee2421eaa73b55f0acab4ebdbeb9e3d0987bd11bc1717da"
 },
 "nbformat": 3,
 "nbformat_minor": 0,
 "worksheets": [
  {
   "cells": [
    {
     "cell_type": "code",
     "collapsed": false,
     "input": [
      "%load_ext autoreload\n",
      "%autoreload 2\n",
      "\n",
      "import turntable\n",
      "import turntable_ground_truth\n",
      "from cache import Metric_Cache, Grid_Cache\n",
      "import fastmatch\n",
      "import imaging\n",
      "import cv2\n",
      "import figures\n",
      "import profile\n",
      "import cProfile\n",
      "import pandas"
     ],
     "language": "python",
     "metadata": {},
     "outputs": [],
     "prompt_number": 1
    },
    {
     "cell_type": "code",
     "collapsed": false,
     "input": [
      "options = {\"distance_threshold\" : 5 }\n",
      "flowerlamp_gt = turntable_ground_truth.ground_truth((0, 25), \"FlowerLamp\", options = options)\n",
      "flowerlamp_gt[\"nb_correspondences\"]"
     ],
     "language": "python",
     "metadata": {},
     "outputs": [
      {
       "metadata": {},
       "output_type": "pyout",
       "prompt_number": 35,
       "text": [
        "9863"
       ]
      }
     ],
     "prompt_number": 35
    },
    {
     "cell_type": "code",
     "collapsed": false,
     "input": [
      "options = { \"evaluate_verbose\" : True,\n",
      "            \"thumb_strategy\" : lambda n : 1.0,\n",
      "            \"neighbor_strategy\" : lambda n : 0.9,\n",
      "            \"grid_size\" : (90, 90),\n",
      "            \"grid_margin\" : 25,\n",
      "            \"radius\" : 50,\n",
      "            \"scale_radius\" : 1.0,\n",
      "            \"depth_first\" : True,\n",
      "            \"thumb_size\" : (300, 300)}\n",
      "results = turntable.evaluate(fastmatch.match, \n",
      "                             (0, 25), \n",
      "                             \"FlowerLamp\", \n",
      "                             numpy.linspace(0.5, 1.2, 15), \n",
      "                             ground_truth = flowerlamp_gt,\n",
      "                             options = options)\n",
      "print(\"Tau:\\t   %s\" % map(lambda n : \"%.2f\" % n, numpy.linspace(0.5, 1.2, 15)))\n",
      "print(\"Correct:   %s\" % map(lambda n : \"%4i\" % n, results[\"correct\"]))\n",
      "print(\"Total:\\t   %s\" % map(lambda n : \"%4i\" % n, results[\"total\"]))\n",
      "print(\"Precision: %s\" % map(lambda n : \"%.2f\" % n, results[\"precision\"]))"
     ],
     "language": "python",
     "metadata": {},
     "outputs": [
      {
       "output_type": "stream",
       "stream": "stdout",
       "text": [
        "[0]\n",
        "Tau:\t   ['0.50', '0.55', '0.60', '0.65', '0.70', '0.75', '0.80', '0.85', '0.90', '0.95', '1.00', '1.05', '1.10', '1.15', '1.20']"
       ]
      },
      {
       "output_type": "stream",
       "stream": "stdout",
       "text": [
        "\n",
        "Correct:   ['   3', '   4', '   5', '   5', '   5', '  10', '  11', '  17', '  23', '  32', '  40', '  45', '  53', '  58', '  65']\n",
        "Total:\t   ['   9', '  10', '  11', '  11', '  21', '  49', '  68', '  88', ' 119', ' 160', ' 192', ' 251', ' 314', ' 404', ' 492']\n",
        "Precision: ['0.33', '0.40', '0.45', '0.45', '0.24', '0.20', '0.16', '0.19', '0.19', '0.20', '0.21', '0.18', '0.17', '0.14', '0.13']\n"
       ]
      }
     ],
     "prompt_number": 43
    },
    {
     "cell_type": "code",
     "collapsed": false,
     "input": [
      "options = { \"evaluate_verbose\" : True,\n",
      "            \"thumb_strategy\" : lambda n : 1.0,\n",
      "            \"neighbor_strategy\" : lambda n : 0.9,\n",
      "            \"grid_size\" : (90, 90),\n",
      "            \"grid_margin\" : 25,\n",
      "            \"radius\" : 50,\n",
      "            \"scale_radius\" : 1.5,\n",
      "            \"depth_first\" : True,\n",
      "            \"thumb_size\" : (300, 300)}\n",
      "results = turntable.evaluate(fastmatch.match, \n",
      "                             (0, 25), \n",
      "                             \"FlowerLamp\", \n",
      "                             numpy.linspace(0.5, 1.2, 15), \n",
      "                             ground_truth = flowerlamp_gt,\n",
      "                             options = options)\n",
      "print(\"Tau:\\t   %s\" % map(lambda n : \"%.2f\" % n, numpy.linspace(0.5, 1.2, 15)))\n",
      "print(\"Correct:   %s\" % map(lambda n : \"%4i\" % n, results[\"correct\"]))\n",
      "print(\"Total:\\t   %s\" % map(lambda n : \"%4i\" % n, results[\"total\"]))\n",
      "print(\"Precision: %s\" % map(lambda n : \"%.2f\" % n, results[\"precision\"]))"
     ],
     "language": "python",
     "metadata": {},
     "outputs": [
      {
       "output_type": "stream",
       "stream": "stdout",
       "text": [
        "[0]\n",
        "Tau:\t   ['0.50', '0.55', '0.60', '0.65', '0.70', '0.75', '0.80', '0.85', '0.90', '0.95', '1.00', '1.05', '1.10', '1.15', '1.20']"
       ]
      },
      {
       "output_type": "stream",
       "stream": "stdout",
       "text": [
        "\n",
        "Correct:   ['   3', '   4', '   5', '   5', '   5', '  10', '  11', '  17', '  23', '  31', '  39', '  44', '  52', '  57', '  65']\n",
        "Total:\t   ['   9', '  10', '  11', '  11', '  21', '  49', '  68', '  88', ' 118', ' 159', ' 191', ' 253', ' 319', ' 411', ' 503']\n",
        "Precision: ['0.33', '0.40', '0.45', '0.45', '0.24', '0.20', '0.16', '0.19', '0.19', '0.19', '0.20', '0.17', '0.16', '0.14', '0.13']\n"
       ]
      }
     ],
     "prompt_number": 44
    },
    {
     "cell_type": "code",
     "collapsed": false,
     "input": [
      "options = { \"evaluate_verbose\" : True,\n",
      "            \"thumb_strategy\" : lambda n : min(n*1.2, 1.0),\n",
      "            \"neighbor_strategy\" : lambda n : n,\n",
      "            \"grid_size\" : (90, 90),\n",
      "            \"grid_margin\" : 25,\n",
      "            \"radius\" : 50,\n",
      "            \"scale_radius\" : 0.8,\n",
      "            \"thumb_size\" : (250, 250)}\n",
      "results = turntable.evaluate(fastmatch.match, \n",
      "                             (0, 5), \n",
      "                             \"FlowerLamp\", \n",
      "                             numpy.linspace(0.5, 1.2, 15), \n",
      "                             ground_truth = flowerlamp_gt,\n",
      "                             options = options)\n",
      "print(\"Tau:\\t   %s\" % map(lambda n : \"%.2f\" % n, numpy.linspace(0.5, 1.2, 15)))\n",
      "print(\"Correct:   %s\" % map(lambda n : \"%4i\" % n, results[\"correct\"]))\n",
      "print(\"Total:\\t   %s\" % map(lambda n : \"%4i\" % n, results[\"total\"]))\n",
      "print(\"Precision: %s\" % map(lambda n : \"%.2f\" % n, results[\"precision\"]))"
     ],
     "language": "python",
     "metadata": {},
     "outputs": [
      {
       "output_type": "stream",
       "stream": "stdout",
       "text": [
        "matching\n",
        "../../Images/turntable//imageset_1/FlowerLamp/Bottom/img_1-000_08-35-08_0.JPG\n",
        "../../Images/turntable//imageset_1/FlowerLamp/Bottom/img_1-005_08-35-43_0.JPG\n",
        "Tau:\t   ['0.50', '0.55', '0.60', '0.65', '0.70', '0.75', '0.80', '0.85', '0.90', '0.95', '1.00', '1.05', '1.10', '1.15', '1.20']"
       ]
      },
      {
       "output_type": "stream",
       "stream": "stdout",
       "text": [
        "\n",
        "Correct:   ['  12', '  22', '  32', '  40', '  55', '  93', ' 105', ' 125', ' 141', ' 157', ' 181', ' 189', ' 253', ' 298', ' 254']\n",
        "Total:\t   ['  15', '  27', '  36', '  51', '  76', ' 133', ' 162', ' 198', ' 258', ' 314', ' 445', ' 538', ' 972', '1394', '1261']\n",
        "Precision: ['0.80', '0.81', '0.89', '0.78', '0.72', '0.70', '0.65', '0.63', '0.55', '0.50', '0.41', '0.35', '0.26', '0.21', '0.20']\n"
       ]
      }
     ],
     "prompt_number": 30
    },
    {
     "cell_type": "code",
     "collapsed": false,
     "input": [
      "options = { \"evaluate_verbose\" : True,\n",
      "            \"thumb_strategy\" : lambda n : 0.9,\n",
      "            \"neighbor_strategy\" : lambda n : 0.9,\n",
      "            \"grid_size\" : (90, 90),\n",
      "            \"grid_margin\" : 25,\n",
      "            \"radius\" : 50,\n",
      "            \"scale_radius\" : 0.8,\n",
      "            \"thumb_size\" : (250, 250)}\n",
      "results = turntable.evaluate(fastmatch.match, \n",
      "                             (0, 5), \n",
      "                             \"FlowerLamp\", \n",
      "                             numpy.linspace(0.5, 1.2, 15), \n",
      "                             ground_truth = flowerlamp_gt,\n",
      "                             options = options)\n",
      "print(\"Tau:\\t   %s\" % map(lambda n : \"%.2f\" % n, numpy.linspace(0.5, 1.2, 15)))\n",
      "print(\"Correct:   %s\" % map(lambda n : \"%4i\" % n, results[\"correct\"]))\n",
      "print(\"Total:\\t   %s\" % map(lambda n : \"%4i\" % n, results[\"total\"]))\n",
      "print(\"Precision: %s\" % map(lambda n : \"%.2f\" % n, results[\"precision\"]))"
     ],
     "language": "python",
     "metadata": {},
     "outputs": [
      {
       "output_type": "stream",
       "stream": "stdout",
       "text": [
        "matching\n",
        "../../Images/turntable//imageset_1/FlowerLamp/Bottom/img_1-000_08-35-08_0.JPG\n",
        "../../Images/turntable//imageset_1/FlowerLamp/Bottom/img_1-005_08-35-43_0.JPG\n",
        "Tau:\t   ['0.50', '0.55', '0.60', '0.65', '0.70', '0.75', '0.80', '0.85', '0.90', '0.95', '1.00', '1.05', '1.10', '1.15', '1.20']"
       ]
      },
      {
       "output_type": "stream",
       "stream": "stdout",
       "text": [
        "\n",
        "Correct:   ['  32', '  47', '  57', '  69', '  81', '  96', ' 109', ' 130', ' 141', ' 156', ' 172', ' 189', ' 200', ' 214', ' 228']\n",
        "Total:\t   ['  37', '  58', '  71', '  91', ' 115', ' 140', ' 172', ' 211', ' 258', ' 301', ' 363', ' 434', ' 512', ' 583', ' 644']\n",
        "Precision: ['0.86', '0.81', '0.80', '0.76', '0.70', '0.69', '0.63', '0.62', '0.55', '0.52', '0.47', '0.44', '0.39', '0.37', '0.35']\n"
       ]
      }
     ],
     "prompt_number": 4
    },
    {
     "cell_type": "code",
     "collapsed": false,
     "input": [
      "options = { \"evaluate_verbose\" : True,\n",
      "            \"thumb_strategy\" : lambda n : min(n*1.2, 1.0),\n",
      "            \"neighbor_strategy\" : lambda n : 0.9,\n",
      "            \"grid_size\" : (90, 90),\n",
      "            \"grid_margin\" : 25,\n",
      "            \"radius\" : 50,\n",
      "            \"scale_radius\" : 0.8,\n",
      "            \"thumb_size\" : (250, 250)}\n",
      "results = turntable.evaluate(fastmatch.match, \n",
      "                             (0, 5), \n",
      "                             \"FlowerLamp\", \n",
      "                             numpy.linspace(0.5, 1.2, 15), \n",
      "                             ground_truth = flowerlamp_gt,\n",
      "                             options = options)\n",
      "print(\"Tau:\\t   %s\" % map(lambda n : \"%.2f\" % n, numpy.linspace(0.5, 1.2, 15)))\n",
      "print(\"Correct:   %s\" % map(lambda n : \"%4i\" % n, results[\"correct\"]))\n",
      "print(\"Total:\\t   %s\" % map(lambda n : \"%4i\" % n, results[\"total\"]))\n",
      "print(\"Precision: %s\" % map(lambda n : \"%.2f\" % n, results[\"precision\"]))"
     ],
     "language": "python",
     "metadata": {},
     "outputs": [
      {
       "output_type": "stream",
       "stream": "stdout",
       "text": [
        "matching\n",
        "../../Images/turntable//imageset_1/FlowerLamp/Bottom/img_1-000_08-35-08_0.JPG\n",
        "../../Images/turntable//imageset_1/FlowerLamp/Bottom/img_1-005_08-35-43_0.JPG\n",
        "Tau:\t   ['0.50', '0.55', '0.60', '0.65', '0.70', '0.75', '0.80', '0.85', '0.90', '0.95', '1.00', '1.05', '1.10', '1.15', '1.20']"
       ]
      },
      {
       "output_type": "stream",
       "stream": "stdout",
       "text": [
        "\n",
        "Correct:   ['  32', '  47', '  57', '  69', '  81', '  96', ' 109', ' 130', ' 141', ' 157', ' 174', ' 191', ' 202', ' 217', ' 231']\n",
        "Total:\t   ['  37', '  58', '  71', '  91', ' 115', ' 140', ' 172', ' 211', ' 258', ' 302', ' 365', ' 437', ' 517', ' 592', ' 653']\n",
        "Precision: ['0.86', '0.81', '0.80', '0.76', '0.70', '0.69', '0.63', '0.62', '0.55', '0.52', '0.48', '0.44', '0.39', '0.37', '0.35']\n"
       ]
      }
     ],
     "prompt_number": 5
    },
    {
     "cell_type": "code",
     "collapsed": false,
     "input": [
      "options = {\"evaluate_verbose\" : True,\n",
      "           \"thumb_strategy\" : lambda n : min(n*1.2, 1.0),\n",
      "           \"neighbor_strategy\" : lambda n : min(n+0.1, 1.0),\n",
      "           \"grid_size\" : (90, 90),\n",
      "            \"grid_margin\" : 25,\n",
      "            \"radius\" : 50,\n",
      "            \"scale_radius\" : 10,\n",
      "            \"thumb_size\" : (250, 250)}\n",
      "results = turntable.evaluate(fastmatch.match, \n",
      "                             (0, 25), \n",
      "                             \"FlowerLamp\", \n",
      "                             numpy.linspace(0.5, 1.2, 15), \n",
      "                             ground_truth = flowerlamp_gt,\n",
      "                             options = options)\n",
      "print(\"Tau:\\t   %s\" % map(lambda n : \"%.2f\" % n, numpy.linspace(0.5, 1.2, 15)))\n",
      "print(\"Correct:   %s\" % map(lambda n : \"%4i\" % n, results[\"correct\"]))\n",
      "print(\"Total:\\t   %s\" % map(lambda n : \"%4i\" % n, results[\"total\"]))\n",
      "print(\"Precision: %s\" % map(lambda n : \"%.2f\" % n, results[\"precision\"]))"
     ],
     "language": "python",
     "metadata": {},
     "outputs": [
      {
       "output_type": "stream",
       "stream": "stdout",
       "text": [
        "matching\n",
        "../../Images/turntable//imageset_1/FlowerLamp/Bottom/img_1-000_08-35-08_0.JPG\n",
        "../../Images/turntable//imageset_1/FlowerLamp/Bottom/img_1-025_08-36-34_0.JPG\n",
        "Tau:\t   ['0.50', '0.55', '0.60', '0.65', '0.70', '0.75', '0.80', '0.85', '0.90', '0.95', '1.00', '1.05', '1.10', '1.15', '1.20']"
       ]
      },
      {
       "output_type": "stream",
       "stream": "stdout",
       "text": [
        "\n",
        "Correct:   ['   3', '   3', '   4', '   4', '   5', '   7', '   7', '  13', '  22', '  32', '  40', '  44', '  54', '  66', '  73']\n",
        "Total:\t   ['   5', '   5', '   6', '   8', '  12', '  22', '  33', '  65', ' 119', ' 185', ' 255', ' 346', ' 470', ' 614', ' 768']\n",
        "Precision: ['0.60', '0.60', '0.67', '0.50', '0.42', '0.32', '0.21', '0.20', '0.18', '0.17', '0.16', '0.13', '0.11', '0.11', '0.10']\n"
       ]
      }
     ],
     "prompt_number": 12
    },
    {
     "cell_type": "code",
     "collapsed": false,
     "input": [
      "options = {\"evaluate_verbose\" : True, \n",
      "           \"distance_threshold\" : 5, \n",
      "           \"thumb_strategy\" : lambda n : min(n*1.2, 0.9),\n",
      "           \"grid_size\" : (75, 75),\n",
      "           \"grid_margin\" : 40,\n",
      "            \"radius\" : 45}\n",
      "results = turntable.evaluate(fastmatch.match, (0, 25), \"FlowerLamp\", numpy.linspace(0.5, 1.2, 15), options = options)\n",
      "accu = numpy.array(results[\"accuracy\"], dtype=numpy.float)\n",
      "print(\"Tau:\\t  %s\" % map(lambda n : \"%.2f\" % n, numpy.linspace(0.5, 1.2, 15)))\n",
      "print(\"Correct:  %s\" % map(lambda n : \"%4i\" % n, results[\"correct\"]))\n",
      "print(\"Total:\\t  %s\" % map(lambda n : \"%4i\" % n, results[\"total\"]))\n",
      "print(\"Accuracy: %s\" % map(lambda n : \"%.2f\" % n, results[\"accuracy\"]))"
     ],
     "language": "python",
     "metadata": {},
     "outputs": [
      {
       "output_type": "stream",
       "stream": "stdout",
       "text": [
        "matching\n",
        "../../Images/turntable//imageset_1/FlowerLamp/Bottom/img_1-000_08-35-08_0.JPG\n",
        "../../Images/turntable//imageset_1/FlowerLamp/Bottom/img_1-025_08-36-34_0.JPG\n",
        "Tau:\t  ['0.50', '0.55', '0.60', '0.65', '0.70', '0.75', '0.80', '0.85', '0.90', '0.95', '1.00', '1.05', '1.10', '1.15', '1.20']"
       ]
      },
      {
       "output_type": "stream",
       "stream": "stdout",
       "text": [
        "\n",
        "Correct:  ['   1', '   3', '   3', '   3', '   5', '   6', '   9', '  13', '  14', '  22', '  30', '  35', '  46', '  57', ' 111']\n",
        "Total:\t  ['   8', '  13', '  15', '  23', '  32', '  41', '  49', '  69', '  91', ' 175', ' 282', ' 395', ' 655', ' 917', '1698']\n",
        "Accuracy: ['0.12', '0.23', '0.20', '0.13', '0.16', '0.15', '0.18', '0.19', '0.15', '0.13', '0.11', '0.09', '0.07', '0.06', '0.07']\n"
       ]
      }
     ],
     "prompt_number": 20
    },
    {
     "cell_type": "code",
     "collapsed": false,
     "input": [
      "options = {\"evaluate_verbose\" : True, \n",
      "           \"distance_threshold\" : 5, \n",
      "           \"thumb_strategy\" : lambda n : min(n*1.2, 0.9),\n",
      "           \"grid_size\" : (75, 75),\n",
      "           \"grid_margin\" : 40,\n",
      "            \"radius\" : 40}\n",
      "results = turntable.evaluate(fastmatch.match, (0, 25), \"FlowerLamp\", numpy.linspace(0.5, 1.2, 15), options = options)\n",
      "accu = numpy.array(results[\"accuracy\"], dtype=numpy.float)\n",
      "print(\"Tau:\\t  %s\" % map(lambda n : \"%.2f\" % n, numpy.linspace(0.5, 1.2, 15)))\n",
      "print(\"Correct:  %s\" % map(lambda n : \"%4i\" % n, results[\"correct\"]))\n",
      "print(\"Total:\\t  %s\" % map(lambda n : \"%4i\" % n, results[\"total\"]))\n",
      "print(\"Accuracy: %s\" % map(lambda n : \"%.2f\" % n, results[\"accuracy\"]))"
     ],
     "language": "python",
     "metadata": {},
     "outputs": [
      {
       "output_type": "stream",
       "stream": "stdout",
       "text": [
        "matching\n",
        "../../Images/turntable//imageset_1/FlowerLamp/Bottom/img_1-000_08-35-08_0.JPG\n",
        "../../Images/turntable//imageset_1/FlowerLamp/Bottom/img_1-025_08-36-34_0.JPG\n",
        "Tau:\t  ['0.50', '0.55', '0.60', '0.65', '0.70', '0.75', '0.80', '0.85', '0.90', '0.95', '1.00', '1.05', '1.10', '1.15', '1.20']"
       ]
      },
      {
       "output_type": "stream",
       "stream": "stdout",
       "text": [
        "\n",
        "Correct:  ['   1', '   3', '   3', '   3', '   5', '   6', '   8', '  12', '  13', '  22', '  28', '  31', '  41', '  52', '  59']\n",
        "Total:\t  ['   8', '  11', '  12', '  17', '  22', '  32', '  41', '  54', '  72', ' 142', ' 220', ' 327', ' 493', ' 756', '1087']\n",
        "Accuracy: ['0.12', '0.27', '0.25', '0.18', '0.23', '0.19', '0.20', '0.22', '0.18', '0.15', '0.13', '0.09', '0.08', '0.07', '0.05']\n"
       ]
      }
     ],
     "prompt_number": 21
    },
    {
     "cell_type": "code",
     "collapsed": false,
     "input": [
      "options = {\"evaluate_verbose\" : True, \n",
      "           \"distance_threshold\" : 5, \n",
      "           \"thumb_strategy\" : lambda n : min(n*1.2, 0.9),\n",
      "           \"grid_size\" : (75, 75),\n",
      "           \"grid_margin\" : 40,\n",
      "            \"radius\" : 35}\n",
      "results = turntable.evaluate(fastmatch.match, (0, 25), \"FlowerLamp\", numpy.linspace(0.5, 1.2, 15), options = options)\n",
      "accu = numpy.array(results[\"accuracy\"], dtype=numpy.float)\n",
      "print(\"Tau:\\t  %s\" % map(lambda n : \"%.2f\" % n, numpy.linspace(0.5, 1.2, 15)))\n",
      "print(\"Correct:  %s\" % map(lambda n : \"%4i\" % n, results[\"correct\"]))\n",
      "print(\"Total:\\t  %s\" % map(lambda n : \"%4i\" % n, results[\"total\"]))\n",
      "print(\"Accuracy: %s\" % map(lambda n : \"%.2f\" % n, results[\"accuracy\"]))"
     ],
     "language": "python",
     "metadata": {},
     "outputs": [
      {
       "output_type": "stream",
       "stream": "stdout",
       "text": [
        "matching\n",
        "../../Images/turntable//imageset_1/FlowerLamp/Bottom/img_1-000_08-35-08_0.JPG\n",
        "../../Images/turntable//imageset_1/FlowerLamp/Bottom/img_1-025_08-36-34_0.JPG\n",
        "Tau:\t  ['0.50', '0.55', '0.60', '0.65', '0.70', '0.75', '0.80', '0.85', '0.90', '0.95', '1.00', '1.05', '1.10', '1.15', '1.20']"
       ]
      },
      {
       "output_type": "stream",
       "stream": "stdout",
       "text": [
        "\n",
        "Correct:  ['   1', '   3', '   3', '   3', '   4', '   5', '   7', '  10', '   9', '  15', '  20', '  25', '  31', '  38', '  50']\n",
        "Total:\t  ['   7', '  10', '  10', '  14', '  17', '  25', '  32', '  40', '  56', ' 105', ' 165', ' 240', ' 300', ' 484', ' 705']\n",
        "Accuracy: ['0.14', '0.30', '0.30', '0.21', '0.24', '0.20', '0.22', '0.25', '0.16', '0.14', '0.12', '0.10', '0.10', '0.08', '0.07']\n"
       ]
      }
     ],
     "prompt_number": 23
    },
    {
     "cell_type": "code",
     "collapsed": false,
     "input": [
      "options = {\"evaluate_verbose\" : True, \n",
      "           \"distance_threshold\" : 5, \n",
      "           \"thumb_strategy\" : lambda n : min(n*1.2, 0.9),\n",
      "           \"grid_size\" : (75, 75),\n",
      "           \"grid_margin\" : 40,\n",
      "            \"radius\" : 30}\n",
      "turntable.evaluate(fastmatch.match, (0, 25), \"FlowerLamp\", numpy.linspace(0.5, 1.2, 20), options)\n",
      "#profile.run('turntable.evaluate(fastmatch.match, (0, 25), \"FlowerLamp\", numpy.linspace(0.5, 1.2, 20), options)')"
     ],
     "language": "python",
     "metadata": {},
     "outputs": [
      {
       "metadata": {},
       "output_type": "pyout",
       "prompt_number": 24,
       "text": [
        "{'accuracy': array([ 0.        ,  0.16666667,  0.15      ,  0.13043478,  0.09677419,\n",
        "         0.07692308,  0.06382979,  0.05769231,  0.07936508,  0.12195122,\n",
        "         0.11764706,  0.15263158,  0.14956012,  0.12698413,  0.11229135,\n",
        "         0.09453303,  0.07594937,  0.06696147,  0.05642317,  0.05196982]),\n",
        " 'correct': array([  0,   3,   3,   3,   3,   3,   3,   3,   5,  10,  12,  29,  51,\n",
        "         64,  74,  83,  90, 106, 112, 124]),\n",
        " 'total': array([  11,   18,   20,   23,   31,   39,   47,   52,   63,   82,  102,\n",
        "         190,  341,  504,  659,  878, 1185, 1583, 1985, 2386])}"
       ]
      }
     ],
     "prompt_number": 24
    },
    {
     "cell_type": "code",
     "collapsed": false,
     "input": [
      "{ \"a\" : 1, \"b\" : 2}.values()"
     ],
     "language": "python",
     "metadata": {},
     "outputs": [
      {
       "metadata": {},
       "output_type": "pyout",
       "prompt_number": 325,
       "text": [
        "[1, 2]"
       ]
      }
     ],
     "prompt_number": 325
    }
   ],
   "metadata": {}
  }
 ]
}