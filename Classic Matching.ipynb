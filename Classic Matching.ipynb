{
 "metadata": {
  "name": "",
  "signature": "sha256:aea6a01924c9c79ca92d350fd4f521d385b48a1c3f950c47d1f0f481359a2fa3"
 },
 "nbformat": 3,
 "nbformat_minor": 0,
 "worksheets": [
  {
   "cells": [
    {
     "cell_type": "code",
     "collapsed": false,
     "input": [
      "%load_ext autoreload\n",
      "%autoreload 2"
     ],
     "language": "python",
     "metadata": {},
     "outputs": [],
     "prompt_number": 1
    },
    {
     "cell_type": "code",
     "collapsed": false,
     "input": [
      "from cache import Metric_Cache\n",
      "from matchutil import get_features, flann_match\n",
      "import cv2\n",
      "import figures\n",
      "from imaging import get_thumbnail, open_img, get_size\n",
      "import profile"
     ],
     "language": "python",
     "metadata": {},
     "outputs": [],
     "prompt_number": 31
    },
    {
     "cell_type": "code",
     "collapsed": false,
     "input": [
      "target_path = \"../../Images/turntable//imageset_1/FlowerLamp/Bottom/img_1-000_08-35-08_0.JPG\"\n",
      "query_path = \"../../Images/turntable//imageset_1/FlowerLamp/Bottom/img_1-025_08-36-34_0.JPG\"\n",
      "query_cache = Metric_Cache(query_path)\n",
      "target_img = open_img(target_path)\n",
      "query_img = open_img(query_path)\n",
      "#query_cache.original"
     ],
     "language": "python",
     "metadata": {},
     "outputs": [],
     "prompt_number": 25
    },
    {
     "cell_type": "code",
     "collapsed": false,
     "input": [
      "def match_bf(query_cache, im_target) :\n",
      "    t_keypoints, t_descriptors = get_features(im_target)\n",
      "    q_descriptors = query_cache.original[\"descriptors\"]\n",
      "    \n",
      "    matcher = cv2.BFMatcher(cv2.NORM_L2, crossCheck=False)\n",
      "    matches = [m for m in matcher.knnMatch(q_descriptors, t_descriptors, k=2) if len(m) > 0]\n",
      "    ratios = numpy.array([m[0].distance / m[1].distance for m in matches])\n",
      "    \n",
      "    q_pos = query_cache.original[\"positions\"]\n",
      "    t_pos = numpy.array([t_keypoints[m[0].trainIdx].pt for m in matches])\n",
      "    \n",
      "    positions = numpy.array(zip(q_pos, t_pos))\n",
      "    indices = numpy.argsort(ratios)\n",
      "    \n",
      "    return positions[indices], ratios[indices]\n",
      "\n",
      "positions_bf, ratios_bf = match_bf(query_cache, im_target)\n",
      "%timeit match_bf(query_cache, target_img)"
     ],
     "language": "python",
     "metadata": {},
     "outputs": [
      {
       "output_type": "stream",
       "stream": "stdout",
       "text": [
        "1 loops, best of 3: 1.5 s per loop\n"
       ]
      }
     ],
     "prompt_number": 29
    },
    {
     "cell_type": "code",
     "collapsed": false,
     "input": [
      "def match_flann(im_query, im_target, options = {}) :\n",
      "    t_keypoints, t_descriptors = get_features(im_target)\n",
      "    q_descriptors = query_cache.original[\"descriptors\"]\n",
      "    \n",
      "    matches = flann_match(q_descriptors, t_descriptors, k=2, options = options)\n",
      "    ratios = numpy.array([m[0].distance / m[1].distance for m in matches])\n",
      "    \n",
      "    q_pos = query_cache.original[\"positions\"]\n",
      "    t_pos = numpy.array([t_keypoints[m[0].trainIdx].pt for m in matches])\n",
      "    \n",
      "    positions = numpy.array(zip(q_pos, t_pos))\n",
      "    indices = numpy.argsort(ratios)\n",
      "    \n",
      "    return positions[indices], ratios[indices]\n",
      "options = {\n",
      "    \"algorithm\" : 1,\n",
      "    \"trees\" : 8,\n",
      "    \"checks\" : 400\n",
      "}\n",
      "#positions_flann, ratios_flann = match_flann(query_cache, im_target, options)\n",
      "profile.run('match_flann(query_cache, target_img)')"
     ],
     "language": "python",
     "metadata": {},
     "outputs": [
      {
       "output_type": "stream",
       "stream": "stdout",
       "text": [
        "         19 function calls in 1.573 seconds\n",
        "\n",
        "   Ordered by: standard name\n",
        "\n",
        "   ncalls  tottime  percall  cumtime  percall filename:lineno(function)\n",
        "        1    0.000    0.000    0.000    0.000 :0(FlannBasedMatcher)\n",
        "        1    0.000    0.000    0.000    0.000 :0(SIFT)\n",
        "        1    0.000    0.000    0.000    0.000 :0(argsort)\n",
        "        3    0.001    0.000    0.001    0.000 :0(array)\n",
        "        1    1.491    1.491    1.491    1.491 :0(detectAndCompute)\n",
        "        3    0.000    0.000    0.000    0.000 :0(get)\n",
        "        1    0.080    0.080    0.080    0.080 :0(knnMatch)\n",
        "        1    0.000    0.000    0.000    0.000 :0(setprofile)\n",
        "        1    0.000    0.000    0.000    0.000 :0(zip)\n",
        "        1    0.001    0.001    1.573    1.573 <ipython-input-32-460e0ecdcbde>:1(match_flann)\n",
        "        1    0.000    0.000    1.573    1.573 <string>:1(<module>)\n",
        "        1    0.000    0.000    0.000    0.000 fromnumeric.py:792(argsort)\n",
        "        1    0.000    0.000    1.491    1.491 matchutil.py:22(get_features)\n",
        "        1    0.000    0.000    0.080    0.080 matchutil.py:39(flann_match)\n",
        "        1    0.000    0.000    1.573    1.573 profile:0(match_flann(query_cache, target_img))\n",
        "        0    0.000             0.000          profile:0(profiler)\n",
        "\n",
        "\n"
       ]
      }
     ],
     "prompt_number": 32
    }
   ],
   "metadata": {}
  }
 ]
}